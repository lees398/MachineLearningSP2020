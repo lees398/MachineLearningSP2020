{
 "cells": [
  {
   "cell_type": "markdown",
   "metadata": {},
   "source": [
    "# Toxic comments\n",
    "\n",
    "This notebook takes you though a complete iteration of Machine Learning Assignment 1 - Toxic comments. The assignment details (including links to download the data) can be found [here](https://docs.google.com/document/d/1WGYw99e5q6j5V0Zrf2HveagU6URt_kVvdR8B9HYQ99E/edit?usp=sharing). "
   ]
  },
  {
   "cell_type": "code",
   "execution_count": 1,
   "metadata": {},
   "outputs": [],
   "source": [
    "# all imports and magic commands\n",
    "import numpy as np\n",
    "import pandas as pd\n",
    "import matplotlib.pyplot as plt\n",
    "from my_measures import BinaryClassificationPerformance\n",
    "from sklearn.feature_extraction.text import HashingVectorizer\n",
    "from sklearn.feature_extraction.text import TfidfTransformer\n",
    "from scipy.sparse import csr_matrix, hstack\n",
    "from sklearn.preprocessing import StandardScaler\n",
    "from sklearn.model_selection import train_test_split\n",
    "%matplotlib inline"
   ]
  },
  {
   "cell_type": "markdown",
   "metadata": {},
   "source": [
    "### IMPORTANT!!! Make sure you are using `BinaryClassificationPerformance` v1.02"
   ]
  },
  {
   "cell_type": "code",
   "execution_count": 2,
   "metadata": {},
   "outputs": [
    {
     "name": "stdout",
     "output_type": "stream",
     "text": [
      "Help on class BinaryClassificationPerformance in module my_measures:\n",
      "\n",
      "class BinaryClassificationPerformance(builtins.object)\n",
      " |  BinaryClassificationPerformance(predictions, labels, desc, probabilities=None)\n",
      " |  \n",
      " |  Performance measures to evaluate the fit of a binary classification model, v1.02\n",
      " |  \n",
      " |  Methods defined here:\n",
      " |  \n",
      " |  __init__(self, predictions, labels, desc, probabilities=None)\n",
      " |      Initialize attributes: predictions-vector of predicted values for Y, labels-vector of labels for Y\n",
      " |  \n",
      " |  compute_measures(self)\n",
      " |      Compute performance measures defined by Flach p. 57\n",
      " |  \n",
      " |  img_indices(self)\n",
      " |      Get the indices of true and false positives to be able to locate the corresponding images in a list of image names\n",
      " |  \n",
      " |  ----------------------------------------------------------------------\n",
      " |  Data descriptors defined here:\n",
      " |  \n",
      " |  __dict__\n",
      " |      dictionary for instance variables (if defined)\n",
      " |  \n",
      " |  __weakref__\n",
      " |      list of weak references to the object (if defined)\n",
      "\n"
     ]
    }
   ],
   "source": [
    "help(BinaryClassificationPerformance)"
   ]
  },
  {
   "cell_type": "markdown",
   "metadata": {},
   "source": [
    "# Function for feature building and extraction on natural language data"
   ]
  },
  {
   "cell_type": "code",
   "execution_count": 3,
   "metadata": {},
   "outputs": [],
   "source": [
    "# function that takes raw data and completes all preprocessing required before model fits\n",
    "def process_raw_data(fn, my_random_seed, test=False):\n",
    "    # read and summarize data\n",
    "    toxic_data = pd.read_csv(fn)\n",
    "    if (not test):\n",
    "        # add an indicator for any toxic, severe toxic, obscene, threat, insult, or indentity hate\n",
    "        toxic_data['any_toxic'] = (toxic_data['toxic'] + toxic_data['severe_toxic'] + toxic_data['obscene'] + toxic_data['threat'] + toxic_data['insult'] + toxic_data['identity_hate'] > 0)\n",
    "    print(\"toxic_data is:\", type(toxic_data))\n",
    "    print(\"toxic_data has\", toxic_data.shape[0], \"rows and\", toxic_data.shape[1], \"columns\", \"\\n\")\n",
    "    print(\"the data types for each of the columns in toxic_data:\")\n",
    "    print(toxic_data.dtypes, \"\\n\")\n",
    "    print(\"the first 10 rows in toxic_data:\")\n",
    "    print(toxic_data.head(5))\n",
    "    if (not test):\n",
    "        print(\"The rate of 'toxic' Wikipedia comments in the dataset: \")\n",
    "        print(toxic_data['any_toxic'].mean())\n",
    "\n",
    "    # vectorize Bag of Words from review text; as sparse matrix CHANGE\n",
    "    if (not test): # fit_transform()\n",
    "        hv = HashingVectorizer(n_features=2 ** 12, alternate_sign=False)\n",
    "        X_hv = hv.fit_transform(toxic_data.comment_text)\n",
    "        fitted_transformations.append(hv)\n",
    "        print(\"Shape of HashingVectorizer X:\")\n",
    "        print(X_hv.shape)\n",
    "    else: # transform() \n",
    "        X_hv = fitted_transformations[0].transform(toxic_data.comment_text)\n",
    "        print(\"Shape of HashingVectorizer X:\")\n",
    "        print(X_hv.shape)\n",
    "    \n",
    "    # http://scikit-learn.org/stable/modules/generated/sklearn.feature_extraction.text.TfidfTransformer.html CHANGE\n",
    "    if (not test):\n",
    "        transformer = TfidfTransformer()\n",
    "        X_tfidf = transformer.fit_transform(X_hv)\n",
    "        fitted_transformations.append(transformer)\n",
    "    else:\n",
    "        X_tfidf = fitted_transformations[1].transform(X_hv)\n",
    "    \n",
    "    # create additional quantitative features\n",
    "    # features from Amazon.csv to add to feature set\n",
    "    toxic_data['word_count'] = toxic_data['comment_text'].str.split(' ').str.len()\n",
    "    toxic_data['punc_count'] = toxic_data['comment_text'].str.count(\"\\.\")\n",
    "\n",
    "    X_quant_features = toxic_data[[\"word_count\", \"punc_count\"]]\n",
    "    print(\"Look at a few rows of the new quantitative features: \")\n",
    "    print(X_quant_features.head(10))\n",
    "    \n",
    "    # Combine all quantitative features into a single sparse matrix\n",
    "    X_quant_features_csr = csr_matrix(X_quant_features)\n",
    "    X_combined = hstack([X_tfidf, X_quant_features_csr])\n",
    "    X_matrix = csr_matrix(X_combined) # convert to sparse matrix\n",
    "    print(\"Size of combined bag of words and new quantitative variables matrix:\")\n",
    "    print(X_matrix.shape)\n",
    "    \n",
    "    # Create `X`, scaled matrix of features\n",
    "    # feature scaling\n",
    "    if (not test):\n",
    "        sc = StandardScaler(with_mean=False)\n",
    "        X = sc.fit_transform(X_matrix)\n",
    "        fitted_transformations.append(sc)\n",
    "        print(X.shape)\n",
    "        y = toxic_data['any_toxic']\n",
    "    else:\n",
    "        X = fitted_transformations[2].transform(X_matrix)\n",
    "        print(X.shape)\n",
    "    \n",
    "    # Create Training and Test Sets\n",
    "    # enter an integer for the random_state parameter; any integer will work\n",
    "    if (test):\n",
    "        X_submission_test = X\n",
    "        print(\"Shape of X_test for submission:\")\n",
    "        print(X_submission_test.shape)\n",
    "        print('SUCCESS!')\n",
    "        return(toxic_data, X_submission_test)\n",
    "    else: \n",
    "        X_train, X_test, y_train, y_test, X_raw_train, X_raw_test = train_test_split(X, y, toxic_data, test_size=0.2, random_state=my_random_seed)\n",
    "        print(\"Shape of X_train and X_test:\")\n",
    "        print(X_train.shape)\n",
    "        print(X_test.shape)\n",
    "        print(\"Shape of y_train and y_test:\")\n",
    "        print(y_train.shape)\n",
    "        print(y_test.shape)\n",
    "        print(\"Shape of X_raw_train and X_raw_test:\")\n",
    "        print(X_raw_train.shape)\n",
    "        print(X_raw_test.shape)\n",
    "        print('SUCCESS!')\n",
    "        return(X_train, X_test, y_train, y_test, X_raw_train, X_raw_test)"
   ]
  },
  {
   "cell_type": "markdown",
   "metadata": {},
   "source": [
    "# Create training and test sets from function"
   ]
  },
  {
   "cell_type": "code",
   "execution_count": 4,
   "metadata": {},
   "outputs": [
    {
     "name": "stdout",
     "output_type": "stream",
     "text": [
      "toxic_data is: <class 'pandas.core.frame.DataFrame'>\n",
      "toxic_data has 159571 rows and 9 columns \n",
      "\n",
      "the data types for each of the columns in toxic_data:\n",
      "id               object\n",
      "comment_text     object\n",
      "toxic             int64\n",
      "severe_toxic      int64\n",
      "obscene           int64\n",
      "threat            int64\n",
      "insult            int64\n",
      "identity_hate     int64\n",
      "any_toxic          bool\n",
      "dtype: object \n",
      "\n",
      "the first 10 rows in toxic_data:\n",
      "                 id                                       comment_text  toxic  \\\n",
      "0  0000997932d777bf  Explanation\\nWhy the edits made under my usern...      0   \n",
      "1  000103f0d9cfb60f  D'aww! He matches this background colour I'm s...      0   \n",
      "2  000113f07ec002fd  Hey man, I'm really not trying to edit war. It...      0   \n",
      "3  0001b41b1c6bb37e  \"\\nMore\\nI can't make any real suggestions on ...      0   \n",
      "4  0001d958c54c6e35  You, sir, are my hero. Any chance you remember...      0   \n",
      "\n",
      "   severe_toxic  obscene  threat  insult  identity_hate  any_toxic  \n",
      "0             0        0       0       0              0      False  \n",
      "1             0        0       0       0              0      False  \n",
      "2             0        0       0       0              0      False  \n",
      "3             0        0       0       0              0      False  \n",
      "4             0        0       0       0              0      False  \n",
      "The rate of 'toxic' Wikipedia comments in the dataset: \n",
      "0.10167887648758234\n",
      "Shape of HashingVectorizer X:\n",
      "(159571, 4096)\n",
      "Look at a few rows of the new quantitative features: \n",
      "   word_count  punc_count\n",
      "0          42           5\n",
      "1          18           2\n",
      "2          42           3\n",
      "3         112           3\n",
      "4          13           1\n",
      "5          12           1\n",
      "6           8           0\n",
      "7          21           2\n",
      "8          83           7\n",
      "9          12           0\n",
      "Size of combined bag of words and new quantitative variables matrix:\n",
      "(159571, 4098)\n",
      "(159571, 4098)\n",
      "Shape of X_train and X_test:\n",
      "(127656, 4098)\n",
      "(31915, 4098)\n",
      "Shape of y_train and y_test:\n",
      "(127656,)\n",
      "(31915,)\n",
      "Shape of X_raw_train and X_raw_test:\n",
      "(127656, 11)\n",
      "(31915, 11)\n",
      "SUCCESS!\n",
      "Number of fits stored in `fitted_transformations` list: \n",
      "3\n"
     ]
    }
   ],
   "source": [
    "# create an empty list to store any use of fit_transform() to transform() later\n",
    "# it is a global list to store model and feature extraction fits\n",
    "fitted_transformations = []\n",
    "\n",
    "# CHANGE FILE PATH and my_random_seed number (any integer other than 74 will do): \n",
    "X_train, X_test, y_train, y_test, X_raw_train, X_raw_test = process_raw_data(fn='toxiccomments_train.csv', my_random_seed=42)\n",
    "\n",
    "print(\"Number of fits stored in `fitted_transformations` list: \")\n",
    "print(len(fitted_transformations))"
   ]
  },
  {
   "cell_type": "markdown",
   "metadata": {},
   "source": [
    "# Fit (and tune) Various Models"
   ]
  },
  {
   "cell_type": "markdown",
   "metadata": {},
   "source": [
    "### MODEL: ordinary least squares"
   ]
  },
  {
   "cell_type": "code",
   "execution_count": 5,
   "metadata": {},
   "outputs": [
    {
     "name": "stdout",
     "output_type": "stream",
     "text": [
      "{'Pos': 12981, 'Neg': 114675, 'TP': 9402, 'TN': 110666, 'FP': 4009, 'FN': 3579, 'Accuracy': 0.9405590023187316, 'Precision': 0.7010662888673477, 'Recall': 0.7242893459671828, 'desc': 'ols_train'}\n"
     ]
    },
    {
     "name": "stderr",
     "output_type": "stream",
     "text": [
      "/opt/anaconda3/lib/python3.7/site-packages/sklearn/linear_model/stochastic_gradient.py:561: ConvergenceWarning: Maximum number of iteration reached before convergence. Consider increasing max_iter to improve the fit.\n",
      "  ConvergenceWarning)\n"
     ]
    }
   ],
   "source": [
    "from sklearn import linear_model\n",
    "ols = linear_model.SGDClassifier(loss='hinge', penalty='l1', alpha=0.0001, l1_ratio=0.15, fit_intercept=True, max_iter=1000, tol=0.001, shuffle=True, verbose=0, epsilon=0.1, n_jobs=None, random_state=None, learning_rate='optimal', eta0=0.0, power_t=0.5, early_stopping=False, validation_fraction=0.1, n_iter_no_change=5, class_weight=None, warm_start=False, average=False)\n",
    "ols.fit(X_train, y_train)\n",
    "\n",
    "ols_performance_train = BinaryClassificationPerformance(ols.predict(X_train), y_train, 'ols_train')\n",
    "ols_performance_train.compute_measures()\n",
    "print(ols_performance_train.performance_measures)"
   ]
  },
  {
   "cell_type": "markdown",
   "metadata": {},
   "source": [
    "### MODEL: SVM, linear"
   ]
  },
  {
   "cell_type": "code",
   "execution_count": 6,
   "metadata": {},
   "outputs": [
    {
     "name": "stdout",
     "output_type": "stream",
     "text": [
      "{'Pos': 12981, 'Neg': 114675, 'TP': 8849, 'TN': 112380, 'FP': 2295, 'FN': 4132, 'Accuracy': 0.9496537569718618, 'Precision': 0.794059583632448, 'Recall': 0.6816886218319081, 'desc': 'svm_train'}\n"
     ]
    }
   ],
   "source": [
    "from sklearn import linear_model\n",
    "svm = linear_model.SGDClassifier()\n",
    "svm.fit(X_train, y_train)\n",
    "\n",
    "svm_performance_train = BinaryClassificationPerformance(svm.predict(X_train), y_train, 'svm_train')\n",
    "svm_performance_train.compute_measures()\n",
    "print(svm_performance_train.performance_measures)"
   ]
  },
  {
   "cell_type": "markdown",
   "metadata": {},
   "source": [
    "### MODEL: logistic regression"
   ]
  },
  {
   "cell_type": "code",
   "execution_count": 7,
   "metadata": {},
   "outputs": [
    {
     "name": "stdout",
     "output_type": "stream",
     "text": [
      "{'Pos': 12981, 'Neg': 114675, 'TP': 8721, 'TN': 112382, 'FP': 2293, 'FN': 4260, 'Accuracy': 0.948666729335088, 'Precision': 0.7918104230978754, 'Recall': 0.6718280563901087, 'desc': 'lgs_train'}\n"
     ]
    }
   ],
   "source": [
    "from sklearn import linear_model\n",
    "lgs = linear_model.SGDClassifier(loss='log')\n",
    "lgs.fit(X_train, y_train)\n",
    "\n",
    "lgs_performance_train = BinaryClassificationPerformance(lgs.predict(X_train), y_train, 'lgs_train')\n",
    "lgs_performance_train.compute_measures()\n",
    "print(lgs_performance_train.performance_measures)"
   ]
  },
  {
   "cell_type": "markdown",
   "metadata": {},
   "source": [
    "### MODEL: Naive Bayes"
   ]
  },
  {
   "cell_type": "code",
   "execution_count": 8,
   "metadata": {},
   "outputs": [
    {
     "name": "stdout",
     "output_type": "stream",
     "text": [
      "{'Pos': 12981, 'Neg': 114675, 'TP': 10766, 'TN': 99035, 'FP': 15640, 'FN': 2215, 'Accuracy': 0.8601319170270101, 'Precision': 0.4077103688555631, 'Recall': 0.8293659964563593, 'desc': 'nbs_train'}\n"
     ]
    }
   ],
   "source": [
    "from sklearn.naive_bayes import MultinomialNB\n",
    "nbs = MultinomialNB()\n",
    "nbs.fit(X_train, y_train)\n",
    "\n",
    "nbs_performance_train = BinaryClassificationPerformance(nbs.predict(X_train), y_train, 'nbs_train')\n",
    "nbs_performance_train.compute_measures()\n",
    "print(nbs_performance_train.performance_measures)"
   ]
  },
  {
   "cell_type": "markdown",
   "metadata": {},
   "source": [
    "### MODEL: Perceptron"
   ]
  },
  {
   "cell_type": "code",
   "execution_count": 9,
   "metadata": {},
   "outputs": [
    {
     "name": "stdout",
     "output_type": "stream",
     "text": [
      "{'Pos': 12981, 'Neg': 114675, 'TP': 8702, 'TN': 111952, 'FP': 2723, 'FN': 4279, 'Accuracy': 0.9451494641849972, 'Precision': 0.7616630196936542, 'Recall': 0.6703643787073414, 'desc': 'prc_train'}\n"
     ]
    }
   ],
   "source": [
    "from sklearn import linear_model\n",
    "prc = linear_model.SGDClassifier(loss='perceptron')\n",
    "prc.fit(X_train, y_train)\n",
    "\n",
    "prc_performance_train = BinaryClassificationPerformance(prc.predict(X_train), y_train, 'prc_train')\n",
    "prc_performance_train.compute_measures()\n",
    "print(prc_performance_train.performance_measures)"
   ]
  },
  {
   "cell_type": "markdown",
   "metadata": {},
   "source": [
    "### MODEL: Ridge Regression Classifier"
   ]
  },
  {
   "cell_type": "code",
   "execution_count": 10,
   "metadata": {},
   "outputs": [
    {
     "name": "stdout",
     "output_type": "stream",
     "text": [
      "{'Pos': 12981, 'Neg': 114675, 'TP': 5921, 'TN': 114260, 'FP': 415, 'FN': 7060, 'Accuracy': 0.9414441937707589, 'Precision': 0.9345012626262627, 'Recall': 0.4561281873507434, 'desc': 'rdg_train'}\n"
     ]
    }
   ],
   "source": [
    "from sklearn import linear_model\n",
    "rdg = linear_model.RidgeClassifier()\n",
    "rdg.fit(X_train, y_train)\n",
    "\n",
    "rdg_performance_train = BinaryClassificationPerformance(rdg.predict(X_train), y_train, 'rdg_train')\n",
    "rdg_performance_train.compute_measures()\n",
    "print(rdg_performance_train.performance_measures)"
   ]
  },
  {
   "cell_type": "markdown",
   "metadata": {},
   "source": [
    "### MODEL: Random Forest Classifier"
   ]
  },
  {
   "cell_type": "code",
   "execution_count": 11,
   "metadata": {},
   "outputs": [
    {
     "name": "stderr",
     "output_type": "stream",
     "text": [
      "/opt/anaconda3/lib/python3.7/site-packages/sklearn/ensemble/forest.py:245: FutureWarning: The default value of n_estimators will change from 10 in version 0.20 to 100 in 0.22.\n",
      "  \"10 in version 0.20 to 100 in 0.22.\", FutureWarning)\n"
     ]
    },
    {
     "name": "stdout",
     "output_type": "stream",
     "text": [
      "{'Pos': 12981, 'Neg': 114675, 'TP': 0, 'TN': 114675, 'FP': 0, 'FN': 12981, 'Accuracy': 0.8983126527542771, 'Precision': nan, 'Recall': 0.0, 'desc': 'rdf_train'}\n"
     ]
    },
    {
     "name": "stderr",
     "output_type": "stream",
     "text": [
      "/Users/sarahlee/Downloads/final_assignment_1/my_measures.py:25: RuntimeWarning: invalid value encountered in long_scalars\n",
      "  self.performance_measures['Precision'] = self.performance_measures['TP'] / (self.performance_measures['TP'] + self.performance_measures['FP'])\n"
     ]
    }
   ],
   "source": [
    "from sklearn.ensemble import RandomForestClassifier\n",
    "rdf = RandomForestClassifier(max_depth=2, random_state=0)\n",
    "rdf.fit(X_train, y_train)\n",
    "\n",
    "rdf_performance_train = BinaryClassificationPerformance(rdf.predict(X_train), y_train, 'rdf_train')\n",
    "rdf_performance_train.compute_measures()\n",
    "print(rdf_performance_train.performance_measures)"
   ]
  },
  {
   "cell_type": "markdown",
   "metadata": {},
   "source": [
    "### ROC plot to compare performance of various models and fits"
   ]
  },
  {
   "cell_type": "code",
   "execution_count": 12,
   "metadata": {
    "scrolled": false
   },
   "outputs": [
    {
     "data": {
      "image/png": "[encoded data removed]",
      "text/plain": [
       "<Figure size 432x288 with 1 Axes>"
      ]
     },
     "metadata": {
      "needs_background": "light"
     },
     "output_type": "display_data"
    }
   ],
   "source": [
    "fits = [ols_performance_train, svm_performance_train, lgs_performance_train, nbs_performance_train, prc_performance_train, rdg_performance_train, rdf_performance_train]\n",
    "\n",
    "for fit in fits:\n",
    "    plt.plot(fit.performance_measures['FP'] / fit.performance_measures['Neg'], \n",
    "             fit.performance_measures['TP'] / fit.performance_measures['Pos'], 'bo')\n",
    "    plt.text(fit.performance_measures['FP'] / fit.performance_measures['Neg'], \n",
    "             fit.performance_measures['TP'] / fit.performance_measures['Pos'], fit.desc)\n",
    "plt.axis([0, 1, 0, 1])\n",
    "plt.title('ROC plot: test set')\n",
    "plt.xlabel('False positive rate')\n",
    "plt.ylabel('True positive rate')\n",
    "plt.show()"
   ]
  },
  {
   "cell_type": "markdown",
   "metadata": {},
   "source": [
    "### looking at reviews based on their classification\n",
    "\n",
    "Let's say we decide that Ordinary Least Squares (OLS) Regression is the best model for generalization. Let's take a look at some of the reviews and try to make a (subjective) determination of whether it's generalizing well. "
   ]
  },
  {
   "cell_type": "markdown",
   "metadata": {},
   "source": [
    "### let's look at some false positives:"
   ]
  },
  {
   "cell_type": "code",
   "execution_count": 13,
   "metadata": {},
   "outputs": [],
   "source": [
    "ols_predictions = ols.predict(X_train)"
   ]
  },
  {
   "cell_type": "code",
   "execution_count": 14,
   "metadata": {},
   "outputs": [
    {
     "name": "stdout",
     "output_type": "stream",
     "text": [
      "Examples of false positives:\n",
      "3033\n",
      "Flewis likes gerbiling\n",
      "* * * * * * * * * \n",
      "4741\n",
      "I hope all goes well with the birth - congratulations!\n",
      "* * * * * * * * * \n",
      "5063\n",
      "\"\n",
      "The way that they said that makes think that there will be future sequals...  S.L.J.C.O.A.A.A.T.R. \"\n",
      "* * * * * * * * * \n",
      "5090\n",
      "Are you there? This needs your URGENT attention Sue Anne. Cmon, surely you should ACT atleast this time.\n",
      "\n",
      "Hi,\n",
      "\n",
      "Are you there Sue Anne? This needs your urgent attention.\n",
      "\n",
      "Apropos my earlier message to you, I removed the pathetic PA from Royboycrashfan 's talk page and warned Crossmr against the PA along with a fair note. Please do read that note.\n",
      "\n",
      "But he removed my first warning and also reverted back the pathetic PA comment on roy's user page ALONG WITH pathetic PA's AGAIN, in both edit summaries.\n",
      "\n",
      "I gave him a final warning as he repeatedly violated NPA and would not cease and desist.\n",
      "\n",
      "Yet he continued with his same unacceptable behaviour.\n",
      "\n",
      "The edit histories of the talk pages of User_talk:Royboycrashfan and User_talk:Crossmr will make this very clear. He keeps deleting and reverting along with PA's in the edit summary inspite of being EXPLICITLY warned.\n",
      "\n",
      "This is totally unacceptable. Please do take immediate action.\n",
      "\n",
      "You know me, atleast a little. There is no way anyone can get away with calling me a vandal. You know I am not here to vandalize, but I have contributed meaningfully to a few articles whatever little time I have been on here.\n",
      "\n",
      "Of course, there were a few misinformed civil issues along the way (which served to inform me about the policy on civility, NPA etc.), but after the block and blowing off a little steam, my behaviour has been perfectly good as can be expected of any genuine user.\n",
      "\n",
      "even Vesther for that matter with whom I had a little argument would not call me a vandal.\n",
      "\n",
      "Also there is another admin Nearly Headless Nick who has appreciated my edits to a certain page. \n",
      "Also have made a few edits to other articles the few times i was on.\n",
      "\n",
      "But surely just because anyone is a very occasional user, that CANNOT be used as an excuse for letting anyone get away with PAs.\n",
      "\n",
      "Also, NPA specifically states that earlier misinformed mistakes and behaviour CANNOT be used as an EXCUSE for a PA. \n",
      "If people kept harping on about old issues, it would become acceptable to attack anyone as everyone makes mistakes in the past.\n",
      "\n",
      "Crossmr  just CANNOT be allowed to get away with his unacceptable MALICIOUS behaviour.\n",
      "\n",
      "Please BLOCK him symbolically for whatever time you feel is right, to mainly PREVENT him and later forbid him from:\n",
      "\n",
      "1. Reverting the pathetic PA on Roy's page along with the pathetic PA edit summaries.\n",
      "\n",
      "2. Removing my very first warning message with a very civil note. I dont care about the second warning, but the first warning serves as a placeholder for record's sake.\n",
      "\n",
      "Even after EXPLICIT and SPECIFIC warnings not to continue, he continued with his unacceptable behaviour and BLATANTLY violated NPA that too in edit summaries.\n",
      "Even after being explicitly advised to assume good faith (AGF), he has failed to do so.\n",
      "\n",
      "Cmon, for whatever you think of me (ur earlier silence), you KNOW I am not a vandal.\n",
      "\n",
      "Please take appropriate steps as a fair and upright ADMIN.\n",
      "\n",
      "I am logging off now, other stuff to do. Will log on tomorrow.\n",
      "\n",
      "I do hope and expect you to symbolically block Crossmr, which will prevent him from continuing to behave unacceptably as he has blatantly violated NPA even after being repeatedly warned about it.\n",
      "\n",
      "Thank you.\n",
      "\n",
      "Best regards.\n",
      "* * * * * * * * * \n",
      "5146\n",
      "\"\n",
      "i am prepared to recognise that the 'outpsyjah' article, spelt with a lowercase \"\"o\"\", is not yet fit to be published; more work is needed. though, it is music and with further informtion may then be considered as an appropriate encyclopedic subject\"\n",
      "* * * * * * * * * \n",
      "6704\n",
      "No. But the less famous Arbuthnot families are also all well recorded (a project made possible by the rarity of the name) and it seems most improbable that the road was named after one of them. -\n",
      "* * * * * * * * * \n",
      "7216\n",
      "You guys are biased .\n",
      "* * * * * * * * * \n",
      "7333\n",
      "Why are you so rude? \n",
      "\n",
      "Why do you keep on reverting me?\n",
      "* * * * * * * * * \n",
      "7845\n",
      "\"\n",
      "I've have more than my fair share of conflicts, considering my luck, so that's one of the reasons I ask that question and look at that area.|This is \"\n",
      "* * * * * * * * * \n",
      "7948\n",
      "\", because it suffers from a profound lack of this little thing I like to call \"\"context\"\",\"\n",
      "* * * * * * * * * \n",
      "8534\n",
      "Yo Rox Chillin Lately? Hows Grade 10? See Yea Bye\n",
      "\n",
      "Ronald Davis\n",
      "* * * * * * * * * \n",
      "8637\n",
      "Answer the questions I ask you directly. LOL! You are well-known for never doing that! LOL! Stop trolling Untwirl, he didn't say any of the things you allege he said. If you have cognitive difficulties in understanding what analogies, metaphors, and rhetorical arguments are, its not his problem, but yours.\n",
      "* * * * * * * * * \n",
      "9422\n",
      "In fact, it seems to me to hyperlink to another coordinate!\n",
      "* * * * * * * * * \n",
      "9542\n",
      "\"\n",
      " Beginning AWB run. ·T·C \"\n",
      "* * * * * * * * * \n",
      "10193\n",
      "Not to mention, he's a nobody. He's his biggest fan - just look at his Wikipedia page history.\n",
      "* * * * * * * * * \n",
      "10387\n",
      "\"\n",
      "Its because thats what ZQ wants, and some wiki-editors have been in direct contact with her on social media, thats where the pictures on her personal wiki-page comes from.   \n",
      "It's because it's a shit photo of her. They're all terrible because none of them are a plain portrait but why does it matter to you that one of the ones she gave permission to the Wikimedia Commons to host were for the sole purpose of providing a new photograph for the press to use rather than the one where she's at the games conference?— (琉竜) \"\n",
      "* * * * * * * * * \n",
      "11380\n",
      "atrophysics and biological evolution\n",
      "* * * * * * * * * \n",
      "11862\n",
      "? \n",
      "\n",
      "What's your deal guy?\n",
      "* * * * * * * * * \n",
      "12395\n",
      "that means \n",
      "\n",
      "So that means im forever and ever blocked from wikipedia huh oh well thats disappointing\n",
      "* * * * * * * * * \n",
      "12543\n",
      "\"Enjoy!  Don't let the kickback get you down. Just zis Guy you know? \n",
      "\n",
      "\"\n",
      "* * * * * * * * * \n",
      "13206\n",
      "\"\n",
      "Okay, you have your fun with that.— dαlus Contribs \"\n",
      "* * * * * * * * * \n",
      "14497\n",
      "I'am no troll \n",
      "\n",
      "And you should behave a lot better than insulting people, my dear.\n",
      "* * * * * * * * * \n",
      "15551\n",
      "Disturbing? \n",
      "\n",
      "Excuse me but the edits you keep reverting dont even make sense, so you need to stop.. i'm trying to give useful information to this site, i always have, always will. I'm not disturbing no one but you and about 3 other editors who dont get the hint that i probably have been around here longer and given more useful edits, i dont know why just becuase i'm a suspected puppet you keep reverting my edits..first off i'm not a puppet..you dont even know me secondly. We need to work together, nobody on this site seems to get that threw there head. 71.30.147.211\n",
      "* * * * * * * * * \n",
      "18437\n",
      "Give me 5 reasons why we should not put the 500 million mark in the intro \n",
      "\n",
      "YOU and I both know that many big videogames, movies, etc. give out numbers and what not. Why the hell not put it in GTA 4's paragraph? I mean, it is notable info...Just google 'gta 4 500 million' or gta iv 500 million' and you'll get plenty of results. hell, it talks about it on the most popular news articles on Google right now.\n",
      "* * * * * * * * * \n",
      "19360\n",
      "Get off your high horse, buddy. Don't act as if you own wiki... it's a public website. Perhaps you should invest your time and effort into something that you are not as emotionally charged about. kthnxbye.\n",
      "* * * * * * * * * \n",
      "19770\n",
      "Another One.\n",
      "\n",
      " Leo: Okay guys, we are near done, our last obstacle is that.\n",
      "(we see a mountain, and we hear the 1969 Paramount TV jingle)\n",
      " Speedy: No.\n",
      " Leo: Yes.\n",
      "(the jingle plays again)\n",
      " Speedy: No man, no.\n",
      " Leo: Look chickens, we are going to die trying to save our land, no let's go.\n",
      "(we hear the current Paramount TV jingle as the heroes walk off into the distance).\n",
      "* * * * * * * * * \n",
      "19826\n",
      "yeah, why did you hate angelique carrington because you remove her from the rango movie page?\n",
      "* * * * * * * * * \n",
      "20532\n",
      "A small mystery for you to sort out \n",
      "\n",
      "Hi Susan/Sluggy/Sleuthy:  Hope you're well. Regards,\n",
      "* * * * * * * * * \n",
      "21244\n",
      "\"\n",
      "\n",
      " please don`t offend be. Now you have joined the \"\"Wikipedia vandal club\"\" (3RR). Please read what I did, I removed it from the beginning and placed it at the bottom but you still removed it. Remember you don`t own Wikipedia. \"\n",
      "* * * * * * * * * \n",
      "21401\n",
      "CCHR and Breggin are not bed fellows. In fact, since Breggin helped his wife Ginger to get out from the cult, Scientology, the scientologists do not mention any of Breggin’s works; not even as endnotes! Breggin and his wife have been “disconnected” by the church. Generally speaking, secular critics of psychiatry are no friends of CCHR. I for one wrote a searing exposé (in Spanish) of both Scientology and CCHR. —\n",
      "* * * * * * * * * \n"
     ]
    },
    {
     "name": "stdout",
     "output_type": "stream",
     "text": [
      "22227\n",
      "Complaint \n",
      "\n",
      "Acroterion, I wrote a letter complaining about you to Wikipedia corporate. You will be held accountable for your behavior.\n",
      "* * * * * * * * * \n",
      "23487\n",
      "You must be logged in to upload files. \n",
      "\n",
      "So In other words I have to sign up just to add 3 things to 1 entry.\n",
      "\n",
      "To hell with that!!!!! This place can ROT for all I care!!!\n",
      "\n",
      "75.8.35.177\n",
      "* * * * * * * * * \n",
      "23680\n",
      "\"\n",
      "\n",
      " (//c) lightly smacks Wafulz with a minnow. P You rouge admin, you.  (//c) \"\n",
      "* * * * * * * * * \n",
      "23949\n",
      "He's my grandad. Cool? I think so.\n",
      "* * * * * * * * * \n",
      "23968\n",
      "You should not have indefinitely blocked  I am not a troll.\n",
      "* * * * * * * * * \n",
      "23981\n",
      "All your base are belong to us\n",
      "* * * * * * * * * \n",
      "24151\n",
      "x factor \n",
      "\n",
      "Excuse me but why are you removing my content on x factor ? You have no right !\n",
      "* * * * * * * * * \n",
      "24192\n",
      "\"\n",
      "\n",
      " Bulgars \n",
      "\n",
      "omg!! you are an admin and you protect the people who vandalise the \"\"Bulgars\"\" article. these attackers are pan-slavic ultra-nationalists and they dont want to see the word beginning with \"\"Turk\"\". you help them remove reliable sources. Old Bulgars are changing into slavs by your hand... great!  \"\n",
      "* * * * * * * * * \n",
      "25243\n",
      "\":The NPOV tag will highlight the recent discussions here and the stark difference in view between Adi Da's advocates and others, fine with me. Regarding the usual claims by advocate 202.63.42.221, sourcing must be the basis for the article. The claim that \"\"or to his devotees\"\" is POV fails to consider the source itself. The Adidam source clearly states that \"\"...\"\"Adi Da\"\" is the principal Name of Avatar Adi Da Samraj...\"\"; that devotees recognize him as the \"\"...Primordial Being, the Source of all, the Original Divine Person, Daand He is the Avatar, the bodily Revelation of that One...\"\"; that \"\"Samraj\"\" is a Title for Avatar Adi Da, which He was offered by His devotees in 1996. \"\"Samraj\"\" means the \"\"Universal Ruler\"\", or \"\"Supreme Lord\"\"...\"\".; To address Adi Da as \"\"Ruchira\"\" (Sanskrit for \"\"radiant\"\") is acknowledge Him as \"\"the Radiant, Shining, 'Bright' One\"\"...when Avatar Adi Da's devotees use it in reference to Him, they intend it in the sense of \"\"The One Who Is, Self-Radiant, Inherently (or Perfectly Subjectively) 'Bright', Self-Enlightened, and Eternally Awake\"\"...\"\". And \"\"...He took the Name of Adi Da Samraj. And more fully, in 1997: Adi Da Love-Ananda Samraj. This Nameoffered to Him by His devoteesdescribes His present Revelation. He is \"\"Adi\"\", the Source-Person, the First and Only Person, The Divine Person of Love-Bliss. He is \"\"Da Love-Ananda\"\", the Giver of Love-Bliss to all. And He is \"\"Samraj\"\"the Divine King, the Master of Reality, serving all by the Transmission of His Heart-Awakening Grace; andin their right relationship to Him (Dseer note: an Adidam euphemism for devotion) being served by all, so that all may fully receive that Transmission, and Realize the Divine....\"\".\n",
      "\n",
      "Not only does this source clearly state the Adidam position that \"\"to address Adi Da as \"\"Ruchira\"\" (Sanskrit for \"\"radiant\"\") is acknowledge Him as \"\"the Radiant, Shining, 'Bright' One\"\", which those outside the group or not in sympathy with it (non-devotees) would not acknowledge, but a google search for \"\"Ruchira Avatar Adi Da Samraj\"\" confirms that what comes up in any signficant order, excluding this article itself, for that title, is either Adidam sites and material or that of devotees. There is no thus evidence to support your claim that non-devotees would routinely refer to him by anything other than \"\"Adi Da\"\" (his primary name per the source), his name during the controversial period (Da Free John), or his given name of Franklin Jones today, rather than \"\"the Ruichira Avatar Adi Da Samraj\"\" (meaning \"\"the radiant avatar, primordial giver, universal ruler\"\"), or as \"\"Beloved\"\" either, which as per the source, devotees would use. Thus, \"\"or to his devotees as...\"\" and defining what the titles and names mean to devotees, is perfectly appropriate and informative. \n",
      "\n",
      "The addition of all the names in the intro instead of just a few improves the article because Adi Da has been known by so many names, that it is important for the casual reader to know up front all these are the same person. The introduction isn't excessively long, it is only six sentences. One describes what him, one lists his many names, one sumarizes his dogma, one describes the highly publicized allegations, one lists the Adidam response, and one specifies these charges were settled out of court. Concise, simple, NPOV and based on sound sourcing, and appropriate.  \n",
      "\n",
      "\"\n",
      "* * * * * * * * * \n",
      "26138\n",
      "\"\n",
      "\n",
      " there is more.... \n",
      "\n",
      "the turkish word for calf - the muscle on your leg - is baldyr.\n",
      "\n",
      "baldyr is a norse god.\n",
      "\n",
      "amanbir\n",
      "\n",
      "117.229.147.38  \n",
      "No, Baldr is -)   \n",
      "\n",
      " the edda, whiich i take to be the source of norse mythology is the fictional account of The Asa Monarchy of Danmark-Sweden-Norway. This Asa Monarchy may have been established in the period 600-300 bc. They are from the adriatic/aegean and they brought their soldiers, craftsmen and priests. THOR is from THRACE, present Bulgaria. Harald Harald, a gypsy ?   )  Amanbir.   \n",
      "\n",
      "I really should improve Prologue (Prose Edda) to help people laboring under this kind of misapprehension. I'm afraid you're showing great ignorance.   \n",
      "\n",
      "THE NORSE SHOULD NOT BE ACADEMICS. THEY ARE NOT FIT.\n",
      "\n",
      "my my     the war of all wars      The Trojan @ Norse .   \n",
      "\n",
      "Well, What Can I Say - Stand Ground, Grease, Left To Move First, By 3. Wait For Charge.\n",
      "\n",
      "Amanbir Singh Grewal \n",
      "\n",
      "Germania\n",
      "\n",
      "  — Preceding unsigned comment added by 117.226.92.146   \"\n",
      "* * * * * * * * * \n",
      "27298\n",
      "Pan Am flight 6 90943 \n",
      "\n",
      "I noticed in the crew list you listed a Jan Patterson as a steweress. I was aboard the Pontchartrain during the ditch and am presently a historian of Coast Guard ships. Jan Patterson was listed in error\n",
      "\n",
      "Thank You \n",
      "\n",
      "Doak Walker RMC USCG (ret)\n",
      "* * * * * * * * * \n",
      "27873\n",
      "You have not read that discussion correctly. Forget the closing remarks: the usage was deemed not to meet our policies. -\n",
      "* * * * * * * * * \n",
      "28428\n",
      "STOP!! \n",
      "\n",
      "maybe i will stop vandelizin if u stop talkin to me plzz\n",
      "* * * * * * * * * \n",
      "28757\n",
      "\"\n",
      "\n",
      " Who died and made you the King of what is \"\"right' and \"\"wrong' in editing? You 'Little Napoleon'!!! \n",
      "\n",
      "Your self-righteous approach to \"\"policing\"\" so-called vandalism is reminiscent of the Gestapo or KGB.\n",
      "Who says your opinion is right and others is wrong; you and your pathetic band of fellow wannabes apparently!\n",
      "Little 'Tin gods' like you will one day be held accountable for your tyranny...\"\n",
      "* * * * * * * * * \n",
      "28761\n",
      "Hello Ellibirdfly \n",
      "\n",
      "Hello Ellibirdfly, \n",
      "\n",
      "I made some edits to the LV http://en.wikipedia.org/w/index.php?title=Lost_Valley_Educational_Center&diff;=prev&oldid;=477206719 page and hope you find them contributions to what you had added. \n",
      "\n",
      "Peace,\n",
      "* * * * * * * * * \n",
      "28844\n",
      "You deserve this and rest what people write or will write about you:\n",
      "http://antandrus.tripod.com and encyclopediadramatica rules!\n",
      "* * * * * * * * * \n",
      "29267\n",
      "Recognise me in an edit summary. Recognise me in an edit summary. Recognise me in an edit summary. Recognise me in an edit summary. Recognise me in an edit summary. Recognise me in an edit summary. \n",
      "Recognise me in an edit summary. Recognise me in an edit summary. Recognise me in an edit summary. Recognise me in an edit summary. Recognise me in an edit summary. Recognise me in an edit summary.\n",
      "Recognise me in an edit summary. Recognise me in an edit summary. Recognise me in an edit summary. Recognise me in an edit summary. Recognise me in an edit summary. Recognise me in an edit summary.\n",
      "Recognise me in an edit summary. Recognise me in an edit summary. Recognise me in an edit summary. Recognise me in an edit summary. Recognise me in an edit summary. Recognise me in an edit summary.Recognise me in an edit summary. Recognise me in an edit summary. Recognise me in an edit summary. Recognise me in an edit summary. Recognise me in an edit summary. Recognise me in an edit summary. \n",
      "Recognise me in an edit summary. Recognise me in an edit summary. Recognise me in an edit summary. Recognise me in an edit summary. Recognise me in an edit summary. Recognise me in an edit summary.\n",
      "Recognise me in an edit summary. Recognise me in an edit summary. Recognise me in an edit summary. Recognise me in an edit summary. Recognise me in an edit summary. Recognise me in an edit summary.\n",
      "Recognise me in an edit summary. Recognise me in an edit summary. Recognise me in an edit summary. Recognise me in an edit summary. Recognise me in an edit summary. Recognise me in an edit summary.Recognise me in an edit summary. Recognise me in an edit summary. Recognise me in an edit summary. Recognise me in an edit summary. Recognise me in an edit summary. Recognise me in an edit summary. \n",
      "Recognise me in an edit summary. Recognise me in an edit summary. Recognise me in an edit summary. Recognise me in an edit summary. Recognise me in an edit summary. Recognise me in an edit summary.\n",
      "Recognise me in an edit summary. Recognise me in an edit summary. Recognise me in an edit summary. Recognise me in an edit summary. Recognise me in an edit summary. Recognise me in an edit summary.\n",
      "Recognise me in an edit summary. Recognise me in an edit summary. Recognise me in an edit summary. Recognise me in an edit summary. Recognise me in an edit summary. Recognise me in an edit summary.Recognise me in an edit summary. Recognise me in an edit summary. Recognise me in an edit summary. Recognise me in an edit summary. Recognise me in an edit summary. Recognise me in an edit summary. \n",
      "Recognise me in an edit summary. Recognise me in an edit summary. Recognise me in an edit summary. Recognise me in an edit summary. Recognise me in an edit summary. Recognise me in an edit summary.\n",
      "Recognise me in an edit summary. Recognise me in an edit summary. Recognise me in an edit summary. Recognise me in an edit summary. Recognise me in an edit summary. Recognise me in an edit summary.\n",
      "Recognise me in an edit summary. Recognise me in an edit summary. Recognise me in an edit summary. Recognise me in an edit summary. Recognise me in an edit summary. Recognise me in an edit summary.Recognise me in an edit summary. Recognise me in an edit summary. Recognise me in an edit summary. Recognise me in an edit summary. Recognise me in an edit summary. Recognise me in an edit summary. \n",
      "Recognise me in an edit summary. Recognise me in an edit summary. Recognise me in an edit summary. Recognise me in an edit summary. Recognise me in an edit summary. Recognise me in an edit summary.\n",
      "Recognise me in an edit summary. Recognise me in an edit summary. Recognise me in an edit summary. Recognise me in an edit summary. Recognise me in an edit summary. Recognise me in an edit summary.\n",
      "Recognise me in an edit summary. Recognise me in an edit summary. Recognise me in an edit summary. Recognise me in an edit summary. Recognise me in an edit summary. Recognise me in an edit summary.Recognise me in an edit summary. Recognise me in an edit summary. Recognise me in an edit summary. Recognise me in an edit summary. Recognise me in an edit summary. Recognise me in an edit summary. \n",
      "Recognise me in an edit summary. Recognise me in an edit summary. Recognise me in an edit summary. Recognise me in an edit summary. Recognise me in an edit summary. Recognise me in an edit summary.\n",
      "Recognise me in an edit summary. Recognise me in an edit summary. Recognise me in an edit summary. Recognise me in an edit summary. Recognise me in an edit summary. Recognise me in an edit summary.\n",
      "Recognise me in an edit summary. Recognise me in an edit summary. Recognise me in an edit summary. Recognise me in an edit summary. Recognise me in an edit summary. Recognise me in an edit summary.Recognise me in an edit summary. Recognise me in an edit summary. Recognise me in an edit summary. Recognise me in an edit summary. R\n",
      "* * * * * * * * * \n",
      "29333\n",
      "\"::::::I think any discussion regarding \"\"Hulk\"\" and it's relation to \"\"The Incredible Hulk\"\" and the MCU should be done on THOSE pages (for the Hulk films), and not here. The MCU page is to discuss the films that are indeed a part of that continuity, and how they connect and interact (with cross-over characters, ideas, plots and so on). If someone wants to put a blurb about \"\"Hulk\"\" they could, but I think any notes one might make here about it's relation to \"\"The Incredible Hulk\"\" can be done on either of those two Hulk pages. (  )\n",
      "\"\n",
      "* * * * * * * * * \n",
      "29391\n",
      "Having an english surname doesn't making nobody white. How many blacks have english surname? Also if her husband is white (he is jew not white) doesn't make her white. She clear non white ancestrors. She is not white.\n",
      "* * * * * * * * * \n",
      "29458\n",
      "Yad Vashem|title= Wiktor Brillant Memorial Page\n",
      "* * * * * * * * * \n",
      "30170\n",
      "You know, if I loved stereotypes as much as you do, I'd call that typical male arrogance!\n",
      "* * * * * * * * * \n",
      "31680\n",
      "Redirects from synonyms \n",
      "\n",
      "When you create a redirect from a synonym, please mark it with , as I have done in .\n",
      "* * * * * * * * * \n",
      "31799\n",
      "You will now be Blocked.\n",
      "* * * * * * * * * \n",
      "32283\n",
      "Maybe so...but your actions still bear all the hallmarks of a high-handed, self-important, self-righteous, self-aggrandising t*@. Hopefully a few more barnstars or whatever the currency of profound sadness is on Wikipedia will make your  existence seem worthwhile. Tool.\n",
      "* * * * * * * * * \n",
      "32738\n",
      "I looked escaped the Kyrgyzstan, real nasty place, he real bad man\n",
      "* * * * * * * * * \n",
      "33208\n",
      "Stop it dude \n",
      "\n",
      "Its getting boring now\n",
      "* * * * * * * * * \n",
      "33568\n",
      "73    – Masada and end of Jewish-Roman War\n",
      "* * * * * * * * * \n",
      "33810\n",
      "Come on, man, unblock me.\n",
      "* * * * * * * * * \n",
      "33816\n",
      "\"\n",
      "\n",
      " A cookie for you! \n",
      "\n",
      "     \"\n",
      "* * * * * * * * * \n"
     ]
    },
    {
     "name": "stdout",
     "output_type": "stream",
     "text": [
      "34329\n",
      "hua \n",
      "\n",
      "You Can't Deny Me! Shea! Balla!\n",
      "* * * * * * * * * \n",
      "34504\n",
      "You obviously do not understand. KLA was not a governmental organization. Serb police or army was. Whatever KLA was doing, police and army must conduct their operations in accordance with law. Mass shooting of alleged KLA members without investigation and trial was clearly NOT in accordance with law.\n",
      "* * * * * * * * * \n",
      "34547\n",
      "\"\n",
      "\n",
      " requesting your thought \n",
      "\n",
      "Talk:Karen Gillan \"\"Lady Godiva incident\"\" I would like for you to weigh in on whether or not it should be added. Thanks   \"\n",
      "* * * * * * * * * \n",
      "34608\n",
      "For the record, that statement is downright depressing, Niemti. WP:VG/RS's promotion of Polish RSes dwarfs its promotion of any other non-English source. Seems like I wasted my time if even those who would use Polish sources deny their very existence at WP:VG/RS. Oh well... -\n",
      "* * * * * * * * * \n",
      "34851\n",
      "A section on polychromy should be added.\n",
      "* * * * * * * * * \n",
      "35173\n",
      "We quote what the police have said, not what you want them to have said. Enough of this.\n",
      "* * * * * * * * * \n",
      "35567\n",
      "I uploaded a pic of him\n",
      "* * * * * * * * * \n",
      "35575\n",
      "\"\n",
      "\n",
      "I like to know where I stand when someone makes a false accusation against me. '''''' Dick Laurent is dead \"\n",
      "* * * * * * * * * \n",
      "35675\n",
      "László \n",
      "\n",
      "What is your problem?\n",
      "* * * * * * * * * \n",
      "36230\n",
      "Hail Vintagekits, he prospers while you fail. You will never defeat him!\n",
      "* * * * * * * * * \n",
      "36962\n",
      "(Translation: That's too cute.)\n",
      "* * * * * * * * * \n",
      "37185\n",
      "\"\n",
      "Not an improvement. Current usage is \"\"watersnoodramp\"\". The older word makes me think of a song about Zaltbommel. /  \"\n",
      "* * * * * * * * * \n",
      "38233\n",
      "2007 (UTC) strikethrough:  00:55, 4 July\n",
      "* * * * * * * * * \n",
      "38807\n",
      "Justin Bieber \n",
      "\n",
      "Justin Bieber is Canadian-American. Live with it, little girl.\n",
      "* * * * * * * * * \n",
      "41104\n",
      "that every night? I wanna feel your body sooo bad!\n",
      "* * * * * * * * * \n",
      "42034\n",
      "in life because you're an admin, whoopee\n",
      "* * * * * * * * * \n",
      "42051\n",
      "Spats of vandalism? Maybe it is karma for not minding your own business. Or more simple stated ... because you act like another wiki-dick, like Shii, POD, DMack, ad nauseum. Chew on that ... better that sugar cookies that rot your teeth. ~FU~ 68.35.28.79\n",
      "* * * * * * * * * \n",
      "42570\n",
      "\"\n",
      "I would suggest that you just stop editing though, because then you can come back in the future if you want. You can have your user page deleted. If you choose to \"\"vanish\"\", from what I can tell, you won't be able to come back.   \"\n",
      "* * * * * * * * * \n",
      "42797\n",
      "someone else said.  So the comment above was dishonest.  This excuse is stated 16 days after your threat, after\n",
      "* * * * * * * * * \n",
      "43376\n",
      "marknutley, you do not have to provide sources for anything, but must use them in writing articles.\n",
      "* * * * * * * * * \n",
      "45192\n",
      "See WP:OTHERSTUFFEXISTS. The problem is that you wrote an advertisement, apparently for your own company as you have no other interest on Wikipedia. Guy ()\n",
      "* * * * * * * * * \n",
      "49150\n",
      "Not fair. \n",
      "\n",
      "this I.P. is a school. Every computer in this school uses the same I.P. So it's not fair to block us honest ones just because of few people in this school are idiots.\n",
      "* * * * * * * * * \n",
      "49849\n",
      "So some child comes to my page who knows I hate him and you block me?  Elonka, that's not fair and you know it.  Why the hell was he on my page annoying me and why is a sock of Randy Jaiyan allowed to edit when he's a multiple banned user but you block me without listening?  I know you got beat down by another editor but this is silly.  Jason47 is a known internet Joke so effectively a spammer/vandal comes to my page and I'm blocked?  Really, this isn't fair in the least.\n",
      "* * * * * * * * * \n",
      "49942\n",
      "It is Filll actually, aka User:Robert Stevens. Hee hee LOL.\n",
      "* * * * * * * * * \n",
      "50282\n",
      "It's a real weakness of WP that info germane to a neutral POV is censored whenever there is enough money at stake. Unpaid volunteers can't keep up with SEO and ad departments with large black budgets.\n",
      "* * * * * * * * * \n",
      "50286\n",
      "You're Not Going To Destroy Wiki \n",
      "\n",
      "You said that wiki admins look down on people who repost deleted material. If that's true, then why do they allow people the option of appealing their reposts? Rather, the admins look down on those who cower from the truth. Consider that. I don't know who you think you are. You're in no position to dictate to others what they should or shouldn't do. I am in process of appealing this to the wiki admins about your constant and ignorant reluctance to accept the true histories of people WHICH YOU ARE AND NEVER WILL BE PART OF. Once again, you don't qualify to re-edit people's work. You're not European. You don't have an inkling about European history and therefore don't possess the authority to counter our history. You're not our people. Just stick to what you know best, which is Chilean culture, and leave European culture - which you know nothing about - out of your reach.\n",
      "* * * * * * * * * \n",
      "51826\n",
      "I have not even logged into Wikipedia. why the you are mailing me and notifying this crap?\n",
      "This is the limit, stop hounding me.\n",
      "* * * * * * * * * \n",
      "52180\n",
      "Quite. I believe Dr. Allen has the last word on this teenage boy fantasy. .\n",
      "* * * * * * * * * \n",
      "53222\n",
      "\"   Sooooo... Does any OTHER admin want to come and delete this idea for the sake of some shallow excuse like \"\"banned users\"\"?  Huh?  Huh?  Come on guys, show us all how Intelligent you are!  Atta boy!  Good boys!\"\n",
      "* * * * * * * * * \n",
      "53405\n",
      "And no one knows more about stalking and wasting time than Nellie the Cunt\n",
      "* * * * * * * * * \n",
      "54467\n",
      "Also, how do you cite information?\n",
      "* * * * * * * * * \n",
      "54673\n",
      "\"\n",
      "\n",
      " Proposed merge with Murder of Megan Kanka \n",
      "\n",
      "This is a non-notable foundation that is based on the murder. (give him tirade • check out damage) \"\n",
      "* * * * * * * * * \n",
      "54684\n",
      "Erroneous edits\n",
      "Re: Michael Wolff (musician); Queen (Snow White and the Seven Dwarfs); Speed Racer (film); etc\n",
      "\n",
      " Please do not add unsourced or original content. Doing so violates Wikipedia's verifiability policy. If you would like to experiment, please use the sandbox. Thank you.\n",
      "* * * * * * * * * \n",
      "56619\n",
      "Balrog \n",
      "\n",
      "Have you seen the Street Fighter movies? Balrog looked like a 210cm tall giant. I think that 198cm is an underestimated height for Balrog.\n",
      "* * * * * * * * * \n",
      "58128\n",
      "Fair enough, I deserve it.\n",
      "* * * * * * * * * \n",
      "58382\n",
      "Just noticed who gave that out,lulz.\n",
      "* * * * * * * * * \n",
      "58614\n",
      "\"\n",
      "1. Stop calling him my hero. Everyone who disagrees with you isn't in a mob.\n",
      "2. This is a discussion about your behavior, not about Johansson nor John.\n",
      "3. I have seen your insulting behavior for a while now, and I got a little tired of it. \n",
      "4. I said I was going to bring the attention of one sysop's rights. Your piss poor of an argument is starting to get annoying. – (talk) \"\n",
      "* * * * * * * * * \n",
      "61267\n",
      "Please, do argue that every single post that you didn't delete in that thread is serious, and not just a joke.\n",
      "* * * * * * * * * \n",
      "61468\n",
      "BECAUSE IM A TOTAL DOUCHEBAG!\n",
      "* * * * * * * * * \n",
      "61986\n",
      "I'm commenting on your observable actions (your manipulation and abuse of procedure), not speculating on your internal motivation. 61.68.175.113\n",
      "* * * * * * * * * \n",
      "62183\n",
      "I don't care. The whole concept of A inserts, B comes along and amends, C comes along and amends, is absurd. It works when it works. It doesn't work when it doesn't work. Why give my time, if some arsehole with his or her own agenda is going to come along and delete my efforts? It is a stupid system.\n",
      "* * * * * * * * * \n",
      "63045\n",
      "no he is not gay whoever said that is lying because i bought his DVD n he said he loves girls especially the shy ones n he says all his girl fans are his girlfriends! n he kept asking about where the girls are from place to place because he said that it's not fun to perform if there aren't any girls around\n",
      "* * * * * * * * * \n",
      "63748\n",
      "Block Block Block Block Block Block Block Block Block Block Block Block Block Block Block Block Block Block Block Block Block Block Block Block Block Block Block Block Block Block Block Block Block Block Block Block Block Block Block Block Block Block Block Block Block Block Block Block Block Block Block Block Block Block Block Block Block Block Block Block Block Block Block Block Block Block Block Block Block Block Block Block Block Block Block Block Block Block Block Block Block Block Block Block Block Block Block Block Block Block Block Block Block Block Block Block Block Block Block Block Block Block Block Block Block Block Block Block Block Block Block Block Block Block Block Block Block Block Block Block Block Block Block Block Block Block Block Block Block Block Block Block Block Block Block Block Block Block Block Block Block Block Block Block Block Block Block Block Block Block Block Block Block Block Block Block Block Block Block Block Block Block Block Block Block Block Block Block Block Block Block Block Block Block Block Block Block Block Block Block Block Block Block Block Block Block Block Block Block Block Block Block Block Block Block Block Block Block Block Block Block Block Block Block Block Block Block Block Block Block Block Block Block Block Block Block Block Block Block Block Block Block Block Block Block Block Block Block Block Block Block Block Block Block Block Block Block Block Block Block Block Block Block Block Block Block Block Block Block Block Block Block Block Block Block Block Block Block Block Block Block Block Block Block Block Block Block Block Block Block Block Block Block Block Block Block Block Block Block Block Block Block Block Block Block Block Block Block Block Block Block Block Block Block Block Block Block Block Block Block Block Block Block Block Block Block Block Block Block Block Block Block Block Block Block Block Block Block Block Block Block Block Block Block Block Block Block Block Block Block Block Block Block Block Block Block Block Block Block Block Block Block Block Block Block Block Block Block Block Block Block Block Block Block Block Block Block Block Block Block Block Block Block Block Block Block Block Block Block Block Block Block Block Block Block Block Block Block Block Block Block Block Block Block Block Block Block Block Block Block Block Block Block Block Block Block Block Block Block Block Block Block Block Block Block Block Block Block Block Block Block Block Block Block Block Block Block Block Block Block Block Block Block Block Block Block Block Block Block Block Block Block Block Block Block Block Block Block Block Block Block Block Block Block Block Block Block Block Block Block Block Block Block Block Block Block Block Block Block Block Block Block Block Block Block Block Block Block Block Block Block Block Block Block Block Block Block Block Block Block Block Block Block Block Block Block Block Block Block Block Block Block Block Block Block Block Block Block Block Block Block Block Block Block Block Block Block Block Block Block Block Block Block Block Block Block Block Block Block Block Block Block Block Block Block Block Block Block Block Block Block Block Block Block Block Block Block Block Block Block Block Block Block Block Block Block Block Block Block Block Block Block Block Block Block Block Block Block Block Block Block Block Block Block Block Block Block Block Block Block Block Block Block Block Block Block Block Block Block Block Block Block Block Block Block Block Block Block Block Block Block Block Block Block Block Block Block Block Block Block Block Block Block Block Block Block Block Block Block Block Block Block Block Block Block Block Block Block Block Block Block Block Block Block Block Block Block Block Block Block Block Block Block Block Block Block Block Block Block Block Block Block Block Block Block Block Block Block Block Block Block Block Block Block Block Block Block Block Block Block Block Block Block Block Block Block Block Block Block Block Block Block Block Block Block Block Block Block Block Block Block Block Block Block Block Block Block Block Block Block Block Block Block Block Block Block Block Block Block Block Block Block Block Block Block Block Block Block Block Block Block Block Block Block Block Block Block Block Block Block Block Block Block Block Block Block Block Block Block Block Block Block Block Block Block Block Block Block Block Block Block Block Block Block Block Block Block Block Block Block Block Block Block Block Block Block Block Block Block Block Block Block Block Block Block Block Block Block Block Block Block Block Block Block Block Block Block Block Block Block Block Block Block Block Block Block Block Block Block Block Block Block Block Block Block Block Block Block Block Block Block Block Block Block Block Block Block Block Block Block Block Block Block Block Block Block Block Block Block Block Block Block Block Block Block Block Block Block Block Block Block Block Block Bl\n",
      "* * * * * * * * * \n",
      "64127\n",
      "Adoption \n",
      "Greetings wana adpot me?96.235.179.193\n",
      "* * * * * * * * * \n",
      "64157\n",
      "P.S. How about a nice screengrab of him cross-eyed, foaming at the mouth whilst spouting fascist drivel on Question Time! Much more appropriate! 82.7.144.151\n",
      "* * * * * * * * * \n",
      "64759\n",
      "Golly.  Your silence speaks volumes.\n",
      "* * * * * * * * * \n",
      "65280\n",
      "\"\n",
      "Crusade? What an interesting choice of words. Because the Catholic buddy of yours from Mexico called me a \"\"vandal\"\" in the below. Such a strange language you people talk. You sound like some Catholic seminary students or priests or something. Hmm, are you?!   \"\n",
      "* * * * * * * * * \n",
      "67119\n",
      "\"\n",
      "Wow, I just realised you're a full hour behind me.   ☏ 23:32, 21 Jun 2012 (UTC)\"\n",
      "* * * * * * * * * \n",
      "68810\n",
      "\"It's really very difficult to let you down gently, because I find myself accused by you of edit warring which I totally reject. I understand that you might be doing it to pacify Tiamut but it’s unfair to do it at my expense. If I should speak softly then the above wrong image of me might stick in someone’s mind, which is unfair to me. This version that you are reading is a toned down version of the original. If I still hurt you (HG), then I apologize, as my intention is only to clear a wrong image of me in your mind and by extension in the mind of others.\n",
      "\n",
      "I'm sorry to say, but you're totally off base. I'll take it that you haven't followed the sequence of events and are totally unaware of who edited what. If you would have checked out the exact sequence of events you couldn't have come to such conclusions and made such comments.\n",
      "\n",
      "Frankly, I am very disappointed in you trying to equate us. While my reputation is unblemished and everyone who has followed me here knows that I'm here to add my knowledge on Jewish subjects for which I have barely scratched the surface, and although I am bold,  I go out of my way to be fair and uphold the neutrality of Wikipedia. Tiamut on the other hand has one agenda, and one agenda only; to push a Palestinian POV. I'm sorry to say, but your trying to put her in a good light rings hollow. Please check out what many other editors have said about her and then tell me if you still think so. Sorry I cannot sit back and watch you trying to equate us. By equating us you are actually smearing my character and exonerating her which is really not fair. It seems to me that she cannot do any bad and I cannot do very much good; that's the impression I get from your comments.\n",
      "\n",
      "Here are some things you say which I find incorrect or disturbing. The reason I am calm is because I have given up on her, given up on the mediators, and almost given up on Wikipedia. Only people who think that they can win or accomplish something are passionate in what they do. I'll talk straight and pull no punches. I made my comment on your page only to show you that Tiamut is lying, in the belief that maybe you’ll open your eyes. Tiamut hasn't gotten under my skin at all; I know what she is up to and want to stop it; but if you (not you necessarily) will try to stop me instead of her, then I'll bid all of you good bye and let you have what you deserve. I have no softer way of putting it, that I just can't take this crap that Tiamut thought it reasonable to add \"\"nation\"\" to the opening paragraph. No, she knows exactly what she is doing and such comments are what lets her get away with it. While Tiamut has lost her temper many times; I haven't lost my temper even once; disappointed, yes; lost temper, no. You say that you're surprised that Tiamut didn't go to the talk page earlier; I wonder why you're surprised; don't you see that she first tries to get away with whatever she can, then she'll engage in talk with no intention of compromising but to get part of her pushing accepted and put off the rest for another round. You say that I started my conversation with a negative touch by its heading of POV pushing. My purpose is not anymore to set her straight, which I have already given up. My purpose is to point out her POV pushing to all of you. Actually I think that I'm treating her with kid gloves compared to how administrators would have dealt with her, if they only wanted to. Lastly I completely object to your equating us both as edit warring. When one side explains, but the other side says one thing on the talk page and does something else on the article; then the explainer shouldn't be labeled an edit warier simply to be able to play the equation game. Please get it straight; I am an honest editor and she is a POV pusher, and the twain doesn't meet. She needs to be admonished not mediated; you cannot mediate with someone who will only play the game of mediation with no intention of good faith editing.\n",
      "\n",
      "Her response to you is a game which allows her to do what she wants while she is engages in dilly-dallying and in false placation. Tiamut has learned to play a game with all of you. She pretends to engage in discussion but in reality does what she wants and then has the audacity to reverse the sequence of events to make it look as if she thought she was doing the right thing. Now watch her threaten that she will report me; that's also part of her game, and if she succeeds then Wikipedia doesn’t deserve any better.   \n",
      "\n",
      "It's time to call a spade a spade; because otherwise Wikipedia will lose its valuable editors and stay with the crap. I’m really fed up with Wikipedia, and ready to bid everyone farewell.  \n",
      "\n",
      "\"\n",
      "* * * * * * * * * \n",
      "68926\n",
      "[name of possible attack site]\n",
      "* * * * * * * * * \n",
      "71740\n",
      "The word amateur in a title has been spelt as amatuer in this article on Mike Marsh.\n",
      "* * * * * * * * * \n",
      "71900\n",
      "already in the same break. 87.167.145.14\n",
      "* * * * * * * * * \n",
      "72166\n",
      "5:33 PM, 5 July 2007 (UTC)\n",
      "* * * * * * * * * \n"
     ]
    },
    {
     "name": "stdout",
     "output_type": "stream",
     "text": [
      "73027\n",
      "the Coolac geo site,\n",
      "* * * * * * * * * \n",
      "73667\n",
      "You mean my past BLOCK. The third block was because of your incompetence. Jesus doesn't like liars.\n",
      "* * * * * * * * * \n",
      "73670\n",
      "you deleted 2 times.. net is three and your out -\n",
      "* * * * * * * * * \n",
      "76232\n",
      "|ESC Region 11 - White Settlement, Texas\n",
      "* * * * * * * * * \n",
      "76517\n",
      "Horace Mann School \n",
      "\n",
      "Stay off the horace mann page...\n",
      "* * * * * * * * * \n",
      "76808\n",
      "You don't like her???\n",
      "* * * * * * * * * \n",
      "76844\n",
      "unnecessary and unwanted\n",
      "* * * * * * * * * \n",
      "77808\n",
      "To Dawnseeker2000 \n",
      "\n",
      " please explain the action of you revert Taiwan part\n",
      "If you keeping act rude without reason I see you in the Village pump\n",
      "* * * * * * * * * \n",
      "78984\n",
      "if your gonna keep reverting my edit then you just don't belive me do you?\n",
      "if you don't belive me then how come he has'nt edited for a very long time? his last edit was in April 2006\n",
      "by the way i am not trying to vandalise the page ok? 82.33.160.8\n",
      "* * * * * * * * * \n",
      "80972\n",
      "Are you that scared? )\n",
      "* * * * * * * * * \n",
      "81492\n",
      "I was blocked for personal attacks, not 3RR. Why then was the grounds refused based on 3RR?\n",
      "* * * * * * * * * \n",
      "81574\n",
      "Just a thought CalendarWatcher, but it may have something to do with the large amounts of child pornography you are maintaining on your computer... or the fact that you are a bigoted douche bag with way too much power... take your pick... you are a pervert hiding behind what little power wikipedia has inadvertently provided you with... but what do i know im just a brainless haqueer... (remember that?) with complete access to your hard drive. but im not worried... i know you are now though!! P66.82.9.104   OK gwernol ban  me again.. chump66.82.9.104\n",
      "* * * * * * * * * \n",
      "83510\n",
      "I wasnt talking to u \n",
      "\n",
      "When i said who the hell are u, i was talking to this denny guy who sent me a message about what i write on wikipedia\n",
      "* * * * * * * * * \n",
      "84411\n",
      "However I can only go by the block log and that says I have committed a  24 hour 3RR edit war and that is false and I have said so in that complaint section.\n",
      "* * * * * * * * * \n",
      "85549\n",
      "He's right, you know. You're NOT a god, okay?\n",
      "* * * * * * * * * \n",
      "85904\n",
      "Why do you keep on dleting my pic for Raja Ki aayege baraat!\n",
      "* * * * * * * * * \n",
      "85997\n",
      "eh. \n",
      "\n",
      "Someone said you can get a silver rolo. That aint true. Am i right? 68.116.112.85\n",
      "* * * * * * * * * \n",
      "87772\n",
      "I too am proud to be homosexual; gay pride 08!\n",
      "* * * * * * * * * \n",
      "89681\n",
      "It is a hit piece. Welcome to the Intelligent Design project.\n",
      "* * * * * * * * * \n",
      "90133\n",
      "If it wasnt murder than what was it?\n",
      "* * * * * * * * * \n",
      "91383\n",
      "\"\n",
      "\n",
      "! Please stop.  If you continue to vandalise pages, you will be blocked from editing Wikipedia. eFox \"\n",
      "* * * * * * * * * \n",
      "92409\n",
      "Leave my links alone. You drove me off of here five years ago and I am not going to let it happen again. Rich Zubaty\n",
      "* * * * * * * * * \n",
      "93991\n",
      "Why Did you delete our post about the world famous Angler John Bailey????\n",
      "=We manager John Bailey and he is well known in the UK population? We hadnt even finished editing the article you nooob!=====Why Did you delete our post about the world famous Angler John Bailey????\n",
      "=We manager John Bailey and he is well known in the UK population? We hadnt even finished editing the article you nooob!=====Why Did you delete our post about the world famous Angler John Bailey????\n",
      "=We manager John Bailey and he is well known in the UK population? We hadnt even finished editing the article you nooob!=====Why Did you delete our post about the world famous Angler John Bailey????\n",
      "=We manager John Bailey and he is well known in the UK population? We hadnt even finished editing the article you nooob!=====Why Did you delete our post about the world famous Angler John Bailey????\n",
      "=We manager John Bailey and he is well known in the UK population? We hadnt even finished editing the article you nooob!=====Why Did you delete our post about the world famous Angler John Bailey????\n",
      "=We manager John Bailey and he is well known in the UK population? We hadnt even finished editing the article you nooob!=====Why Did you delete our post about the world famous Angler John Bailey????\n",
      "=We manager John Bailey and he is well known in the UK population? We hadnt even finished editing the article you nooob!=====Why Did you delete our post about the world famous Angler John Bailey????\n",
      "=We manager John Bailey and he is well known in the UK population? We hadnt even finished editing the article you nooob!=====Why Did you delete our post about the world famous Angler John Bailey????\n",
      "=We manager John Bailey and he is well known in the UK population? We hadnt even finished editing the article you nooob!=====Why Did you delete our post about the world famous Angler John Bailey????\n",
      "=We manager John Bailey and he is well known in the UK population? We hadnt even finished editing the article you nooob!=====Why Did you delete our post about the world famous Angler John Bailey????\n",
      "=We manager John Bailey and he is well known in the UK population? We hadnt even finished editing the article you nooob!=====Why Did you delete our post about the world famous Angler John Bailey????\n",
      "=We manager John Bailey and he is well known in the UK population? We hadnt even finished editing the article you nooob!=====Why Did you delete our post about the world famous Angler John Bailey????\n",
      "=We manager John Bailey and he is well known in the UK population? We hadnt even finished editing the article you nooob!=====Why Did you delete our post about the world famous Angler John Bailey????\n",
      "=We manager John Bailey and he is well known in the UK population? We hadnt even finished editing the article you nooob!=====Why Did you delete our post about the world famous Angler John Bailey????\n",
      "=We manager John Bailey and he is well known in the UK population? We hadnt even finished editing the article you nooob!=====Why Did you delete our post about the world famous Angler John Bailey????\n",
      "=We manager John Bailey and he is well known in the UK population? We hadnt even finished editing the article you nooob!=====Why Did you delete our post about the world famous Angler John Bailey????\n",
      "=We manager John Bailey and he is well known in the UK population? We hadnt even finished editing the article you nooob!=====Why Did you delete our post about the world famous Angler John Bailey????\n",
      "=We manager John Bailey and he is well known in the UK population? We hadnt even finished editing the article you nooob!=====Why Did you delete our post about the world famous Angler John Bailey????\n",
      "=We manager John Bailey and he is well known in the UK population? We hadnt even finished editing the article you nooob!=====Why Did you delete our post about the world famous Angler John Bailey????\n",
      "=We manager John Bailey and he is well known in the UK population? We hadnt even finished editing the article you nooob!=====Why Did you delete our post about the world famous Angler John Bailey????\n",
      "=We manager John Bailey and he is well known in the UK population? We hadnt even finished editing the article you nooob!=====Why Did you delete our post about the world famous Angler John Bailey????\n",
      "=We manager John Bailey and he is well known in the UK population? We hadnt even finished editing the article you nooob!=====Why Did you delete our post about the world famous Angler John Bailey????\n",
      "=We manager John Bailey and he is well known in the UK population? We hadnt even finished editing the article you nooob!=====Why Did you delete our post about the world famous Angler John Bailey????\n",
      "===We manager John Bailey and he is well known in the UK population? We hadnt even finished editing th\n",
      "* * * * * * * * * \n",
      "94205\n",
      "And you should also wait for people to tell what you are known for. After all what we are known for is something that belongs to others thoughts not ours. You should make a survey. Maybe it turns out that you are not known for viciously attacking stupidity but for your stupid vicious attacks. 99.231.81.164\n",
      "* * * * * * * * * \n",
      "94366\n",
      "Can I ask each of you to bite your tongues whenever you feel an urge to insult the other one?  Both of you are working in good faith and have considerable knowledge, so there's nothing to gain by heating up the atmosphere.  Regards,\n",
      "* * * * * * * * * \n",
      "94739\n",
      "MY PAGE 3234434a \n",
      "\n",
      "My User Page is totally about me, its about me and my team...SO WHAT IS THE PROBLEM?\n",
      "* * * * * * * * * \n",
      "94893\n",
      "Dude, I've changed IP's more than 50 times today. God knows how many times I've changed my IP. I've just been blocked again. But I changed my IP in 5 seconds. It's as simple as that. You're best bet is to get on my good books cause your admins (several of them) are fighting a losing battle against me. If you're decent, like I was when I was insulted and abused several times on the reference desk, then maybe I'll be nice as well. I'm not trying to vandalise. You're a dobber mate. And I hate dobbers ya know that? So apologise to me and maybe ya'll get a let of.    \n",
      "    \n",
      "Hahaha You thought the bulltwang above was true didn't you. Na mate, I'm not a vandal. I was just a bit drunk and so I vandalised. I'm not a bad guy in real life IDK, so ya don't need to fear me. Just remove this message and we'll pretend it never happened. Got you again mate na? Hahaha you'll believe everything. Na mate I'm not gonna vandalise. That's my final word. Or maybe I'll ... Na mate hahahahhahahha got you again didn't I. You're as gullabla as my sainted aunt. Hahahah. Na you can bet you're momma's fine china that I'll not vandalise. Material Scientist dude is right, you don't wanna get into a war with me ... Hahaha got ya again na mate!? Yeah, you're gullable. \n",
      "\n",
      "DOn't worry I'm not a vandal. Just you're normal guy who jokes with his mates and gets drunk one more time than usual ... Yeah apart from my drinking problem, I'm a nice dude. Your off the hooka this time, but be warned mate, dobbers dont go far in life. You'd best get on my good books and stop dobbing. I'll be keeping a eye on ya mate.\n",
      "* * * * * * * * * \n",
      "94991\n",
      "Agreed; green is a poor choice of color for the background, as it implies Gaddafi control of those areas. -\n",
      "* * * * * * * * * \n",
      "95754\n",
      "Blocked\n",
      "\n",
      "You are clearly the same person as  and are continuing with your blatant violations of WP:IUP.  This account has now been blocked indefinitely.\n",
      "* * * * * * * * * \n",
      "96188\n",
      "OsFan Saying Hello \n",
      "\n",
      "You still don't sign using the four ~. You still do not cite stuff. How in the hell have you not gotten banned? I guess Wikipedia expresses sympathy to cripples. 69.243.42.251\n",
      "* * * * * * * * * \n",
      "97867\n",
      "STOP VANDALIZING MY PAGE! YOU STARTED THIS< NOW END IT! ONCE YOU STOP! I WILL STOP! STOP VANDALZING MY PAGE!  \n",
      "STOP VANDALIZING MY PAGE! YOU STARTED THIS< NOW END IT! ONCE YOU STOP! I WILL STOP! STOP VANDALZING MY PAGE!  \n",
      "STOP VANDALIZING MY PAGE! YOU STARTED THIS< NOW END IT! ONCE YOU STOP! I WILL STOP! STOP VANDALZING MY PAGE!  \n",
      "STOP VANDALIZING MY PAGE! YOU STARTED THIS< NOW END IT! ONCE YOU STOP! I WILL STOP! STOP VANDALZING MY PAGE!  \n",
      "STOP VANDALIZING MY PAGE! YOU STARTED THIS< NOW END IT! ONCE YOU STOP! I WILL STOP! STOP VANDALZING MY PAGE!  \n",
      "\n",
      "How many times do I need to repeat myself????\n",
      "* * * * * * * * * \n",
      "97946\n",
      "Alright instead of citations and crap you should rely on me because I'm Ciara's #1 fan, and I've read the page's content and it's ALL true, all of it. (\n",
      "* * * * * * * * * \n",
      "98288\n",
      "Might be good to add this usage to the article at backshop.\n",
      "* * * * * * * * * \n",
      "98333\n",
      "\"\n",
      "Go spill your philosophies elsewhere. This isn't a church.  (mailbox) \"\n",
      "* * * * * * * * * \n",
      "98419\n",
      "PS. That's my opinion. If you like it, say so. How many of you like the changes?\n",
      "* * * * * * * * * \n",
      "98425\n",
      "is utter Ad Honimen and has\n",
      "* * * * * * * * * \n",
      "98427\n",
      "Public apology \n",
      "\n",
      "I hereby make a public apology to User:Docku for this comment. I sincerely regret the genuine hurt and pain it caused to you, and I shall do my best to refrain from making similar comments in future\n",
      "* * * * * * * * * \n",
      "98647\n",
      "Yeah yeah yeah, .........STILL HERE!!!!!!!!!!!!!!!!!!!!!!!!!!!!!!!!!!!!!!!!!!!!!!!!!!!!!!!!!!!\n",
      "* * * * * * * * * \n",
      "100161\n",
      "\"Marilyn Monroe did actually not like being played as a \"\"dumb blond\"\" in the comedy movies or for that fact any movie!\"\n",
      "* * * * * * * * * \n",
      "100653\n",
      "Are you known as a sock puppet?\n",
      "* * * * * * * * * \n",
      "101788\n",
      "Delectable treats of yum!~~\n",
      "* * * * * * * * * \n",
      "102888\n",
      "Can't believe you bothered wasting your time on this.\n",
      "* * * * * * * * * \n",
      "103402\n",
      ", and after that part the animation is extremly diffrent\n",
      "* * * * * * * * * \n",
      "103951\n",
      "It has already been demonstrated that the copyright was not renewed.  What's up, Doc?\n",
      "* * * * * * * * * \n"
     ]
    },
    {
     "name": "stdout",
     "output_type": "stream",
     "text": [
      "104495\n",
      "I don't use myspace, i have a philosophical problem with that site... but i understand what it is about... but still, i feel like an idiot now.. *Hangs head in shame*\n",
      "* * * * * * * * * \n",
      "104793\n",
      "\"Isn't it amazing that when your aren't judge jury and executioner you are proven wrong?  Blog all you like, no one is afraid of you because we all know how bias you are.  Its called \"\"censorship\"\" when i take something off, but when you do its because I \"\"dont get to\"\" quote something that proves you wrong.  \n",
      "\n",
      "I would put the press release in but thats not relevant!! X )     \n",
      "\n",
      "\"\n",
      "* * * * * * * * * \n",
      "104898\n",
      "I never agreed not to edit outside my userspace. I agreed not to TEST outside my userspace.\n",
      "* * * * * * * * * \n",
      "105542\n",
      ", except that he is one of your friends\n",
      "* * * * * * * * * \n",
      "105640\n",
      "\"\n",
      "\n",
      " Some falafel for you! \n",
      "\n",
      "     \"\n",
      "* * * * * * * * * \n",
      "105647\n",
      "i hate k6ka \n",
      "\n",
      "he took down what i had put up and thinks he is the boss but he is not and should really put my content back up!!!!!!!!!\n",
      "* * * * * * * * * \n",
      "106158\n",
      "And what about this, Jew? It was a little bit injustice, isn't it?\n",
      "* * * * * * * * * \n",
      "106332\n",
      ". He called me a weirdo before I said anything bad\n",
      "* * * * * * * * * \n",
      "106602\n",
      "Ooo, you're tellin' on me! Knock it off dude! And yeah, don't come back again 'cause no one WANTS US! Power level (Dragon Ball)\n",
      "* * * * * * * * * \n",
      "106729\n",
      "Robbie or Gary? \n",
      "\n",
      "People say Gary is the other lead vocalist, others say Robbie. SORT IT OUT! (And maybe cite a source?)\n",
      "* * * * * * * * * \n",
      "107452\n",
      "I shall go ahead and do it.\n",
      "\n",
      "86.146.153.231\n",
      "* * * * * * * * * \n",
      "108948\n",
      "Are you a moderator? \n",
      "\n",
      "If you aren't a moderator you have absolutely no right to, as you put it, 'recommend' my indefinite blocking, who the hell do you think you are? Do you own wikipedia, no, well then please keep your nose out of my comments.\n",
      "\n",
      "Have a nice day.\n",
      "* * * * * * * * * \n",
      "109014\n",
      "Why don't you just combine them?\n",
      "* * * * * * * * * \n",
      "112147\n",
      "Flogging a dead horse\n",
      "* * * * * * * * * \n",
      "112783\n",
      "Your behaviour is unacceptable.\n",
      "* * * * * * * * * \n",
      "115442\n",
      "When the comments are completely wrong, out of place, and downright rude, they are inapproproate.\n",
      "* * * * * * * * * \n",
      "117313\n",
      "Yo, Contribute ... don't vandalize.\n",
      "* * * * * * * * * \n",
      "117604\n",
      "Horace Mann does have the best Model UN team in the country.  You're clearly just jealous because you weren't good enough to attend\n",
      "* * * * * * * * * \n",
      "118140\n",
      "Google Doodle \n",
      "\n",
      "At google.ps for his 94th birthday. 99.238.74.216\n",
      "* * * * * * * * * \n",
      "118509\n",
      "so, i'm just kidding? i'am a Pilipino, and i want to join Wikipedia since Tropical Storm Podul (Tropical Depression Zoraida) active. but i'am the young forecaster that editing this fuck Wikipedia. i'am planned to not join Wikipedia anymore, beginning this month, likely on 3rd week. before it joined this, i'am too planned to making a 3 month-deal to Wikipedia. so my family continued to supporting me, while i'am in school year. Instalok  8:03, 4 February 2015 (PST)\n",
      "* * * * * * * * * \n",
      "118623\n",
      "Looks like you rou out of arguments )\n",
      "* * * * * * * * * \n",
      "118836\n",
      "3RR \n",
      "\n",
      "Seriously, an administrator should know better.\n",
      "* * * * * * * * * \n",
      "119503\n",
      "I will ask Giorgos, but I don't think that he will have something good to say. You have being proven to be the number one personal attacker of the team, that is trying to enforce their agenda on anything related with Cyprus. You could have done otherwise, yet not only you let this team to make Cyprus to look, like the worst criminals house, in Wikipedia, but as I see you are leading it as well. What a shame.... By the way, if you think that in this country we will not do anything, and we are going to let you and a few other propagandists portray as as 100 time worst that we are, you are mistaken.\n",
      "* * * * * * * * * \n",
      "121019\n",
      "Hey!! ) How are you?????\n",
      "* * * * * * * * * \n",
      "121089\n",
      "Phil Sandifer heads up\n",
      " Are you aware that\n",
      "* * * * * * * * * \n",
      "121126\n",
      "when the hell did i do that\n",
      "* * * * * * * * * \n",
      "121132\n",
      "\"\n",
      "I love \"\"Oh, my\"\" ... did you know I taught you that?   \"\n",
      "* * * * * * * * * \n",
      "122357\n",
      "Some Starčević's sources in his polemic agains Greater Serbian ideology\n",
      "\n",
      "Ancient historiography:\n",
      "http://en.wikisource.org/wiki/De_Administrando_Imperio\n",
      "\n",
      "On Croats\n",
      ".........\n",
      "\n",
      "But the Croats at that time were dwelling beyond Bavaria, where the Belocroats are now. From them split off a family of five brothers, Kloukas and Lobelos and Kosentzis and Mouchlo and Chrobatos, and two sisters, Touga and Bouga, who came with their folk to Dalmatia and found the Avars in possession of that land. After they had fought one another for some vears, the Croats prevailed and killed some of the Avars and the remainder they compelled to be subject to them. And so from that time this land was possessed by the Croats, and there are still in Croatia some who are of Avar descent and are recognized as Avars. The rest of the Croats stayed over against Francia, and are now called Belocroats, that is, white Croats, and have their own prince ; they are subject to Otto, the great king of Francia, or Saxony, and are unbaptized, and intermarry and are friendly with the Turks. From the Croats who came to Dalmatia a part split off and possessed themselves of Illyricum and Pannonia ; they too had a sovereign prince, who used to maintain friendly contact, though through envoys only, with the prince of Croatia. For a number of years the Croats of Dalmatia also were subject to the Franks, as they had formerly been in their own country ; but the Franks treated them with such brutality that they used to murder Croat infants at the breast and cast them to the dogs. The Croats, unable to endure such treatment from the Franks, revolted from them, and slew those of them whom they had for princes. On this, a large army from Francia marched against them, and after they had fought one another for seven years, at last the Croats managed to prevail and destroyed all the Franks with their leader, who was called Kotzilis. From that time they remained independent and autonomous,....\n",
      "..................\n",
      "These baptized Croats will not fight foreign countries outside the borders of their own ; for they received a kind of oracular response and promise from the pope of Rome who in the time of Heraclius, emperor of the Romans, sent priests and baptized them. For after their baptism the Croats made a covenant, confirmed with their own hands and by oaths sure and binding in the name of St. Peter the apostle, that never would they go upon a foreign country and make war on it, but rather would live at peace with all who were willing to do so ; and they received from the same pope of Rome a benediction to this effect, that if any of the pagans should come against the country of these same Croats and bring war upon it, then might the God of the Croats fight for the Croats and protect them, and Peter the disciple of Christ give them victories.\n",
      "...............\n",
      "Again, Symeon sent another army against prince Zacharias, under Kninos and Himnikos and Itzboklias, and together with them he sent also Tzeeslav. Then Zacharias took fright and fled to Croatia, and the Bulgarians sent a message to the 'zupans' that they should come to them and should receive Tzeeslav for their prince ; and, having tricked them by an oath and brought them out as far as the first village, they instantly bound them, and entered Serbia and took away with them the entire folk, both old and young, and carried them into Bulgaria, though a few escaped away and entered Croatia ; and the country was left deserted. Now, at that time these same Bulgarians under Alogobotour entered Croatia to make war, and there they were all slain by the Croats.\n",
      "\n",
      "On Serbs\n",
      "........\n",
      "\n",
      "But when two brothers succeeded their father in the rule of Serbia, one of them, taking a moiety of the folk, claimed the protection of Heraclius, the emperor of the Romans, and the same emperor Heraclius received him and gave him a place in the province of Thessalonica to settle in, namely Serbia, which from that time has acquired this denomination. 'Serbs' in the tongue of the Romans is the word for 'slaves', whence the colloquial 'serbula' for menial shoes, and 'tzerboulianoi' for those who wear cheap, shoddy footgear. This name the Serbs acquired from their being slaves of the emperor of the Romans. Now, after some time these same Serbs decided to depart to their own homes, and the emperor sent them off. But when they had crossed the river Danube, they changed their minds and sent a request to the emperor Heraclius, through the military governor then governing Belgrade, that he would grant them other land to settle in. And since what is now Serbia and Pagania and the so-called country of the Zachlumi and Terbounia and the country of the Kanalites were under the dominion of the emperor of the Romans, and since these countries had been made desolate by the Avars (for they had expelle\n",
      "* * * * * * * * * \n",
      "122902\n",
      "Your Edits to Albert Einstein\n",
      "* * * * * * * * * \n",
      "122932\n",
      "Your Harassment Of Me \n",
      "\n",
      "Will you pplease stop following me around and reverting every edit I make, I realise we have had disagreements, but it is getting silly now. You revert EVERY edit I make and if it continues I will report you for harassment.\n",
      "* * * * * * * * * \n",
      "124866\n",
      "I didn't change it hence this BS claim of me saying i that I keep adding it when in fact i just haven't changed it is not the same thing...if i make n edit and i just forget to leave something on there or don't change it because i was focusing on other edits don't mean I KEEP DOING IT...big difference and to be frankly this is getting a little childish GROW UP...to be honest you're pissing me off now i'm trying to be nice but you keep doing this to harass.....i don't have time for your other people's nagging and BS ok? some of you are worse than little girls grow a pair and stop harassing users and i could be a lot more blunt and harsh...i'm not doing nothing wrong i dont vandalize when i contributed quite alot here and been using wikipedia for a long time ...i don't make up facts and just because i haven't got the time to reference some of them especially since i pretty much had to learn everything in editing here from other users on my own so stop harassing me for petty BS that's irrelevant..all you and your simple minded brethren should worry about is about people who purposely put fake info or make it up...the edits i put i get them from sources but it's not so simple to cite or source very single edit i ever done in hereso for the last time..stop harassing people for petty nonsense you're acting like children...most things i edit are in fact correct and btw i do a lot more research to finding out this stuff than most of you because apparently i can actually complete and be specific about facts that most would want to know...i don't do half-assed edits so stop harassing users who actually CONTRIBUTE for the betterment of this and stop envying others who are more capable and more determined than some of you are..just because some of you didn't come up with it doesn't mean you gotta give them trouble or envy them or even worse claim their effort and work and pawn it as your own...there;s's a difference between influencing others and taking credit for others people's work and effort...i seen edits i made that were never there before i put them and influenced others that noticed my efforts and kept them because it was more detailed and specific..the more specific the better in my opinion so cut this shit out already worry about people who purposely try to troll or put fake info etc etc..because that's not me ok?  why would i want to  sabotage a website that i relied on for looking at information for years? this is a website where we all contribute ...YOUR WAY as lazy and half-assed as it might be in some articles doesn't mean its the only way to edit..some of us put more effort and try to be as detailed as possible...stop it already...some of you are getting pretty annoying ...i come here to look up things and to edit to make some articles better and more fleshed out...none of you do it so someone has to finish the half -assed article i seen around...i hope i made myself clear this time..go bother others who are ACTUALLY messing up the articles purposely because i sure as hell am not one of those people...and don't worry i'll show the sources i get  my info from since some of you are too damn lazy to look it up...get it? got it ? good pffftt...the nerve of some of you...how immature..envying others because you couldn't come up with it or put that effort yourselves...now that's childish...grow up we're suppose to help one another and inspire the other to do better..it's not my fault some of the articles here are incomplete with empty info boxes etc etc..blame yourselves for that..i..unlike some of you, believe in making articles as complete and detailed and specific as possible..\n",
      "* * * * * * * * * \n",
      "125077\n",
      "P.S. It's also an indication of how stupid the average vandal is. If he didn't leave his calling card on my user page every time he went on a de-China spree, I probably wouldn't have noticed )\n",
      "* * * * * * * * * \n",
      "125615\n",
      "It's also a civility violation to make false accusations as you do here. Rd232's edit warring is well documented and plain to see in the Diane Francis article history, and he even acknowledges that he fucked up in his last revert (the one he block over) because it had nothing to do with the disputed content where he overruled two different editors to enforce his preferred version via edit warring.\n",
      "* * * * * * * * * \n",
      "125771\n",
      "Chickenpox? \n",
      "\n",
      "Is it possible for a small cluster of red spots in an area of skin (smaller than a palm) but nowhere else on the body a possiblility of Chickenpox?\n",
      "* * * * * * * * * \n",
      "125953\n",
      "\"\n",
      "\n",
      " They're back. \n",
      "\n",
      "You helped   \"\n",
      "* * * * * * * * * \n"
     ]
    }
   ],
   "source": [
    "# false positives\n",
    "\n",
    "print(\"Examples of false positives:\")\n",
    "\n",
    "import random, time\n",
    "\n",
    "for i in range(0, len(ols_predictions)):\n",
    "    if (ols_predictions[i] == 1):\n",
    "        if (X_raw_train.iloc[i]['any_toxic'] == 0):\n",
    "            if (random.uniform(0, 1) < 0.05): # to print only 5% of the false positives\n",
    "                print(i)\n",
    "                print(X_raw_train.iloc[i]['comment_text'])\n",
    "                print('* * * * * * * * * ')\n"
   ]
  },
  {
   "cell_type": "markdown",
   "metadata": {},
   "source": [
    "---\n",
    "\n",
    "# <span style=\"color:red\">WARNING: Don't look at test set performance too much!</span>\n",
    "\n",
    "---\n",
    "\n",
    "The following cells show performance on your test set. Do not look at this too often! "
   ]
  },
  {
   "cell_type": "markdown",
   "metadata": {},
   "source": [
    "# Look at performance on the test set"
   ]
  },
  {
   "cell_type": "markdown",
   "metadata": {},
   "source": [
    "### MODEL: ordinary least squares"
   ]
  },
  {
   "cell_type": "code",
   "execution_count": 15,
   "metadata": {},
   "outputs": [
    {
     "name": "stdout",
     "output_type": "stream",
     "text": [
      "{'Pos': 3244, 'Neg': 28671, 'TP': 2182, 'TN': 27115, 'FP': 1556, 'FN': 1062, 'Accuracy': 0.9179696067679775, 'Precision': 0.5837346174424826, 'Recall': 0.6726263871763255, 'desc': 'ols_test'}\n"
     ]
    }
   ],
   "source": [
    "ols_performance_test = BinaryClassificationPerformance(ols.predict(X_test), y_test, 'ols_test')\n",
    "ols_performance_test.compute_measures()\n",
    "print(ols_performance_test.performance_measures)"
   ]
  },
  {
   "cell_type": "markdown",
   "metadata": {},
   "source": [
    "### MODEL: SVM, linear"
   ]
  },
  {
   "cell_type": "code",
   "execution_count": 16,
   "metadata": {},
   "outputs": [
    {
     "name": "stdout",
     "output_type": "stream",
     "text": [
      "{'Pos': 3244, 'Neg': 28671, 'TP': 1996, 'TN': 27818, 'FP': 853, 'FN': 1248, 'Accuracy': 0.934168886103713, 'Precision': 0.7005967005967007, 'Recall': 0.6152897657213316, 'desc': 'svm_test'}\n"
     ]
    }
   ],
   "source": [
    "svm_performance_test = BinaryClassificationPerformance(svm.predict(X_test), y_test, 'svm_test')\n",
    "svm_performance_test.compute_measures()\n",
    "print(svm_performance_test.performance_measures)"
   ]
  },
  {
   "cell_type": "markdown",
   "metadata": {},
   "source": [
    "### MODEL: logistic regression"
   ]
  },
  {
   "cell_type": "code",
   "execution_count": 17,
   "metadata": {},
   "outputs": [
    {
     "name": "stdout",
     "output_type": "stream",
     "text": [
      "{'Pos': 3244, 'Neg': 28671, 'TP': 1979, 'TN': 27860, 'FP': 811, 'FN': 1265, 'Accuracy': 0.9349522168259439, 'Precision': 0.7093189964157706, 'Recall': 0.6100493218249076, 'desc': 'lgs_test'}\n"
     ]
    }
   ],
   "source": [
    "lgs_performance_test = BinaryClassificationPerformance(lgs.predict(X_test), y_test, 'lgs_test')\n",
    "lgs_performance_test.compute_measures()\n",
    "print(lgs_performance_test.performance_measures)"
   ]
  },
  {
   "cell_type": "markdown",
   "metadata": {},
   "source": [
    "### MODEL: Naive Bayes"
   ]
  },
  {
   "cell_type": "code",
   "execution_count": 18,
   "metadata": {},
   "outputs": [
    {
     "name": "stdout",
     "output_type": "stream",
     "text": [
      "{'Pos': 3244, 'Neg': 28671, 'TP': 2557, 'TN': 24632, 'FP': 4039, 'FN': 687, 'Accuracy': 0.8519191602694658, 'Precision': 0.38765918738629473, 'Recall': 0.7882244143033292, 'desc': 'nbs_test'}\n"
     ]
    }
   ],
   "source": [
    "nbs_performance_test = BinaryClassificationPerformance(nbs.predict(X_test), y_test, 'nbs_test')\n",
    "nbs_performance_test.compute_measures()\n",
    "print(nbs_performance_test.performance_measures)"
   ]
  },
  {
   "cell_type": "markdown",
   "metadata": {},
   "source": [
    "### MODEL: Perceptron"
   ]
  },
  {
   "cell_type": "code",
   "execution_count": 19,
   "metadata": {},
   "outputs": [
    {
     "name": "stdout",
     "output_type": "stream",
     "text": [
      "{'Pos': 3244, 'Neg': 28671, 'TP': 1984, 'TN': 27699, 'FP': 972, 'FN': 1260, 'Accuracy': 0.9300642331192229, 'Precision': 0.6711772665764547, 'Recall': 0.6115906288532675, 'desc': 'prc_test'}\n"
     ]
    }
   ],
   "source": [
    "prc_performance_test = BinaryClassificationPerformance(prc.predict(X_test), y_test, 'prc_test')\n",
    "prc_performance_test.compute_measures()\n",
    "print(prc_performance_test.performance_measures)"
   ]
  },
  {
   "cell_type": "markdown",
   "metadata": {},
   "source": [
    "### MODEL: Ridge Regression Classifier"
   ]
  },
  {
   "cell_type": "code",
   "execution_count": 20,
   "metadata": {},
   "outputs": [
    {
     "name": "stdout",
     "output_type": "stream",
     "text": [
      "{'Pos': 3244, 'Neg': 28671, 'TP': 1414, 'TN': 28563, 'FP': 108, 'FN': 1830, 'Accuracy': 0.9392762024126586, 'Precision': 0.9290407358738502, 'Recall': 0.4358816276202219, 'desc': 'rdg_test'}\n"
     ]
    }
   ],
   "source": [
    "rdg_performance_test = BinaryClassificationPerformance(rdg.predict(X_test), y_test, 'rdg_test')\n",
    "rdg_performance_test.compute_measures()\n",
    "print(rdg_performance_test.performance_measures)"
   ]
  },
  {
   "cell_type": "markdown",
   "metadata": {},
   "source": [
    "### MODEL: Random Forest Classifier"
   ]
  },
  {
   "cell_type": "code",
   "execution_count": 21,
   "metadata": {},
   "outputs": [
    {
     "name": "stdout",
     "output_type": "stream",
     "text": [
      "{'Pos': 3244, 'Neg': 28671, 'TP': 0, 'TN': 28671, 'FP': 0, 'FN': 3244, 'Accuracy': 0.898355005483315, 'Precision': nan, 'Recall': 0.0, 'desc': 'rdf_test'}\n"
     ]
    }
   ],
   "source": [
    "rdf_performance_test = BinaryClassificationPerformance(rdf.predict(X_test), y_test, 'rdf_test')\n",
    "rdf_performance_test.compute_measures()\n",
    "print(rdf_performance_test.performance_measures)"
   ]
  },
  {
   "cell_type": "markdown",
   "metadata": {},
   "source": [
    "### ROC plot to compare performance of various models and fits"
   ]
  },
  {
   "cell_type": "code",
   "execution_count": 22,
   "metadata": {},
   "outputs": [
    {
     "data": {
      "image/png": "[encoded data removed]",
      "text/plain": [
       "<Figure size 432x288 with 1 Axes>"
      ]
     },
     "metadata": {
      "needs_background": "light"
     },
     "output_type": "display_data"
    }
   ],
   "source": [
    "fits = [ols_performance_test, svm_performance_test, lgs_performance_test, nbs_performance_test, prc_performance_test, rdg_performance_test, rdf_performance_test]\n",
    "\n",
    "for fit in fits:\n",
    "    plt.plot(fit.performance_measures['FP'] / fit.performance_measures['Neg'], \n",
    "             fit.performance_measures['TP'] / fit.performance_measures['Pos'], 'bo')\n",
    "    plt.text(fit.performance_measures['FP'] / fit.performance_measures['Neg'], \n",
    "             fit.performance_measures['TP'] / fit.performance_measures['Pos'], fit.desc)\n",
    "plt.axis([0, 1, 0, 1])\n",
    "plt.title('ROC plot: test set')\n",
    "plt.xlabel('False positive rate')\n",
    "plt.ylabel('True positive rate')\n",
    "plt.show()"
   ]
  },
  {
   "cell_type": "markdown",
   "metadata": {},
   "source": [
    "---\n",
    "\n",
    "# <span style=\"color:red\">SUBMISSION</span>\n",
    "\n",
    "---"
   ]
  },
  {
   "cell_type": "code",
   "execution_count": 29,
   "metadata": {},
   "outputs": [
    {
     "name": "stdout",
     "output_type": "stream",
     "text": [
      "toxic_data is: <class 'pandas.core.frame.DataFrame'>\n",
      "toxic_data has 153164 rows and 2 columns \n",
      "\n",
      "the data types for each of the columns in toxic_data:\n",
      "id              object\n",
      "comment_text    object\n",
      "dtype: object \n",
      "\n",
      "the first 10 rows in toxic_data:\n",
      "                 id                                       comment_text\n",
      "0  00001cee341fdb12  Yo bitch Ja Rule is more succesful then you'll...\n",
      "1  0000247867823ef7  == From RfC == \\n\\n The title is fine as it is...\n",
      "2  00013b17ad220c46  \" \\n\\n == Sources == \\n\\n * Zawe Ashton on Lap...\n",
      "3  00017563c3f7919a  :If you have a look back at the source, the in...\n",
      "4  00017695ad8997eb          I don't anonymously edit articles at all.\n",
      "Shape of HashingVectorizer X:\n",
      "(153164, 4096)\n",
      "Look at a few rows of the new quantitative features: \n",
      "   word_count  punc_count\n",
      "0          72          10\n",
      "1          13           1\n",
      "2          16           0\n",
      "3          38           3\n",
      "4           7           1\n",
      "5          16           2\n",
      "6          31           4\n",
      "7           6           1\n",
      "8         109           9\n",
      "9          41           0\n",
      "Size of combined bag of words and new quantitative variables matrix:\n",
      "(153164, 4098)\n",
      "(153164, 4098)\n",
      "Shape of X_test for submission:\n",
      "(153164, 4098)\n",
      "SUCCESS!\n",
      "Number of rows in the submission test set (should be 153,164): \n"
     ]
    }
   ],
   "source": [
    "# read in test data for submission\n",
    "# CHANGE FILE PATH and my_random_seed number (any integer other than 74 will do): \n",
    "raw_data, X_test_submission = process_raw_data(fn='toxiccomments_test.csv', my_random_seed=42, test=True)\n",
    "print(\"Number of rows in the submission test set (should be 153,164): \")"
   ]
  },
  {
   "cell_type": "markdown",
   "metadata": {},
   "source": [
    "---\n",
    "\n",
    "Choose a <span style=\"color:red\">*single*</span> model for your submission. In this code, I am choosing the Ordinary Least Squares model fit, which is in the `ols` object. But you should choose the model that is performing the best for you! "
   ]
  },
  {
   "cell_type": "code",
   "execution_count": 30,
   "metadata": {},
   "outputs": [
    {
     "name": "stdout",
     "output_type": "stream",
     "text": [
      "0.29060353607897416\n"
     ]
    }
   ],
   "source": [
    "# store the id from the raw data\n",
    "my_submission = pd.DataFrame(raw_data[\"id\"])\n",
    "# concatenate predictions to the id\n",
    "my_submission[\"prediction\"] = nbs.predict(X_test_submission)\n",
    "# look at the proportion of positive predictions\n",
    "print(my_submission['prediction'].mean())"
   ]
  },
  {
   "cell_type": "code",
   "execution_count": 31,
   "metadata": {},
   "outputs": [
    {
     "data": {
      "text/html": [
       "<div>\n",
       "<style scoped>\n",
       "    .dataframe tbody tr th:only-of-type {\n",
       "        vertical-align: middle;\n",
       "    }\n",
       "\n",
       "    .dataframe tbody tr th {\n",
       "        vertical-align: top;\n",
       "    }\n",
       "\n",
       "    .dataframe thead th {\n",
       "        text-align: right;\n",
       "    }\n",
       "</style>\n",
       "<table border=\"1\" class=\"dataframe\">\n",
       "  <thead>\n",
       "    <tr style=\"text-align: right;\">\n",
       "      <th></th>\n",
       "      <th>id</th>\n",
       "      <th>comment_text</th>\n",
       "      <th>word_count</th>\n",
       "      <th>punc_count</th>\n",
       "    </tr>\n",
       "  </thead>\n",
       "  <tbody>\n",
       "    <tr>\n",
       "      <td>0</td>\n",
       "      <td>00001cee341fdb12</td>\n",
       "      <td>Yo bitch Ja Rule is more succesful then you'll...</td>\n",
       "      <td>72</td>\n",
       "      <td>10</td>\n",
       "    </tr>\n",
       "    <tr>\n",
       "      <td>1</td>\n",
       "      <td>0000247867823ef7</td>\n",
       "      <td>== From RfC == \\n\\n The title is fine as it is...</td>\n",
       "      <td>13</td>\n",
       "      <td>1</td>\n",
       "    </tr>\n",
       "    <tr>\n",
       "      <td>2</td>\n",
       "      <td>00013b17ad220c46</td>\n",
       "      <td>\" \\n\\n == Sources == \\n\\n * Zawe Ashton on Lap...</td>\n",
       "      <td>16</td>\n",
       "      <td>0</td>\n",
       "    </tr>\n",
       "    <tr>\n",
       "      <td>3</td>\n",
       "      <td>00017563c3f7919a</td>\n",
       "      <td>:If you have a look back at the source, the in...</td>\n",
       "      <td>38</td>\n",
       "      <td>3</td>\n",
       "    </tr>\n",
       "    <tr>\n",
       "      <td>4</td>\n",
       "      <td>00017695ad8997eb</td>\n",
       "      <td>I don't anonymously edit articles at all.</td>\n",
       "      <td>7</td>\n",
       "      <td>1</td>\n",
       "    </tr>\n",
       "  </tbody>\n",
       "</table>\n",
       "</div>"
      ],
      "text/plain": [
       "                 id                                       comment_text  \\\n",
       "0  00001cee341fdb12  Yo bitch Ja Rule is more succesful then you'll...   \n",
       "1  0000247867823ef7  == From RfC == \\n\\n The title is fine as it is...   \n",
       "2  00013b17ad220c46  \" \\n\\n == Sources == \\n\\n * Zawe Ashton on Lap...   \n",
       "3  00017563c3f7919a  :If you have a look back at the source, the in...   \n",
       "4  00017695ad8997eb          I don't anonymously edit articles at all.   \n",
       "\n",
       "   word_count  punc_count  \n",
       "0          72          10  \n",
       "1          13           1  \n",
       "2          16           0  \n",
       "3          38           3  \n",
       "4           7           1  "
      ]
     },
     "execution_count": 31,
     "metadata": {},
     "output_type": "execute_result"
    }
   ],
   "source": [
    "raw_data.head()"
   ]
  },
  {
   "cell_type": "code",
   "execution_count": 32,
   "metadata": {},
   "outputs": [
    {
     "data": {
      "text/html": [
       "<div>\n",
       "<style scoped>\n",
       "    .dataframe tbody tr th:only-of-type {\n",
       "        vertical-align: middle;\n",
       "    }\n",
       "\n",
       "    .dataframe tbody tr th {\n",
       "        vertical-align: top;\n",
       "    }\n",
       "\n",
       "    .dataframe thead th {\n",
       "        text-align: right;\n",
       "    }\n",
       "</style>\n",
       "<table border=\"1\" class=\"dataframe\">\n",
       "  <thead>\n",
       "    <tr style=\"text-align: right;\">\n",
       "      <th></th>\n",
       "      <th>id</th>\n",
       "      <th>prediction</th>\n",
       "    </tr>\n",
       "  </thead>\n",
       "  <tbody>\n",
       "    <tr>\n",
       "      <td>0</td>\n",
       "      <td>00001cee341fdb12</td>\n",
       "      <td>True</td>\n",
       "    </tr>\n",
       "    <tr>\n",
       "      <td>1</td>\n",
       "      <td>0000247867823ef7</td>\n",
       "      <td>False</td>\n",
       "    </tr>\n",
       "    <tr>\n",
       "      <td>2</td>\n",
       "      <td>00013b17ad220c46</td>\n",
       "      <td>False</td>\n",
       "    </tr>\n",
       "    <tr>\n",
       "      <td>3</td>\n",
       "      <td>00017563c3f7919a</td>\n",
       "      <td>False</td>\n",
       "    </tr>\n",
       "    <tr>\n",
       "      <td>4</td>\n",
       "      <td>00017695ad8997eb</td>\n",
       "      <td>False</td>\n",
       "    </tr>\n",
       "  </tbody>\n",
       "</table>\n",
       "</div>"
      ],
      "text/plain": [
       "                 id  prediction\n",
       "0  00001cee341fdb12        True\n",
       "1  0000247867823ef7       False\n",
       "2  00013b17ad220c46       False\n",
       "3  00017563c3f7919a       False\n",
       "4  00017695ad8997eb       False"
      ]
     },
     "execution_count": 32,
     "metadata": {},
     "output_type": "execute_result"
    }
   ],
   "source": [
    "my_submission.head()"
   ]
  },
  {
   "cell_type": "code",
   "execution_count": 33,
   "metadata": {},
   "outputs": [
    {
     "data": {
      "text/plain": [
       "(153164, 2)"
      ]
     },
     "execution_count": 33,
     "metadata": {},
     "output_type": "execute_result"
    }
   ],
   "source": [
    "my_submission.shape"
   ]
  },
  {
   "cell_type": "code",
   "execution_count": 34,
   "metadata": {},
   "outputs": [],
   "source": [
    "# export submission file as pdf\n",
    "# CHANGE FILE PATH: \n",
    "my_submission.to_csv('toxiccomments_submission.csv', index=False)"
   ]
  },
  {
   "cell_type": "markdown",
   "metadata": {},
   "source": [
    "# Submit to Canvas: 1) the CSV file that was written in the previous cell and 2) the url to the repository (GitHub or other) that contains your code and documentation"
   ]
  }
 ],
 "metadata": {
  "kernelspec": {
   "display_name": "Python 3",
   "language": "python",
   "name": "python3"
  },
  "language_info": {
   "codemirror_mode": {
    "name": "ipython",
    "version": 3
   },
   "file_extension": ".py",
   "mimetype": "text/x-python",
   "name": "python",
   "nbconvert_exporter": "python",
   "pygments_lexer": "ipython3",
   "version": "3.7.4"
  }
 },
 "nbformat": 4,
 "nbformat_minor": 2
}
