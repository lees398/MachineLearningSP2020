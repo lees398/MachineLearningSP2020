{
 "cells": [
  {
   "cell_type": "code",
   "execution_count": 16,
   "metadata": {},
   "outputs": [],
   "source": [
    "# all imports and magic commands\n",
    "import numpy as np\n",
    "import pandas as pd\n",
    "import matplotlib.pyplot as plt\n",
    "from my_measures import BinaryClassificationPerformance\n",
    "from sklearn.feature_extraction.text import HashingVectorizer\n",
    "from sklearn.feature_extraction.text import TfidfTransformer\n",
    "from scipy.sparse import csr_matrix, hstack\n",
    "from sklearn.preprocessing import StandardScaler\n",
    "from sklearn.model_selection import train_test_split\n",
    "%matplotlib inline"
   ]
  },
  {
   "cell_type": "markdown",
   "metadata": {},
   "source": [
    "### IMPORTANT!!! Make sure you are using `BinaryClassificationPerformance` v1.02"
   ]
  },
  {
   "cell_type": "code",
   "execution_count": 6,
   "metadata": {},
   "outputs": [
    {
     "name": "stdout",
     "output_type": "stream",
     "text": [
      "Help on class BinaryClassificationPerformance in module my_measures:\n",
      "\n",
      "class BinaryClassificationPerformance(builtins.object)\n",
      " |  BinaryClassificationPerformance(predictions, labels, desc, probabilities=None)\n",
      " |  \n",
      " |  Performance measures to evaluate the fit of a binary classification model, v1.02\n",
      " |  \n",
      " |  Methods defined here:\n",
      " |  \n",
      " |  __init__(self, predictions, labels, desc, probabilities=None)\n",
      " |      Initialize attributes: predictions-vector of predicted values for Y, labels-vector of labels for Y\n",
      " |  \n",
      " |  compute_measures(self)\n",
      " |      Compute performance measures defined by Flach p. 57\n",
      " |  \n",
      " |  img_indices(self)\n",
      " |      Get the indices of true and false positives to be able to locate the corresponding images in a list of image names\n",
      " |  \n",
      " |  ----------------------------------------------------------------------\n",
      " |  Data descriptors defined here:\n",
      " |  \n",
      " |  __dict__\n",
      " |      dictionary for instance variables (if defined)\n",
      " |  \n",
      " |  __weakref__\n",
      " |      list of weak references to the object (if defined)\n",
      "\n"
     ]
    }
   ],
   "source": [
    "help(BinaryClassificationPerformance)"
   ]
  },
  {
   "cell_type": "markdown",
   "metadata": {},
   "source": [
    "# Function for feature building and extraction on natural language data"
   ]
  },
  {
   "cell_type": "markdown",
   "metadata": {},
   "source": [
    "# Toxic comments\n",
    "\n",
    "This notebook takes you though a complete iteration of Machine Learning Assignment 1 - Toxic comments. The assignment details (including links to download the data) can be found [here](https://docs.google.com/document/d/1WGYw99e5q6j5V0Zrf2HveagU6URt_kVvdR8B9HYQ99E/edit?usp=sharing). "
   ]
  },
  {
   "cell_type": "code",
   "execution_count": 11,
   "metadata": {},
   "outputs": [],
   "source": [
    "# function that takes raw data and completes all preprocessing required before model fits\n",
    "def process_raw_data(fn, my_random_seed, test=False):\n",
    "    # read and summarize data\n",
    "    toxic_data = pd.read_csv(fn)\n",
    "    if (not test):\n",
    "        # add an indicator for any toxic, severe toxic, obscene, threat, insult, or indentity hate\n",
    "        toxic_data['any_toxic'] = (toxic_data['toxic'] + toxic_data['severe_toxic'] + toxic_data['obscene'] + toxic_data['threat'] + toxic_data['insult'] + toxic_data['identity_hate'] > 0)\n",
    "    print(\"toxic_data is:\", type(toxic_data))\n",
    "    print(\"toxic_data has\", toxic_data.shape[0], \"rows and\", toxic_data.shape[1], \"columns\", \"\\n\")\n",
    "    print(\"the data types for each of the columns in toxic_data:\")\n",
    "    print(toxic_data.dtypes, \"\\n\")\n",
    "    print(\"the first 10 rows in toxic_data:\")\n",
    "    print(toxic_data.head(5))\n",
    "    if (not test):\n",
    "        print(\"The rate of 'toxic' Wikipedia comments in the dataset: \")\n",
    "        print(toxic_data['any_toxic'].mean())\n",
    "\n",
    "    # vectorize Bag of Words from review text; as sparse matrix CHANGE\n",
    "    hv = HashingVectorizer(n_features=2 ** 10, alternate_sign=False,stop_words='english')\n",
    "    X_hv = hv.fit_transform(toxic_data.comment_text)\n",
    "    print(\"Shape of HashingVectorizer X:\")\n",
    "    print(X_hv.shape)\n",
    "    \n",
    "    # http://scikit-learn.org/stable/modules/generated/sklearn.feature_extraction.text.TfidfTransformer.html CHANGE\n",
    "    transformer = TfidfTransformer() #inside of this () change\n",
    "    X_tfidf = transformer.fit_transform(X_hv)\n",
    "    \n",
    "    # create additional quantitative features\n",
    "    # features from Amazon.csv to add to feature set\n",
    "    toxic_data['word_count'] = toxic_data['comment_text'].str.split(' ').str.len()\n",
    "    toxic_data['punc_count'] = toxic_data['comment_text'].str.count(\"\\.\")\n",
    "\n",
    "    X_quant_features = toxic_data[[\"word_count\", \"punc_count\"]]\n",
    "    print(\"Look at a few rows of the new quantitative features: \")\n",
    "    print(X_quant_features.head(10))\n",
    "    \n",
    "    # Combine all quantitative features into a single sparse matrix\n",
    "    X_quant_features_csr = csr_matrix(X_quant_features)\n",
    "    X_combined = hstack([X_tfidf, X_quant_features_csr])\n",
    "    X_matrix = csr_matrix(X_combined) # convert to sparse matrix\n",
    "    print(\"Size of combined bag of words and new quantitative variables matrix:\")\n",
    "    print(X_matrix.shape)\n",
    "    \n",
    "    # Create `X`, scaled matrix of features\n",
    "    # feature scaling\n",
    "    sc = StandardScaler(with_mean=False)\n",
    "    X = sc.fit_transform(X_matrix)\n",
    "    print(X.shape)\n",
    "    if (not test):\n",
    "        y = toxic_data['any_toxic']\n",
    "    \n",
    "    # Create Training and Test Sets\n",
    "    # enter an integer for the random_state parameter; any integer will work\n",
    "    if (test):\n",
    "        X_submission_test = X\n",
    "        print(\"Shape of X_test for submission:\")\n",
    "        print(X_submission_test.shape)\n",
    "        print('SUCCESS!')\n",
    "        return(toxic_data, X_submission_test)\n",
    "    else: \n",
    "        X_train, X_test, y_train, y_test, X_raw_train, X_raw_test = train_test_split(X, y, toxic_data, test_size=0.1, random_state=my_random_seed)\n",
    "        print(\"Shape of X_train and X_test:\")\n",
    "        print(X_train.shape)\n",
    "        print(X_test.shape)\n",
    "        print(\"Shape of y_train and y_test:\")\n",
    "        print(y_train.shape)\n",
    "        print(y_test.shape)\n",
    "        print(\"Shape of X_raw_train and X_raw_test:\")\n",
    "        print(X_raw_train.shape)\n",
    "        print(X_raw_test.shape)\n",
    "        print('SUCCESS!')\n",
    "        return(X_train, X_test, y_train, y_test, X_raw_train, X_raw_test)"
   ]
  },
  {
   "cell_type": "markdown",
   "metadata": {},
   "source": [
    "# Create training and test sets from function"
   ]
  },
  {
   "cell_type": "code",
   "execution_count": 12,
   "metadata": {},
   "outputs": [
    {
     "name": "stdout",
     "output_type": "stream",
     "text": [
      "toxic_data is: <class 'pandas.core.frame.DataFrame'>\n",
      "toxic_data has 159571 rows and 9 columns \n",
      "\n",
      "the data types for each of the columns in toxic_data:\n",
      "id               object\n",
      "comment_text     object\n",
      "toxic             int64\n",
      "severe_toxic      int64\n",
      "obscene           int64\n",
      "threat            int64\n",
      "insult            int64\n",
      "identity_hate     int64\n",
      "any_toxic          bool\n",
      "dtype: object \n",
      "\n",
      "the first 10 rows in toxic_data:\n",
      "                 id                                       comment_text  toxic  \\\n",
      "0  0000997932d777bf  Explanation\\nWhy the edits made under my usern...      0   \n",
      "1  000103f0d9cfb60f  D'aww! He matches this background colour I'm s...      0   \n",
      "2  000113f07ec002fd  Hey man, I'm really not trying to edit war. It...      0   \n",
      "3  0001b41b1c6bb37e  \"\\nMore\\nI can't make any real suggestions on ...      0   \n",
      "4  0001d958c54c6e35  You, sir, are my hero. Any chance you remember...      0   \n",
      "\n",
      "   severe_toxic  obscene  threat  insult  identity_hate  any_toxic  \n",
      "0             0        0       0       0              0      False  \n",
      "1             0        0       0       0              0      False  \n",
      "2             0        0       0       0              0      False  \n",
      "3             0        0       0       0              0      False  \n",
      "4             0        0       0       0              0      False  \n",
      "The rate of 'toxic' Wikipedia comments in the dataset: \n",
      "0.10167887648758234\n",
      "Shape of HashingVectorizer X:\n",
      "(159571, 1024)\n",
      "Look at a few rows of the new quantitative features: \n",
      "   word_count  punc_count\n",
      "0          42           5\n",
      "1          18           2\n",
      "2          42           3\n",
      "3         112           3\n",
      "4          13           1\n",
      "5          12           1\n",
      "6           8           0\n",
      "7          21           2\n",
      "8          83           7\n",
      "9          12           0\n",
      "Size of combined bag of words and new quantitative variables matrix:\n",
      "(159571, 1026)\n",
      "(159571, 1026)\n",
      "Shape of X_train and X_test:\n",
      "(143613, 1026)\n",
      "(15958, 1026)\n",
      "Shape of y_train and y_test:\n",
      "(143613,)\n",
      "(15958,)\n",
      "Shape of X_raw_train and X_raw_test:\n",
      "(143613, 11)\n",
      "(15958, 11)\n",
      "SUCCESS!\n"
     ]
    }
   ],
   "source": [
    "# CHANGE FILE PATH and my_random_seed number (any integer other than 74 will do): \n",
    "X_train, X_test, y_train, y_test, X_raw_train, X_raw_test = process_raw_data(fn='toxiccomments_train.csv', my_random_seed=42)"
   ]
  },
  {
   "cell_type": "markdown",
   "metadata": {},
   "source": [
    "# Fit (and tune) Various Models"
   ]
  },
  {
   "cell_type": "markdown",
   "metadata": {},
   "source": [
    "### MODEL: ordinary least squares"
   ]
  },
  {
   "cell_type": "code",
   "execution_count": 15,
   "metadata": {},
   "outputs": [
    {
     "name": "stdout",
     "output_type": "stream",
     "text": [
      "{'Pos': 14650, 'Neg': 128963, 'TP': 6233, 'TN': 126109, 'FP': 2854, 'FN': 8417, 'Accuracy': 0.9215182469553592, 'Precision': 0.6859249477275229, 'Recall': 0.4254607508532423, 'desc': 'ols_train'}\n"
     ]
    }
   ],
   "source": [
    "from sklearn import linear_model\n",
    "ols = linear_model.SGDClassifier(loss='hinge', penalty='l1', alpha=0.0001, l1_ratio=0.15, fit_intercept=True, max_iter=1000, tol=0.001, shuffle=True, verbose=0, epsilon=0.1, n_jobs=None, random_state=None, learning_rate='optimal', eta0=0.0, power_t=0.5, early_stopping=False, validation_fraction=0.1, n_iter_no_change=5, class_weight=None, warm_start=False, average=False)\n",
    "ols.fit(X_train, y_train)\n",
    "\n",
    "ols_performance_train = BinaryClassificationPerformance(ols.predict(X_train), y_train, 'ols_train')\n",
    "ols_performance_train.compute_measures()\n",
    "print(ols_performance_train.performance_measures)"
   ]
  },
  {
   "cell_type": "markdown",
   "metadata": {},
   "source": [
    "### MODEL: SVM, linear"
   ]
  },
  {
   "cell_type": "code",
   "execution_count": 26,
   "metadata": {},
   "outputs": [
    {
     "name": "stdout",
     "output_type": "stream",
     "text": [
      "{'Pos': 14650, 'Neg': 128963, 'TP': 6356, 'TN': 125738, 'FP': 3225, 'FN': 8294, 'Accuracy': 0.9197913837883757, 'Precision': 0.6633963051873499, 'Recall': 0.43385665529010237, 'desc': 'svm_train'}\n"
     ]
    }
   ],
   "source": [
    "from sklearn import linear_model\n",
    "svm = linear_model.SGDClassifier()\n",
    "svm.fit(X_train, y_train)\n",
    "\n",
    "svm_performance_train = BinaryClassificationPerformance(svm.predict(X_train), y_train, 'svm_train')\n",
    "svm_performance_train.compute_measures()\n",
    "print(svm_performance_train.performance_measures)"
   ]
  },
  {
   "cell_type": "markdown",
   "metadata": {},
   "source": [
    "### MODEL: logistic regression"
   ]
  },
  {
   "cell_type": "code",
   "execution_count": 27,
   "metadata": {},
   "outputs": [
    {
     "name": "stdout",
     "output_type": "stream",
     "text": [
      "{'Pos': 14650, 'Neg': 128963, 'TP': 6161, 'TN': 125934, 'FP': 3029, 'FN': 8489, 'Accuracy': 0.9197983469463071, 'Precision': 0.6704026115342764, 'Recall': 0.4205460750853242, 'desc': 'lgs_train'}\n"
     ]
    }
   ],
   "source": [
    "from sklearn import linear_model\n",
    "lgs = linear_model.SGDClassifier(loss='log')\n",
    "lgs.fit(X_train, y_train)\n",
    "\n",
    "lgs_performance_train = BinaryClassificationPerformance(lgs.predict(X_train), y_train, 'lgs_train')\n",
    "lgs_performance_train.compute_measures()\n",
    "print(lgs_performance_train.performance_measures)"
   ]
  },
  {
   "cell_type": "markdown",
   "metadata": {},
   "source": [
    "### MODEL: Naive Bayes"
   ]
  },
  {
   "cell_type": "code",
   "execution_count": 28,
   "metadata": {},
   "outputs": [
    {
     "name": "stdout",
     "output_type": "stream",
     "text": [
      "{'Pos': 14650, 'Neg': 128963, 'TP': 10685, 'TN': 110923, 'FP': 18040, 'FN': 3965, 'Accuracy': 0.8467757097198721, 'Precision': 0.37197563098346387, 'Recall': 0.7293515358361775, 'desc': 'nbs_train'}\n"
     ]
    }
   ],
   "source": [
    "from sklearn.naive_bayes import MultinomialNB\n",
    "nbs = MultinomialNB()\n",
    "nbs.fit(X_train, y_train)\n",
    "\n",
    "nbs_performance_train = BinaryClassificationPerformance(nbs.predict(X_train), y_train, 'nbs_train')\n",
    "nbs_performance_train.compute_measures()\n",
    "print(nbs_performance_train.performance_measures)"
   ]
  },
  {
   "cell_type": "markdown",
   "metadata": {},
   "source": [
    "### MODEL: Perceptron"
   ]
  },
  {
   "cell_type": "code",
   "execution_count": 29,
   "metadata": {},
   "outputs": [
    {
     "name": "stdout",
     "output_type": "stream",
     "text": [
      "{'Pos': 14650, 'Neg': 128963, 'TP': 6493, 'TN': 124096, 'FP': 4867, 'FN': 8157, 'Accuracy': 0.9093118311016413, 'Precision': 0.5715669014084507, 'Recall': 0.44320819112627985, 'desc': 'prc_train'}\n"
     ]
    }
   ],
   "source": [
    "from sklearn import linear_model\n",
    "prc = linear_model.SGDClassifier(loss='perceptron')\n",
    "prc.fit(X_train, y_train)\n",
    "\n",
    "prc_performance_train = BinaryClassificationPerformance(prc.predict(X_train), y_train, 'prc_train')\n",
    "prc_performance_train.compute_measures()\n",
    "print(prc_performance_train.performance_measures)"
   ]
  },
  {
   "cell_type": "markdown",
   "metadata": {},
   "source": [
    "### MODEL: Ridge Regression Classifier"
   ]
  },
  {
   "cell_type": "code",
   "execution_count": 30,
   "metadata": {},
   "outputs": [
    {
     "name": "stdout",
     "output_type": "stream",
     "text": [
      "{'Pos': 14650, 'Neg': 128963, 'TP': 4097, 'TN': 128404, 'FP': 559, 'FN': 10553, 'Accuracy': 0.9226253890664494, 'Precision': 0.8799398625429553, 'Recall': 0.27965870307167234, 'desc': 'rdg_train'}\n"
     ]
    }
   ],
   "source": [
    "from sklearn import linear_model\n",
    "rdg = linear_model.RidgeClassifier()\n",
    "rdg.fit(X_train, y_train)\n",
    "\n",
    "rdg_performance_train = BinaryClassificationPerformance(rdg.predict(X_train), y_train, 'rdg_train')\n",
    "rdg_performance_train.compute_measures()\n",
    "print(rdg_performance_train.performance_measures)"
   ]
  },
  {
   "cell_type": "markdown",
   "metadata": {},
   "source": [
    "### MODEL: Random Forest Classifier"
   ]
  },
  {
   "cell_type": "code",
   "execution_count": 31,
   "metadata": {
    "scrolled": false
   },
   "outputs": [
    {
     "name": "stderr",
     "output_type": "stream",
     "text": [
      "/opt/anaconda3/lib/python3.7/site-packages/sklearn/ensemble/forest.py:245: FutureWarning: The default value of n_estimators will change from 10 in version 0.20 to 100 in 0.22.\n",
      "  \"10 in version 0.20 to 100 in 0.22.\", FutureWarning)\n"
     ]
    },
    {
     "name": "stdout",
     "output_type": "stream",
     "text": [
      "{'Pos': 14650, 'Neg': 128963, 'TP': 0, 'TN': 128963, 'FP': 0, 'FN': 14650, 'Accuracy': 0.8979897363052092, 'Precision': nan, 'Recall': 0.0, 'desc': 'rdf_train'}\n"
     ]
    },
    {
     "name": "stderr",
     "output_type": "stream",
     "text": [
      "/Users/sarahlee/Downloads/final_assignment_1/my_measures.py:25: RuntimeWarning: invalid value encountered in long_scalars\n",
      "  self.performance_measures['Precision'] = self.performance_measures['TP'] / (self.performance_measures['TP'] + self.performance_measures['FP'])\n"
     ]
    }
   ],
   "source": [
    "from sklearn.ensemble import RandomForestClassifier\n",
    "rdf = RandomForestClassifier(max_depth=2, random_state=0)\n",
    "rdf.fit(X_train, y_train)\n",
    "\n",
    "rdf_performance_train = BinaryClassificationPerformance(rdf.predict(X_train), y_train, 'rdf_train')\n",
    "rdf_performance_train.compute_measures()\n",
    "print(rdf_performance_train.performance_measures)"
   ]
  },
  {
   "cell_type": "markdown",
   "metadata": {},
   "source": [
    "### ROC plot to compare performance of various models and fits"
   ]
  },
  {
   "cell_type": "code",
   "execution_count": 32,
   "metadata": {
    "scrolled": false
   },
   "outputs": [
    {
     "data": {
      "image/png": "[encoded data removed]",
      "text/plain": [
       "<Figure size 432x288 with 1 Axes>"
      ]
     },
     "metadata": {
      "needs_background": "light"
     },
     "output_type": "display_data"
    }
   ],
   "source": [
    "fits = [ols_performance_train, svm_performance_train, lgs_performance_train, nbs_performance_train, prc_performance_train, rdg_performance_train, rdf_performance_train]\n",
    "\n",
    "for fit in fits:\n",
    "    plt.plot(fit.performance_measures['FP'] / fit.performance_measures['Neg'], \n",
    "             fit.performance_measures['TP'] / fit.performance_measures['Pos'], 'bo')\n",
    "    plt.text(fit.performance_measures['FP'] / fit.performance_measures['Neg'], \n",
    "             fit.performance_measures['TP'] / fit.performance_measures['Pos'], fit.desc)\n",
    "plt.axis([0, 1, 0, 1])\n",
    "plt.title('ROC plot: test set')\n",
    "plt.xlabel('False positive rate')\n",
    "plt.ylabel('True positive rate')\n",
    "plt.show()"
   ]
  },
  {
   "cell_type": "markdown",
   "metadata": {},
   "source": [
    "### looking at reviews based on their classification\n",
    "\n",
    "Let's say we decide that Ordinary Least Squares (OLS) Regression is the best model for generalization. Let's take a look at some of the reviews and try to make a (subjective) determination of whether it's generalizing well. "
   ]
  },
  {
   "cell_type": "code",
   "execution_count": 33,
   "metadata": {},
   "outputs": [],
   "source": [
    "ols_predictions = ols.predict(X_train)"
   ]
  },
  {
   "cell_type": "markdown",
   "metadata": {},
   "source": [
    "### let's look at some false positives:"
   ]
  },
  {
   "cell_type": "code",
   "execution_count": 34,
   "metadata": {},
   "outputs": [
    {
     "name": "stdout",
     "output_type": "stream",
     "text": [
      "Examples of false positives:\n",
      "529\n",
      "Sorry. Ed just makes it so easy. I don't know why he thinks he's above throwing poop. 68.203.13.249\n",
      "* * * * * * * * * \n",
      "2044\n",
      "Gah, I suspected that this guy had at least some experience, knowing what BLPs were and all that. I don't see anything in the block log, am I looking in the wrong place? He seems bent on my protection rationale - not the best, but hey - even though it would've been protected for a BLP dispute anyways. Keilana|Parlez ici \n",
      "\n",
      "Is that the right IP address? I don't see a block in the log. If you're right, then it's a sock getting around a block to harasss an admin... Dreadstar †  \n",
      "Frak; I don't see it now; maybe I looked at the wrong tab? Sorry, folks, I may have cried wolf on this one. Pairadox (talk)  \n",
      "It's alright, I've got a coupla messes on my hands, if you find it that would be great, if not, it's no big deal. He said it'd be his last post on my talk, so it may have just sorted itself out, without unnecessary drama. Thank God. Keilana|Parlez ici\n",
      "* * * * * * * * * \n",
      "5542\n",
      "kansas bear is not turkish or persian but a loser  retard from hitlers youth trying to change turkish and iranian history on wikipedia. His country does not have any history thats why he is vandalizing every page on wikipedia,making changes on every page. what is your nationality 'kansas' bear? are you too scared to tell?\n",
      "* * * * * * * * * \n",
      "7186\n",
      "Stalking \n",
      "I asked you to stop bothering me.  You then posted more drivel on my talk page.  Unlike your cowardly 'running off to teacher', I'll give you fair warning - add anything else and I'll involve an admin to have you stopped.  You are an obsessive, little weirdo - go away.\n",
      "* * * * * * * * * \n",
      "10772\n",
      "\"\n",
      "\n",
      "Alex Jones occasionally misspeaks, as do many public speakers, so for you to nitpick on his Tel Aviv comment is merely irrational opportunism on your part. If you disagree with what he says, and want to see him silenced by accusing him of being \"\"fringe\"\", this only shows your lack of courage in learning the truth. I understand there were people who once called Galileo fringe and wanted him silenced... people like you.   \"\n",
      "* * * * * * * * * \n",
      "11062\n",
      "\"\n",
      "\n",
      " Request that you do not block me \n",
      "\n",
      "I would very much like for you not to block me over that. It was a stupid joke that I wish I'd never done. I'm sorry.  Argon \"\n",
      "* * * * * * * * * \n",
      "12826\n",
      "\"\n",
      "You raise some good points here. I specifically agree with the one that Maharishi Mahesh Yogi was not \"\"notable\"\" until he became the Maharishi, so the use of Varma seems overdone in the lead.   \"\n",
      "* * * * * * * * * \n",
      "13695\n",
      "\"\n",
      "\n",
      "I have made the conversions of links about the prizes into references as you suggested.  I have also added third party references re: the general aspects of the choir.  I hope that's sufficient to allow me or someone to remove at least the notability and reference tags from the article.  It would also be helpful to know how to link a \"\"List of Choirs\"\" listing to this article.\n",
      "  \"\n",
      "* * * * * * * * * \n",
      "13910\n",
      "Collectonian is the most dangerous vandal on Wikipedia\n",
      "Made more so by the fact that she presents a pitiful mask of self-righteousness which fools the feeble-minded. If there were any justice in the world, she would be blocked like any other laughable everyman but the fact temains that Jimbo Wales is a weak-minded political puppet, under the control of the bootlickers that comprise the so called Board of Trustees who live in luxury, while leaving Wikipedia to the so-called government of vandals such as court jesters like Collectonian. 194.81.33.9\n",
      "* * * * * * * * * \n",
      "14263\n",
      "\"\n",
      "\n",
      "Like I said, there is nothing more to talk about with him.  Even if he writes another faux self-composed, condescending and insolent reply, with a \"\"shit-eating grin\"\" about my situation and the fact that he is now free to do what he wants, sans-scrutiny from the Wikipedia Administration, as the \"\"injured party\"\" behind that computer screen of his, I'm not going to communicate with him ever again.  I really don't take this personal.  If you don't like my matter-of-fact statements about the treachery displayed by others, but would like to prosecute my own impropriety of \"\"political correctness\"\", I do not care.  You basically revealed what bothered you the most, is the criticism of inappropriate behaviour.  That comment I made to him, therefore now applies to you.  This is not emotional for me, but you did in fact, \"\"walk in\"\" to that situation, not wanting to deal with the drama and think it will just go away, but you apparently did take this personally.  You were already thinking that the disciplinary function of a block might have been too much.  Well, isn't that the truth?  I still don't request a lift of the block.  If you don't like my attitude, can go ahead and make it an indefinite block.  There's really no difference and I have nothing to lose, with an Administration that does not take its own responsibilities seriously enough.  I have read the guidelines and it is rare that they are enforced for all parties in a editorial dispute.  No harm done, no feelings hurt.  Well now, who cares about Wikipedia anyways?    \"\n",
      "* * * * * * * * * \n",
      "14314\n",
      "What I was referring to is The Goon Show. The Pink Oboe was the main ne'er do well spy character in one of the shows. My old decrepit mind won't allow me to remember which one, but it will come back to me eventually.\n",
      "* * * * * * * * * \n",
      "16033\n",
      "Recipients of the Lithuanian National Prize\n",
      "Hi, thanks for your copy-editing on Lithuanian Science Society!\n",
      "\n",
      "Speaking about Recipients of the Lithuanian National Prize i think it would be great to expand and crate some articles about those prominent people. \n",
      "Also it would be great to have at least a stub on Lithuanian National Prize.\n",
      "* * * * * * * * * \n",
      "16573\n",
      "Mr invisible person \n",
      "\n",
      "hey dude i made my own article\n",
      "* * * * * * * * * \n",
      "16647\n",
      "\"\n",
      "I replaced the missing Artemisia file with a more accessible experiment which can be performed by parents with their newborn child. The practical message here is \"\"talk with your baby!\"\" (or else they will fail to thrive).     (talk  | contribs) \n",
      "\"\n",
      "* * * * * * * * * \n",
      "16746\n",
      "The prohibition against spam includes your user space and all sandboxes and subpages. —'''''' (talk)\n",
      "* * * * * * * * * \n",
      "17695\n",
      "This is nonsense. I came to this talk page to simply give my view and evidence why and montanas defender was nothing but rude and aggresive. Aswell as deleting my posts he also called me a jerk wad and a nazi lover (which you apparently missed) and was generally hostile for no reason. Despite this hes been given a 'warning' despite being banned before whilst i've just being outright banned!\n",
      "* * * * * * * * * \n",
      "18736\n",
      "I want to share something with you \n",
      "\n",
      "Here is a poem that details something I think you'll find educational.  After checking over your behavior on Wikipedia a little bit, I think you might be interested in what it's like to have a penis.  Your incessant edit warring (that you childishly deny), and your infuriating, relentless self-importance are all the evidence that I need to conclude that you either a) don't have a penis (much like Gwen Gale) or b) possess such a small penis that it just doesn't count.  Anyway, enjoy this poem - just for you.\n",
      "\n",
      "I'll tell you a short poem; I'll try to make it quick. The subject is quite simple: The joy of having a dick.\n",
      "\n",
      "Penises are super things; Daedalus969 should be jealous. An organ surrounded by sensitive skin. That's smooth and rarely hairless\n",
      "\n",
      "It starts to grow dramatically, When you're about thirteen. Your testicles on either side; Your willy in between.\n",
      "\n",
      "It dangles neatly down below; Soft, obedient and loyal. At the slightest hint of lust, It's ready to uncoil.\n",
      "\n",
      "It often has a mind all of its own; It's like a wild untamed beast. It squirms and writhes and stretches out; When you expect it least.\n",
      "\n",
      "Sometimes, yes, it misbehaves; Erecting when it shouldn't. A bumpy train ride sets it off; Just when you wish it wouldn't.\n",
      "\n",
      "And during the summer, wearing little, sunning on the beach. The slightest sight of shaking boobs Makes it squirm just like a leech.\n",
      "\n",
      "Handle it with love and care; For it can give great pleasure. Has it grown since last weekend? And when did you last measure?\n",
      "\n",
      "Some people fret about its size; They give it lots of thought. Is thirteen inches long enough? It makes guys quite distraught.\n",
      "\n",
      "They peek across in urinals, To compare and try to see But if another glances back at them. There's no way they can pee.\n",
      "\n",
      "Masturbating is a sin; That's what some folk believe. But those are just old wives' tales; Cuz it really can relieve.\n",
      "\n",
      "Without this fabulous organ, No shag would be complete. Lesbians will try their best; But must admit defeat.\n",
      "\n",
      "It has to main bodily functions I'm sure you'll all agree. To start a whole new life and of course daily to pee\n",
      "\n",
      "But I think the thing that's marvellous; About that one eyed brute. Is that when its trying to procreate, It knows which fluid to shoot\n",
      "\n",
      "And always it remains with you; Until you're old and frail. Don't take it out in public though, or you'll be thrown in jail.\n",
      "\n",
      "And so to summarise I'd say with certainty, that every male loves his little friend But girls, no matter what we do, Please don't fold, spindle mutilate and NEVER NEVER Bend!!!\n",
      "* * * * * * * * * \n",
      "20196\n",
      "yeah, there are plenty of pics on google image. in sonic x he's pretty cool looking, put he looks like an idiot in adventures of sonic.\n",
      "General 16 (ds wifi alias)\n",
      "* * * * * * * * * \n",
      "20314\n",
      "Why are you sitting somewhere very far from that poor city Kyiv and with your good faith mazapukers teach me how my native city should be called in your offensive anglofon world?! Guys and girls you are deeply ignorant. Please stop puking offend me. Why cannot you so clever guys and girls understand that? Just stop. I don't ask you to do something for me. I ask you to stop your offence. You are doing bad thing trying to protect your wrong and bad habits. I said: very long time a lot of people called African Americans N. - it's not true anymore. Why is it so hard to you?  Are you all 100 years old and your mind just physically cannot change anymore? Why I had to ask you not to offend me?! Why Mumbai(also known Bombay) but not Bombay(also known Mumbai)?! Do you have mind at all? Your mind is closed to incoming information. Bye. Hope you will go to your ancestors as soon as possible and your habits will go under the ground and you will stop offend me. 94.244.129.207\n",
      "* * * * * * * * * \n",
      "20950\n",
      "\"\n",
      "\n",
      "Hey, I read about you and Nathanr on ED\n",
      "\n",
      "Is that the \"\"incident\"\" you talk about when you say you're semi-retired? Did Nathanr pwn you too hard? Hahaha...\"\n",
      "* * * * * * * * * \n",
      "22184\n",
      "Maybe people should start learning what the hell they're talking about before editting, then. IHS is in no way, shape, or form, a metal band. I don't care what the band themselves say they play. Slipknot says they're metal. Trivium says they're not metalcore. Both of those statements are horribly false.\n",
      "* * * * * * * * * \n",
      "23124\n",
      "Why would this be banned to edit who would do such a thing as to put stupid nonsense on such a great page.\n",
      "* * * * * * * * * \n",
      "25461\n",
      "The thing to remember is I and a lot of others have attempting being nice to BMK repeatedly over the years. All BMK does is make nasty comments and doesn't have any interest in hearing the nice way or being nice in return. So yes, I made nasty rude comments to him becaue I knew that I would get nasty comments in return because that's how he is and no I do not feel a bit sorry about it. If a user treats others with respect I will treat them with respect but if that user treats me and others like trash and wants to act like trash then that's how I'll treat them. If the admins in the community wants to allow that user to act that way (which seems the case here) and block me instead for being mean then that's fine. I'll gladly take that block. At some point they need to realize that they need to deal with the problem and proactively deal with it rather than reacticely by blocking me. When they start doing the job they are supposed to do then I won't feel like I have too.\n",
      "* * * * * * * * * \n",
      "25841\n",
      "Hey Bags! Are you following me? LOL\n",
      "* * * * * * * * * \n",
      "26603\n",
      "No problem mate, a professional registered website on the True Story of Ronald Ryan is almost completed. Purrum won't be able to contribute trash, lies, allegations, accusations, opinions, views, on the Ryan case. \n",
      "Purrum's infamous promotional book-for-profits The Hanged Man (pages 221 & 222) confirms Purrum as a compulsive and manipulative liar. That's a fact!\n",
      "The book states; The discrepencies in eyewitnesses evidence were substancial and wide-ranging. Each of the fourteen eyewitnesses testified different accounts of what they saw. Some eyewitnesses testified seeing Ryan to the East of Hodson and some eyewitnesses testified seeing Ryan to the West of Hodson. Some eyewitnesses testified seeing smoke coming from Ryan's rifle, although it was established by an expert on forensic ballistics Senior Sergeant Colin Letherbarrow, who testified that the cartridges used were of a smokeless variety. (Eleven eyewitnesses testified they saw Ryan armed with a rifle. All fourteen eyewitnesses testified of hearing one single shot and Hodson fell to the ground. More significantly, only FOUR eyewitnesses testified actually seeing Ryan fire a shot. The was no contest that the evidence of each eyewitness were very contradictory. Purrum's infamous book goes on to describe the discrepencies in the prosecution's case, eg. the lack of scientific forensic evidence, the vital missing pieces of evidence, the downward trajectory angle of the fatal bullet, and prison officer Paterson testifying he fired the single shot that was heard by all eyewitnesses. \n",
      "Thank you and Good Luck with the ongoing lies!\n",
      "* * * * * * * * * \n",
      "26847\n",
      "\"\n",
      "\n",
      " non-neutral and fringe source \n",
      "\n",
      "the book by rod stark is described as following:\n",
      "\"\"In God's Battalions, award-winning author Rodney Stark takes on the long-held view that the Crusades were the first round of European colonialism, conducted for land, loot, and converts by barbarian Christians who victimized the cultivated Muslims. Instead, Stark argues that the Crusades were the first military response to Muslim terrorist aggession.\"\" \n",
      "\n",
      "this is utter nonsense, and represents a fringe view. the additions made by user daisy also violate wp:npov. in addition, there is a restriction-section covering the issue without violating npov or using non-neutral sources. \"\n",
      "* * * * * * * * * \n",
      "27587\n",
      "\"::Parminder Nagra is a current cast member and plays Dr Neela Rasgotra, so claiming \"\"one and only Asian female doctor\"\" is quite untrue (though the comment wasn't signed so I don't know if it was written before or after her debut). But to be honest I fail to see how this is relevant considering this talk page is about the article of a fictional hospital drama.   \n",
      "\n",
      "oh, really, wow, I am impressed, you can give us two Asian female doctors that have appeared on this show, that is impressive, can you tell us how many white female doctors have ever appeared on this show, can you count them with your ten fingers?! And when did this show start? last year? \n",
      "\n",
      "Furthre, can you name one single asian male doctor that has ever appeared on that show, can you?!\n",
      "\n",
      " What difference does it make if we can or can't?  Your repeated vandalism and obvious personal ax to grind has long destroyed any legitimate point you had to make.  You're a coward who hides behind one IP after another rather than having the courage of your convictions and getting an account.  That you insist on repeatedly making nuisance additions that are substantiated by nothing more than your own \"\"research\"\", then insulting editors who delete material that clearly violates Wikipedia policy in the vilest terms has reduced you to the worst kind of problem who will continue to be blocked and reverted.   \n",
      "\n",
      "Please don't feed the troll.  I've tagged a good dozen of his IPs as socks of his original account.   \n",
      "\n",
      "you are the racist troll! shame on u! since you are the racist troll, can you tell everyone, how many white males have appeared in ER as doctors, and have you ever seen a single Asian male as a doctor in ER? You call that equal employment for everyone?!\n",
      "\n",
      "\"\"ER\"\" is Now a Show Where the \"\"Writing\"\" Features \"\"Ass\"\" and \"\"Pissed Off\"\" Every 5 or 10 Minutes\n",
      "\n",
      "The writing on the show \"\"ER\"\" has been dumbed down tremendously over the years.  Every 5 or 10 minutes on the show now, the \"\"writers\"\" insert some variation of the word \"\"ass\"\" or the words \"\"pissed off.\"\"  This show a lack of respect for the audience, a small vocabulary, and a determination to lower the intellectual level of the show.  —Preceding unsigned comment added by 70.44.154.103   \n",
      "\n",
      "\"\n",
      "* * * * * * * * * \n",
      "27840\n",
      "I apologize for everything. Sorry to cause any problems, I just didn't like the fact that the article kept being reverted back and forth. I am not an uber veteran expert on every Wikipedia policy.\n",
      "* * * * * * * * * \n",
      "30373\n",
      "\"\n",
      "\n",
      " I am not afraid of your threats (it's not an insult I talked nice to you). If you don't know about 94% of Albanians (who were in a poll) support terrorist so called \"\"KLA\"\". 6% of the rest were killed by KLA because they cooperated with Serbs. And albanians can't be \"\"normal people\"\" since they are not humans at all and absolutely not normal (what kind of human being could kill a innocent baby and burn it allive, or burn 300 churches for nothing)? Ok I understand that but why do you protect them? Anyway why don't we speak Serbian? In my life I never met an albanian (animal names are written with first letter little ) ) that didn't say I hope you 'll die at least 7 times when we met (I was talking nice to them untill they didn't insult without reason). I am very angry because of this and it's one more reason why I hate them. To me I don't consider a human anyone who supports Serbian Kosovo independence (it's like someone supports slaughtering milion of innocent children). Thank you very much for your support and if you were little more on the side of the truth I would award you, but sorry I can't do it right now. Good luck! Све најбоље!   \"\n",
      "* * * * * * * * * \n",
      "30592\n",
      "dude another month? haven't I been tortured enough? 68.114.218.113\n",
      "* * * * * * * * * \n",
      "31722\n",
      "I have to apologize to Mrs Shewell. I did not mean disrespect. I am very grateful for her time she gave to me the other day. I have found that there must be at least two entirely different physiologis producing timbre commonly called ¨falsetto¨ This explains much. My own falsetto (and Ian Gillan's too I believe) is the most powerful on the top, no sign of breath and my apple stays down regardless of pitch. Also the vibration I feel much higher in the throat. It denies a lot what many including Mrs Shewell say about falsetto\n",
      "* * * * * * * * * \n",
      "31751\n",
      "bkbkbkbk on College Point\n",
      "yo no offenCe but stop Changin stuff in College Point so muCh. where do u live? probably dont know nuttin in College Point. im Crip and u think dat u noe soo muCh bout College point so how bout movin there rite now? while im ritin dis I C all these Crips out ma door. i noe that dere R slobs around here 2. earlier dis summer ma best frend got shot by a slob. im jus tellin da truth bout CP Cuz i want ppl 2 noe dat dis aint a family friendly plaCe. almost evryday i hear gunshots. so jus stop sCrewin round wit CP all rite?\n",
      "* * * * * * * * * \n",
      "32043\n",
      "Yeah, cheers for the message and all. As I said, the album comes out on the 13th. http://www.amazon.com/We-Sing-Dance-Steal-Things/dp/B0013FNC38/ref=pd_bbs_sr_1?ie=UTF8&s;=music&qid;=1208809990&sr;=8-1\n",
      "* * * * * * * * * \n",
      "32395\n",
      "Aphra \n",
      "Yeah, the no sex is a problem! whole load or problems on poor old Reggie though, if you ask me, seems to be massive arguments and angry editing.  Thank Goodness it never gets like that over here! I shall withold my vote to see what happens next.  I started Architecture of the United Kingdom, as you saw, full of entheusiasm, because Graham started it as a red link, but I've rather lost my way and interest, think I'll go back to proper Italian buildings for a while, trouble is people who have all been on their summer holidays to Italia always know best because their badly translated cheap guide books have muddled things up, I think I'll call myself 'Gary the Guide' and they might beleive me then.  Perhaps I'll go on the Italian Wiki instead, but they are all so young over there, my son and his friends included.  Had the anticipated bad day at work yesterday, and this morning which is a sod. I'm going to stop being an Anglophile, that will serve them right.  Take care  16:49, 23 Nov 2004 (UTC)\n",
      "* * * * * * * * * \n"
     ]
    },
    {
     "name": "stdout",
     "output_type": "stream",
     "text": [
      "33424\n",
      "\"\n",
      "\n",
      " Okay well, this summary sucks in general but.. \n",
      "\n",
      "” In the Swan hatch, Juliet checks the security cameras and finds Kate, Sawyer, and Alex outside the Dharma facility where Karl is being held captive.\"\"\n",
      "\n",
      "This is 100% not the swan hatch. \n",
      "http://en.wikipedia.org/wiki/DHARMA_Initiative_stations\"\n",
      "* * * * * * * * * \n",
      "34586\n",
      "\"\n",
      "I've removed the unjustified block on you. I hope that what you take away from this incident is a good laugh. Behold the self-fulfilling edit summary. )  / ɹəədsɹ  \"\n",
      "* * * * * * * * * \n",
      "37746\n",
      "@ no hard feelings dude, this happens every time I revert someone's pov edits. Why don't you give WP:OR and WP:SYNTH a read while the ANI goes through? Believe me, you wont spend more than 20 minutes reading them, and your editing perspective may change drastically seeing what wikipedia does not allow.\n",
      "* * * * * * * * * \n",
      "38499\n",
      "\"\n",
      "\n",
      "You said yourself there was no consensus. I said there was and I was correct. And the other person \"\"blew me out of the water\"\"? I can dig up hundreds of sources of information that refer to African-Americans as \"\"Negroes\"\" or worse and the mentally challenged as \"\"idiots, imbeciles, morons\"\". The fact that a term has been used popularly in the past does\n",
      "not make it acceptable or scientific today. You will not find a source that states the ISR was a provisional government because the term is new and part of the evolving science of diplomacy and peace studies. Professor Clarence Timithy  \"\n",
      "* * * * * * * * * \n",
      "38649\n",
      "Good God!\n",
      "\n",
      "This isn't an encyclopedia entry. It's a HAGIOGRAPHY. A Hagiography  of a LIBERAL DEMOCRAT senator on Wikipedia? Shocked! haha BTW, where is the 3 paragraph section on how she DISRESPECTED a US Military Man in the Senate recently? Oh yeah, I forgot, she's a Democrat and they just LOVE the troops. lol Seriously, where's this? Why so much censorship? You know she called Condi Rice Ma'am in almost the exact same situation. Did Condi not work as hard for her title? Hmmm...maybe Babs Boxer thinks Condy is...you know...Lazy? lol\n",
      "* * * * * * * * * \n",
      "39590\n",
      "I don't care about logic, I care about the tradition that is Husker football.  Although brief, Tom Osborne was head coach of Nebraska football once again and it was a great few days at that.  There are newspaper articles, websites, and local news shows that report all of this, yet Bender decides to throw his ridiculous German self into the mix thinking that he knows best.  Coach Tom Osborne is a legend that is being shafted by the Wikipedian bureaucracy.\n",
      "* * * * * * * * * \n",
      "40775\n",
      "Hey \n",
      "\n",
      "It is still SINGA or SINH as you are rightly saying Gurkhaboy...it is still not SINGH my dear from all the examples that you are qupting be it Singapore or Thailand...and talking about all this admins...you all are basically from one group using names like Sikhscholar and Sikhhistorian just to misguide Sikhs and other people... (there is no way a real Sikh could have got hurt with my discussion with you)....look at how well coordinated you 3 have been immediately mail after mail against me....but i wont give up...Truth had to come out...I never disrespected Rajputs (show me one instant were i did or other groups)..it is you who is disrespectong Sikhs...I even saw you are article on Gurkhas...you say they originated from Rajputs....wow...come on give me a break man...you are good at story telling must say that and linking on thing with other(good going)....\n",
      "* * * * * * * * * \n",
      "41828\n",
      "A warning would be fair.\n",
      "* * * * * * * * * \n",
      "42642\n",
      "Ah, missed that (been busy expanding something). He did not say that promoters need to complete a second review (in the formal sense used at DYK), but that you should do a quick double check to make sure it does meet the criteria. For some reason I'm not finding it in any of our subpages (the multitude of them!) but it has been an (apparently unwritten) rule for quite a while. —\n",
      "* * * * * * * * * \n",
      "42740\n",
      "\"*Okay. This is a bit of nonsense. Not that I support Wikipediocracy, but I am almost sure that even if 28bytes would have said that he edited Wikipediocracy, and that he authored these blog posts, he would have been elected anyways. He has been an extremely trusted user of this website, and the mere fact that he authored these blog posts (that were actual constructive criticism, instead of outing, or similar) is not srtong enough for a resignation. So, I ask 28bytes to not resign as an arbitrator. As Kumioko said, \"\"notification of contributions in Wikipediocracy [is not] a requirement for ArbCom,\"\" and I don't feel betrayed by the fact that he did so. Was it relevant? Maybe. Was it relevant enough to be added to his candidacy statement? Hell, no. I'd feel betrayed if a couple of editor advocate for a position that he earned with 475 votes and 80.78% of support. — 21 Call me Hahc21 \n",
      "\n",
      "\"\n",
      "* * * * * * * * * \n",
      "44339\n",
      "\"== #!/bin/cat Shebang Quine \"\"Illegal?\"\" ==\n",
      "\n",
      "The page, with its #!/bin/cat shebang example, states parenthetically that the quine is \"\"illegal.\"\" Does anyone know what the author means by this?\"\n",
      "* * * * * * * * * \n",
      "47401\n",
      "\"Non-ISO language userboxes are .   alias Alarob \n",
      "\n",
      "\"\n",
      "* * * * * * * * * \n",
      "48539\n",
      "I am getting threats from somebody in Arizona?\n",
      "Well, i hope this one can read english.\n",
      "If you can read english, so i hope, read the bill of rights and know that when you delete my phrase: god bless america ! you are just buying a cheap ticket to one of our federal prisons.\n",
      "I am not scared, i am in the US, there is nothing to be afraid of here.\n",
      "Tell your friend that thinks he can write english to get a life.\n",
      "The article is incorrect, they are using this space for political propaganda, i am free to discuss and opine.\n",
      "Isn't this country wonderful?\n",
      "* * * * * * * * * \n",
      "48992\n",
      "Fair Use \n",
      "\n",
      "why can't you have fair use images on user pages, i dont see how that could infringe copyrights, plz tell me, but kinda dumb it down\n",
      "* * * * * * * * * \n",
      "49774\n",
      "\"\n",
      "Actually Jackson said to the mother of Jordie Chandler that sleeping with kids is not unnatural and she had just been conditioned to believe that it was wrong. So when the quote above says \"\"he never invited or asked any children to stay with him\"\" it doesn't look like he tried his best to discourage the sleepovers either.  \"\n",
      "* * * * * * * * * \n",
      "50984\n",
      "Who makes personel attacks? This users always insults me, he always said I have said I am proud of being anti-seminist? Where is your justice, please warn other users not only me!\n",
      "* * * * * * * * * \n",
      "51794\n",
      "\"\n",
      "\"\"input from Higher Powers cannot be excluded by any Wikipedia policy.\"\" See WP:SOCK.\n",
      "As I'd said to begin with, I think the article shouldn't exist, as Muhammad obviously doesn't appear and couldn't have appeared in the Bible. Just framing it this way puts us in wacko land, and we then have to argue our way out of it. I don't think there is a Jesus in the Torah? Although this likewise inherently ludicrious argument has been much more elaborately developed.\n",
      "I think it's all nonsense, but if someone were to create a reasonably sourced and historically significant he said-she said, I wouldn't object. It violates my idea of how to present history, but could still be valid work.  \"\n",
      "* * * * * * * * * \n",
      "54101\n",
      "It's khoikhoi\n",
      "\n",
      "that sock is Mr Putnam alias Khoikhoi, I'm also jew but this hungarian jew is an anti-romanian one\n",
      "* * * * * * * * * \n",
      "55811\n",
      "As Bosnian Royal Family clearly states, the said reference is used only for the Despot claim. Bosnian throne claim was paternal from Count Franjo Berislavić, as head of House of Berislavić Boričević upon extinction the kin House of Kotromanić.\n",
      "* * * * * * * * * \n",
      "55901\n",
      "\"\n",
      "\n",
      "Selected publications\n",
      "\n",
      "Images of Children, Crime and Violence in Playboy, Penthouse, and Hustler, US Dep. Justice Grant No. 84-JN-AX-K007 (1986, 1989, 1990)\n",
      "Kinsey, Sex and Fraud: The Indoctrination of a People, Judith Reisman et al., Lafayette LA: Huntington House (1990) ISBN 091031120X ISBN 978-0910311205\n",
      "\"\"Soft Porn\"\" Plays Hardball: Its Tragic Effects on Women, Children and the Family, Lafayette LA: Huntington House (1991) ISBN 0910311927 ISBN 978-0910311922\n",
      "Kinsey: Crimes & Consequences: The Red Queen and the Grand Scheme, The Institute for Media Education, Crestwood, KY, 2nd Ed. (1998, 2000, 2009) ISBN 0966662415 ISBN 978-0966662412\n",
      "Kinsey's Attic: The Shocking Story of How One Man's Sexual Pathology Changed the World, Cumberland House Publishing (2006) ISBN 1581824602 ISBN 978-1581824605\n",
      "The Kinsey Syndrome, Starring Joseph M. Schimmel, Clark Aliano, Judith A. Reisman, et al., DVD (2009)\n",
      "Sexual Sabotage: How One Mad Scientist Unleashed a Plague of Corruption and Contagion on America (2010) ISBN 1935071858 ISBN 978-1935071853\"\n",
      "* * * * * * * * * \n",
      "58055\n",
      "My two demands are, leave the flagship alone on the tech page, and Lnnzman has got to drop the dumb fake british thing.  CHEERS!!!\n",
      "* * * * * * * * * \n",
      "58451\n",
      "\"From another source:\n",
      "\n",
      "http://urbanlegends.about.com/library/bl_black_jack_pershing.htm\n",
      "\n",
      "Comments:  I consulted Dr. Frank E. Vandiver, professor of history at Texas A&M; University and author of \"\"Black Jack: The Life and Times of John J. Pershing,\"\" to find out if there's any truth to the above, and he responded via email that in his opinion the story is apocryphal. \"\"I never found any indication that it was true in extensive research on his Moro experiences,\"\" he wrote. \"\"This kind of thing would have run completely against his character.\"\"\n",
      "\n",
      "Similarly, I been unable to find any evidence corroborating the claim that Muslims believe that \"\"eating or touching a pig, its meat, its blood, etc., is to be instantly barred from paradise and doomed to hell.\"\" It is true that Islamic dietary restrictions, like those of Judaism, forbid the eating or handling of pork because pigs are considered unclean. But according to Raeed Tayeh of the American Muslim Association in North America, the notion that a Muslim would be denied entrance to heaven for touching a pig is \"\"ridiculous.\"\" A statement from the Anti-Defamation League characterized the claim as an \"\"offensive caricature of Muslim beliefs.\"\"\n",
      "\n",
      "In other words, it's just an urban myth, though probably we might want to put it on as an Urban Myth  \n",
      "\"\n",
      "* * * * * * * * * \n",
      "58873\n",
      "\"\n",
      "Then please tell me how such an article is improved. Seriously now, I have found the article Germanic peoples which uses both systems. Now how should we proceed? Leave them both (which is simply strange for the reader and against the rules)? Put a tag? Ask for the opinion of others? Restore the original one? WP:ERA is pretty vague in this matter. It merely says \"\"do not change\"\" but it doesn't say what one should do if another user changed the system by accident or not.   \"\n",
      "* * * * * * * * * \n",
      "59529\n",
      "accident \n",
      "\n",
      "This article should say more about the accident.\n",
      "* * * * * * * * * \n",
      "61838\n",
      "So can we use special needs instead of saying disabilities? In the article it simply states those with disabilities.\n",
      "* * * * * * * * * \n",
      "62602\n",
      "Recall Mechanism \n",
      "\n",
      "Is it worth mentioning how the pokeballs are recalled in the various media? In the anime the actual pokeball is neccesary in order to recall the pokes', while in the games the pokeball seems to disappear and only return when the pokemon is recalled. It's probably rather trivial info, but still.\n",
      "* * * * * * * * * \n",
      "62688\n",
      "\"I removed the references to Count Shinpei Gotō, save those that were relevant to Usui. It was not relevant, for example, to include that Count Gotō was the governor of Tokyo, as this was clearly not relevant to Usui's development as a person. If this is incorrect, an explanation of the influence should be recorded, as well as references, etc., so that the portrait is constrained to Usui instead of including bits of information which seem irrelevant. A link to the entry Count Shinpei Gotō should be included, and such details belong on the linked page. Because I don't have the reference with Frank Arjava Petter in it, I cannot include the reference, thus the \"\"reference needed\"\" tag.   \n",
      "\n",
      "\"\n",
      "* * * * * * * * * \n",
      "62775\n",
      "\"\n",
      "Well said. .Wolfowitz \n",
      "\n",
      "\"\n",
      "* * * * * * * * * \n",
      "63054\n",
      "(I was pretty tired anyway of all the back and forth arguing so I would have left anyway)\n",
      "* * * * * * * * * \n",
      "65533\n",
      ". Both religions hold importance to Jesus\n",
      "* * * * * * * * * \n",
      "65950\n",
      "— translated as The Second Vatican Council: A Unwritten Story, Loreto Publications, 2012. ISBN 9781622920020\n",
      "* * * * * * * * * \n",
      "69094\n",
      "Kibele is a personal enemy of Mr. Bolak. She tries to delete his name where ever she sees. 212.156.67.30\n",
      "* * * * * * * * * \n",
      "69105\n",
      "Dude, don't worry about her. She will be just fine when she calms down.\n",
      "* * * * * * * * * \n",
      "70477\n",
      "VF-84 Jolly Rogers (1955-1995) \n",
      "\n",
      "Didn't they fly S models before they transitioned to the Tomcat?\n",
      "* * * * * * * * * \n"
     ]
    },
    {
     "name": "stdout",
     "output_type": "stream",
     "text": [
      "72863\n",
      "Madness  hey, yo! -)\n",
      "* * * * * * * * * \n",
      "74580\n",
      "\"Haunted Angel I have agreed to leave you alone so dont ban me. I havent\n",
      "posted once since I said \"\"I will leave you alone and stop bothering. I\n",
      "hope you will one day see the light.\"\" Since I have not posted here  \n",
      "\n",
      "\"\n",
      "* * * * * * * * * \n",
      "77051\n",
      "why the Norse were unsuccessful in Greenland\n",
      "* * * * * * * * * \n",
      "77943\n",
      "I'm commenting on your observable actions (your manipulation and abuse of procedure), not speculating on your internal motivation. 61.68.175.113\n",
      "* * * * * * * * * \n",
      "78519\n",
      "Hey great job on finding out who I am typer525. You're a modern day Sherlock Holmes. The hero of Whitney Highschools wikipedia page. Hooray! So when am I going to receive your email? -Karl )\n",
      "* * * * * * * * * \n",
      "79256\n",
      "Smart Man \n",
      "\n",
      "You are smart man but I ask you not to be rude but why believe in God? With all knowledge you that have why believe you in something with no scientific backink.\n",
      "* * * * * * * * * \n",
      "80559\n",
      "I see that you have blocked me.\n",
      "I presume you did not see OpenFuture threat on me\n",
      "\n",
      "I forgot Swedish shady suspicious society Stavgard (talk) \n",
      "You are, as usual, correct. We, The Swedish Branch of the Holy Order of Illuminati, are dead set to make sure the truth about the ancient calendars on Gotland will never reach the public eyes. We have more power than you can imagine. Resistance is futile, you will be assimilated. Don't forget to put on your aluminum foil hat. OpenFuture (talk) \n",
      "\n",
      "Here he accepts that he is going to censure everything that has to do with Gotland\n",
      "* * * * * * * * * \n",
      "83943\n",
      "Indeed, reverting continual vandalism and blocking the vandal is perfectly acceptable.\n",
      "But I don't expect you to agree with that analysis.  I'm only asking you to express your criticism in a constructive manner instead of engaging in personal attacks.  —\n",
      "* * * * * * * * * \n",
      "85923\n",
      "Yeah thats a great idea Mr Template! Just added it in and I'll add appropriate instructions for usage in the relevant areas  contribs/talk\n",
      "* * * * * * * * * \n",
      "87045\n",
      "That guideline has been largely dismissed. The year in front naming convention is only useful for repeated events.\n",
      "* * * * * * * * * \n",
      "90889\n",
      "Scent \n",
      "\n",
      "Does Cocaine smell good?\n",
      "* * * * * * * * * \n",
      "91360\n",
      "He didn't ask me for a followup. As far as I'm concerned, the permission from the museum is perfectly adequate.  Fatuorum\n",
      "* * * * * * * * * \n",
      "94567\n",
      ", 18 July 2008 (UTC)\n",
      "\n",
      "We are not assessing the truth claims of a religion - we are assessing the historicity of an individual.  I would actually be quite happy for evidence to exist - it would make the subject more interesting and wouldn't cause the least problem for my view that the supernatural is merely wishful thinking.  Proving a certain man existed ~2000 years ago is a long way from turning him in to a god!  I'm pretty certain Michael Travesser exists, but he ain't anything other than a delusional man - despite what he and his followers believe.\n",
      "As for your weak attack on my lack of expertise, it's irrelevant.  I'm as capable of sourcing and quoting expert references as the next person.  Wikipedia would be a desolate place if your reinvention of policy was implemented and only experts were able to contribute.  Your irrationality is beginning to show - 'Jesus historicity' and 'Jesus myth' are very much the same thing.  If you don't wish to participate in discussions that trouble you, you will find Conservapedia.com a far more comforting environment.   19:59\n",
      "* * * * * * * * * \n",
      "95567\n",
      "hey buddy Im back \n",
      "\n",
      "Did you miss me ive been thinking of you all day its so great to be back with my people 77.92.65.178  \n",
      " \n",
      "SO whats up? No RBI will not work i can still talk so hows the family? Wife Kids? 77.92.65.178  \n",
      "\n",
      "Come on man your no fun talk to me, are you feeling ok or are you having to cry for help be a man stand up 77.92.67.228  \n",
      "\n",
      "I have an idea it might be easier if you lock your page then i may leave it worked last night no?  (see im nice and stop tagging me im a regulal no need to waste ur time with tags unless ur trying to make ur edit count go up) 77.92.67.231  \n",
      "\n",
      "TROLLING TROLLING TROLLING KEEP THEM BLOCKS AH COMMIING TROLLING (enough with the tags i know what im doing) 77.92.65.179\n",
      "* * * * * * * * * \n",
      "96399\n",
      "I don't see any debate, tenacious or otherwise, over the comma.  ·:·   ·:·\n",
      "* * * * * * * * * \n",
      "99668\n",
      "\"\n",
      "\n",
      "Dont try to fool me\n",
      "DLX, i have been there, i took part in the arguments so don't try to fool me. Your comments were really ennoying because they were full of lies you wrote to make you feel better about your nationality. He already became a good editor, he deleted lies you wrote. He fought against vandalism, because you writing lies in articles is vandalism. My sources are the most real sorces in the world, my family in which everybody fought at The Great Patriotic War 1941-1945, and those who were under Nazi occupation and saw it all. M.V.E.i.  \n",
      "Retrieved from \"\"http://en.wikipedia.org/wiki/User_talk:M.V.E.i.\"\"\"\n",
      "* * * * * * * * * \n",
      "99724\n",
      "{{unblock)) Im sorry, I was just erasing what i thought was wrong, i may have been a bit irratic in my deletion, this is probably due to my Bi-polar and Tourttes, I get can get a bit tempremental when on a low with my bi-polar.\n",
      "* * * * * * * * * \n",
      "99835\n",
      "Characters for Angelmaru,Nyanpire's daughter. \n",
      "\n",
      "Characters\n",
      "\n",
      "A white angel cat who always needs love. She is always very cheerful and has a crush on Doki,Though they are girls. She loves love,but loves other pink things like Fruit punch and pink lemonade.\n",
      "\n",
      "A purple ninja cat falls in love with Angelmaru despite finding out she's a girly girl.\n",
      "\n",
      "A red assassin cat who uses a sword to beat baddies up. She found out about Angelmaru's crush on her.\n",
      "\n",
      "A teal cat with pink freckles and an aqua bandana.She doesn't get along with Angelmaru,But she gets along with her.\n",
      " \n",
      "\n",
      "A pair of bats who are somewhat related to the angel who gave life to Angelmaru.\n",
      "\n",
      "Angelmaru's human owner.\n",
      "* * * * * * * * * \n",
      "101964\n",
      "\"\n",
      "One more note to Strange Passerby, there's something called WP:BUTTOUT. Mind your own business and could you just stop stalking my edits and just leave me alone? I don't know why you are so bent on wishing the worst for me. Similarly, I am fully competent, and if you think I'm not competent, then maybe just leave. It's editors such as yourself with the accusations and stalking of me that just don't want to make me feel welcome here anymore.   ''''''  What did I do this time? \"\n",
      "* * * * * * * * * \n",
      "102372\n",
      "\"\n",
      "listen up, Sj, are you going to let me show you that you are wrong? first, I offered you my email address. then you could email me. second, you are wrong about the \"\"attacks\"\". being \"\"fed up\"\" with incompetence on this site is justifiable. you guys see vandals where there is only a desire to bring back some civilized behavior. we aren't all 4 Chan people. some of us have much more education than you will ever have. are smarter than you will ever be. have connections. are unwilling to let you do what you dang well please.\n",
      "also, tone? have you heard of satire? I don't believe in hate mail. no, talk pages are the downfall of this site. they are a tool for you to do what you want. and no, we don't all have IRC or want to have it. not even all computer operating systems have it.\n",
      "warning? there were no warnings issued. a \"\"vandal seeking-happy user\"\" complained and no warnings were even issued. so you have demonstrated that you are completely incompetent. now, could we maybe start working towards addressing these topics?   \"\n",
      "* * * * * * * * * \n",
      "102424\n",
      "You guys don't know what the hell you are talking about. I have lived in Georgia for most of my life and it turns out that I don't even know what the city is called. heh, )\n",
      "* * * * * * * * * \n",
      "102657\n",
      "Dude this is crazy!!!!\n",
      "* * * * * * * * * \n",
      "105863\n",
      "A Response\n",
      "I am not sure if you are a moderator.  If not, you have no business commenting on the situation.  If you are, then I feel you are overreacting.  I thought I was in sandbox mode.  Is one accident worthy of threats?  As I have said before, you should ask a user what is going on before threatening them with blocks.\n",
      "* * * * * * * * * \n",
      "105974\n",
      "\"\n",
      "After my block has expired, I'll post an equally long list of positive contributions I've made in the short time I've been here. I've done my share of homework as for learning policies and tried to enforce some of them in my constructive edits from the get-go, but apparently all you people do is look for the negative. I'm a proud Jew, therefore when an editor makes a controversial statement such as \"\"there is no such thing as a Jewish nation\"\" I try to protect the well-being of any community (and of course, Wikipedia is no exception) by telling the truth about the statement being racist. Unfortunately, the editor making the antisemitic remark gets patted on the shoulder while I am being called a troll and getting a block for being disruptive. Just like here, this is a norm in the world today. Truly saddening.   \"\n",
      "* * * * * * * * * \n",
      "106346\n",
      "the scholarship you display Tom has to rank amongst the worst known to man. go find something better to do you transient!\n",
      "* * * * * * * * * \n",
      "107215\n",
      "Chelsea Zinn\n",
      "\n",
      "What? You are requesting to delete a profile for which there are thousands of others on Wikipedia. It's a pornstar, deal with it. what are you reasons for deleting it anyway? Devout Christian? Block me for doing the right thing? Haha. Stop being such a tough guy. You and I both know there is no reason to delete it. Stop right now.\n",
      "* * * * * * * * * \n",
      "108566\n",
      "I feel like only coloring half isn't telling the whole story. How about a lighter shade of reddish-brown, e.g. Zinnwaldite as the back? I don't like the idea of highlighting all four in green... can't tell the difference between winners and losers if all the same color-why color at all?. Alternatively, I like the idea of the top two (those who advance) in a light color. Perhaps we could have the top two in green and then bold the last match (e.g. if Sweden won their last match, their total in the W column would be bold).\n",
      "* * * * * * * * * \n"
     ]
    },
    {
     "name": "stdout",
     "output_type": "stream",
     "text": [
      "109052\n",
      "Hmmmmm.  I think you may have tipped your hand by reverting to old form here....\n",
      "* * * * * * * * * \n",
      "111023\n",
      "How about this one, which does both: . It even calls them Juggalos in the headline.\n",
      "* * * * * * * * * \n",
      "111240\n",
      "Watching my every move is harassment, maybe not according to wikipedia but it is still harassment. I am very new at wikipedia and I make mistakes and people like you are not very helpful and are extremely annoying by stalking me. Just leave me alone Gdo01, stop stalking me, stop talking to me (Unless I vandalize something), and just leave me alone. I did not know you could not have more than one account, big deal, I am only 16 and very new at wikipedia but I get it now, so will you just leave me alone? Please? It would be much appreciated. User:Daniel Chiswick 9 May, 2007.\n",
      "* * * * * * * * * \n",
      "111985\n",
      "Rms125a@hotmail.com's vandalism \n",
      "\n",
      "This article has been repeatedly vandalised by Rms125a@hotmail.com. who appears from this and other discussions to be an obsessive compulsive individual with a record of anti-Catholic bigotry (not an issue in this instance). Rms125 has deleted properly researched contributions with unfounded and poorly written passages of which the misidentification of Alzira's paternal grandfather as her father is only one. This is the kind of action that render Wikipedia suspect. A pity.\n",
      "* * * * * * * * * \n",
      "113284\n",
      "Sorry, the block (208.54.95.129) has been reinstituted by Dmcdevit. It doesn't do anything to stop the Cplot sockpuppets, but it does cause trouble for lots off other editors. We hope you'll bear with us.\n",
      "* * * * * * * * * \n",
      "113660\n",
      "\"AndyL,\n",
      "\n",
      "I have deleted your reference to the Canadian Red Ensign and the \"\"Zundel People\"\".\n",
      "I shall keep doing so.\n",
      "\n",
      "EVERYDAY.... If I have to.\n",
      "FOREVER.\n",
      "\n",
      "Next up,\n",
      "\n",
      "You can \"\"expect\"\" nothing.\n",
      "\n",
      "Some \"\"wing-dings\"\" have put up the Red Ensign at this idiots rally once in a while,.... SO WHAT,....?\n",
      "\n",
      "That does NOT make the Red Ensign theirs.\n",
      "\n",
      "Why do you try so hard to link the Red Ensign to this bunch of nut-bags,...?\n",
      "\n",
      "The Red Ensign is a cherished symbol of Canada.\n",
      "\n",
      "I'm trying to protect it from getting slandered by reckless people like you.\n",
      "\n",
      "So AndyL,... why do you keep going to the effort of linking the Red Ensign to \"\"Zundel-people\"\",....?\n",
      "\n",
      "Why make such a big effort to link such insignificant \"\"sightings of the Red Ensign\"\" at Zundel rallies,...?\n",
      "\n",
      "Well,...?\n",
      "\n",
      "Eh,...?\n",
      "\n",
      "Why,...?\n",
      "\n",
      "I am prepared to continue this \"\"debate/deleting\"\" of the Red Ensign racist-group linking, AD-NAUSEIUM, AD-INFINITUM.\n",
      "\n",
      "ArmChairVexillologistDon\n",
      "\n",
      "\"\n",
      "* * * * * * * * * \n",
      "114267\n",
      "All wikia blocks\n",
      "I don't wait to wait 6 months to edit on Memory Delta wiki, please unblock me.98.236.110.176\n",
      "* * * * * * * * * \n",
      "114551\n",
      "Ki$$\n",
      "\n",
      "U know what u can kiss and don't post anymore spam on my talk page !\n",
      "* * * * * * * * * \n",
      "115726\n",
      "\"\n",
      "  Not trying to be clever, only factual. On the relevant edit of \"\"Hamsun's obituary\"\" I added reference to the official translation of the edit I made. Pls see talk-page. \"\"Eisfbnore\"\" and \"\"Jezhotwells\"\" in conjunction edit-warred and appearently solicited blocking and thus excluded the correct translation as main form. I only held to the factually correct, added ref.s, and the combined undoings by \"\"Eisfnore\"\" and \"\"Jezhotwells\"\" made this appear as though I was initiator - incorrectly. This was not a 3RR, as info was added. When two editors with up to 3RR's each join up to edit-war, a solitary user is unfairly outnumbered. This can only be seen as manipulation against me as user, with the intent to maintain/introduce biased info on Wikipedia. I find this shameful, but have neither time nor editing-skills and -knowledge of Wikipedia-arcania to continue these efforts at defending Hamsun's reputation towards the English-speaking world, against such persistent efforts at negatively biasing the impression of Hamsun. The errors are winning. Why isn't reason supported better on Wikipedia? - As for \"\"admin attention\"\", I don't know what or who that is. I have asked \"\"How many am I writing to?\"\" with no answer. I don't have time to deep-reasearch Wikipedia just to defend this one correct word in Hamsun's obituary on Hitler. Seems the rules you bring to bear should be presented before using them - like the \"\"rules\"\" or conventions about \"\"so much admin attention on your page\"\". That's news to me now. What is it?\"\n",
      "* * * * * * * * * \n",
      "116993\n",
      "One question to the admins: If you intend to let the greek nazi propaganda pusher editors shape the article with NO evidence, isn't it better to use a forum to read this greek nazi crap instead of Greekopedia, at leat there they dont have to pretend to be objective.\n",
      "* * * * * * * * * \n",
      "118003\n",
      "If this is how you show you are polite, excuse me, but you must understand why I address you as I would address ein Amerikaner. And if you really are polite, why don't you remove the insanity a kind encyclopedist cared to insert here only because he can't use English or arguments, whichever comes first. Last, this is my last word to you, a woman is dying and all you care to do is to talk cheaply about feeding me some garbage. SAVE TERRI FIST !!!\n",
      "* * * * * * * * * \n",
      "119473\n",
      "Well, I don't know about the citation, but the part about high test scores compared to the rest of AZ is right, that's one reason I moved to the district (so my kids could attend Corona). I can say our neighborhood is a pretty upscale one, but I wouldn't know how many of the students come from here.\n",
      "* * * * * * * * * \n",
      "121871\n",
      "I am genuinely interested in why you are so bad, if that hurt your precious little feelings then TOUGH )\n",
      "* * * * * * * * * \n",
      "122145\n",
      "\"\n",
      "\n",
      " I heard you like hamburgers. \n",
      "\n",
      "  The Hamburglar is a McDonaldland character who features in McDonald's commercials. He is a close friend of Ronald McDonald, Grimace, and Birdie. Even though he has always attempted (and failed) to hoard all the hamburgers in McDonaldland for himself, he has always been looked upon as a valued member of the McDonaldland community.\n",
      "\n",
      "History\n",
      "Despite a few changes made to his appearance over the years, he has always been endearingly loved by fans all over the world. A pint-sized burglar who first appeared in March 1971 and was one of the first villains on the commercials. He was dressed in a black-and-white hooped shirt and pants, a red cape, a wide-brimmed hat, and red gloves. His primary object of theft was hamburgers, hence his name. The character, like Grimace, started out as a villain, only he was old, had a long nose, gray hair, and was called the Lone Jogger in some 1970s commercials, sporting a shirt that said \"\"Lone Jogger\"\". Hamburglar spoke in gibberish which was often translated by Captain Crook.\n",
      "\n",
      "He was revised in 1985, when his look changed from a trollish old man to a red-head Dennis the Menace-type child who spoke and wore a shorter-brimmed hat and a black cape with yellow on the inside. His previously-unintelligible muttering was now the familiar \"\"robble robble.\"\" In \"\"The Wacky Adventures of Ronald McDonald,\"\" he took on a new, sporty appearance wearing green goggles, a leather jacket, striped shirt, shorts and sneakers. He loved playing tricks on his friends and still loved burgers. The last appearances of Hamburglar on television were prime time commercials promoting the dollar menu. Hamburglar was voiced by Howard Morris in most commercials, Charlie Adler in some 1980s commercials and \"\"The Wacky Adventures of Ronald McDonald\"\"; and Carl W. Wolfe in some 1990s commercials.\n",
      "Hamburglar 2015\n",
      "In 2015, new images were released by McDonald's depicting the Hamburglar as a grown man wearing a fedora, a macintosh jacket atop a black-and-white t shirt, with black jeans and with high-top sneakers. He still has a mask, but his face now also sports a good half-inch of designer stubble. The character will be in commercials for the first time since 2002.   \"\n",
      "* * * * * * * * * \n",
      "122175\n",
      "\"\n",
      "\n",
      " Horse racing stubs \n",
      "\n",
      "Hi there, say, if you are tagging articles for wikiproject horse racing, feel free to also assess, looks like the bulk of what you are finding is clearly |class=stub|importance=low, with something occasionally start class.  Nothing stops others from upgrading the assessment, of course, and it would save us a little bit of time if the \"\"tagger\"\" can also assess.  Thanks!  (talk) \"\n",
      "* * * * * * * * * \n",
      "123572\n",
      "Chris, you do realize that S&P; does provoke people right? over the years that i've scoured the an/i, i've come across crybabies, and if i see it i will speak on it, because i personaly believe that administrators couldn't care less about sertain things, so i address it, and i don't sugar coat it, i  tellthe truth and nothing but the truth, mmkay? 199.101.61.190\n",
      "* * * * * * * * * \n",
      "123919\n",
      "Wednesday Next is a devotee of alternative history and the Fringe titles found on the Mind, Body and Spirit bookshelves. He takes it all very seriously. His next reality check involves finding out that the plan of Rosslyn Chapel was not based on the Temple of Solomon.\n",
      "* * * * * * * * * \n",
      "124340\n",
      "The 2004 Election Guide Thing \n",
      "\n",
      "I got the book after the election, but would like to see what's in it. If it's on par with the rest, it'll be hillarious (of course). Does anyone know:\n",
      "     a. Where could I find it?\n",
      "     b. If this is even the right place to ask about it?\n",
      "     c. And, if so, where should I look for it?\n",
      "                                         If anyone can answer any or all of these questions, please tell me at\n",
      "* * * * * * * * * \n"
     ]
    },
    {
     "name": "stdout",
     "output_type": "stream",
     "text": [
      "125024\n",
      "I honestly don't care anymore to argue for YouTube or not, this has gone off-topic because a certain troll has decided to remove any criticism he gets for bothering me. I'm not answering anything until my original messages which he removed are restored. This user has been doing this since this morning.  \n",
      "First of all you removed reliable things. 2 your the troll who is start to personal attack me meaning i have dyslexia and your making fun of me b/c of that, and if you can read which I know you can it has been stated 400 times that the video is not youtub it is Nintendo. \n",
      "\n",
      "I have read enough, I'm not going to play your troll game. This is a waste of time and space. I'm not promoting your attitude and stalker behavior and I'm asking someone else to remove this seeing as this is jut a personal play area for DeityLink to harass and troll me.\n",
      "* * * * * * * * * \n",
      "126571\n",
      "\"\n",
      "\n",
      "According to those SPI notices: I am the SockMaster, and experienced users, Administrators and Check Users are my sockpuppets ???????????? Female Wikipedians are also my sockpuppets . Good thing:  removed those violent  comments by Bangali pigs. He hates Bengalis so much. Alison Favonian found  as Sock of AHLM13 as mentioned on his User talk:Pakistan Commando Force. AHLM13 had extremely bag grammar. Something is not adding up. Can he form multiple personality like OccultZone? One account with good English and another account with intentional bad English?Feel very bad for Cullen. He answered my questions on TeaHouse.   Emperor  \"\n",
      "* * * * * * * * * \n",
      "126645\n",
      "patience\n",
      "For speedy deletion tag on Raman Roy- like I said it is WIP, give it two hours, if still not satisfied please go ahead.\n",
      "* * * * * * * * * \n",
      "127483\n",
      "Go grab sand health hazard.\n",
      "* * * * * * * * * \n",
      "127893\n",
      "\"\n",
      "\n",
      "Hey\n",
      "...\"\"whose entire existence here seems to be devoted to defending one editor\"\": feel free to look at my contributions anytime and eat your fucking crow. I could take a comment like this from someone who has actually done something for this project, not from someone with 3,000 article edits and a pitiful list of created articles, 22 of which are copies of another. \"\"Entire existence\"\" is the kind of hyperbole you are welcome to use, of course, but using it to attack me on a public noticeboard just exposes you for the mediocre editor you are since it invites an investigation into your own existence. I thought you did well to stay away from MF for a while, but I guess you can't teach an old dog new tricks.   \"\n",
      "* * * * * * * * * \n",
      "130329\n",
      "I dont see anything wrong with the link I put there as it is part of Bitcoin and it also helps users learn more about Bitcoin.\n",
      "* * * * * * * * * \n",
      "130627\n",
      "\"\n",
      "\n",
      "If editing \"\"constructively\"\" means forcing myself to some non neutral Administrators' opinion, then I am sorry I cant do that. Anyway I dont consider Wikipedia as a free encyclopdia anymore, I found this ]/vandals.html]|picture. Which fits very correctly to the real picture. Since you were the one to communicate to me, and I am simply respnding back ,  but hahaha    go ahead and tell some admin to block me again. I dont have any respect left for you anymore .  GOOD BYE   \"\n",
      "* * * * * * * * * \n",
      "135157\n",
      "Sekrit answer: can you tell SF that I saw someone comment of 8 significant edit wars to break out during the case, WMC was a primary participant in seven of them is twaddle (you may of course use rather more polite phrasing, or not, at your pleasure) and that commenting on such a case by merely repeating tittle-tattle is a poor way for an Arb to behave.\n",
      " As for Coren, I don't think there is much hope of cradcking the veil of denial, but H's comment xhez NYB first, that you should immediately cease all back-room negotiations is interesting - perhaps you could ask C if any deals were done? Also, I'd be grateful if you could entirely ignore C's advice about whipping the incident into a froth your risk - that is all self-serving on C's part. They are embarrased by the stupidity of the situation they have created and are desperately hoping everyone will shut up.\n",
      " As for RD, you should point out the anomaly of my being blocked while Cla gets off free\n",
      "* * * * * * * * * \n",
      "135460\n",
      "I will ask Giorgos, but I don't think that he will have something good to say. You have being proven to be the number one personal attacker of the team, that is trying to enforce their agenda on anything related with Cyprus. You could have done otherwise, yet not only you let this team to make Cyprus to look, like the worst criminals house, in Wikipedia, but as I see you are leading it as well. What a shame.... By the way, if you think that in this country we will not do anything, and we are going to let you and a few other propagandists portray as as 100 time worst that we are, you are mistaken.\n",
      "* * * * * * * * * \n",
      "135867\n",
      "Dude, at least four people in twelve days have complained about your rampant misuse of speedy delete tagging.  Please, stop it.  You're really becoming a problem.\n",
      "* * * * * * * * * \n",
      "136705\n",
      "\"\n",
      "\n",
      " A Big, Fat, SO WHAT? \n",
      "\n",
      "Anything to do with the CFL.  No one cares.  So what.  Not relevant.  Also this multi-national \"\"American Football\"\" angle deserves a big, fat yawn and another so what.  We know who Bud Grant is, we know who the Minnesota Vikings are, and there's only one football league on the planet, and it's NOT the pimple-faced CFL.  And nothing anyone has ever done in the CFL merits any notice whatsoever, most particularly diluting the great contributions of this great man to a great team.  All that other trash is a distraction away from what's important, and subordinates the significance of the man, the team and the game to a whole bunch of irrelevant people that don't care anyways.  This is what happens when ivory-towered (and foreign) academics write articles they have no connection to.  Any 8th grade Minnesota drop-out understands who Bud Grant is and why he's significant, however international egg-heads might get the impression that this is a refined and polite sport played to illustrate the deep and shared spiritual values between the United States and our irrelevant neighbors to the north, instead of smash-mouth warfare on an American Gridiron managed by giants like Bud Grant.  You can take your international, touchie-feelie, swami-guru political correctness and stuff it.173.174.222.48  \"\n",
      "* * * * * * * * * \n",
      "136802\n",
      "There's a lot more explosive in an ERA box than in a typical incoming warhead, and there is a serious fragmentation and blast damage risk to those standing or sitting nearby.  The US doesn't typically let people ride tanks because tanks attract fire, and people fall off and get run over fairly often (a serious hazard in training, and a significant hazard in combat), and the US has plenty of Humvees and M-2 IFVs.  Other countries tended to both want to reduce training injuries and keep people away from the ERA blocks, and restricted tank riding at the same time.  You saw it a bit in Chechenyia with Russian tanks, but they lost a fair number of infantry to the secondary ERA explosions and stopped doing it.\n",
      "I support putting the article back for that reason...\n",
      "* * * * * * * * * \n",
      "137304\n",
      "\"\n",
      "\n",
      " Yeah Sarek are you going to do something? ~Talk \"\n",
      "* * * * * * * * * \n",
      "138168\n",
      "See Radio Rewind for a 1964-5 listing including Top Gear - and the name preceded the use of gear to descibe drugs or drug paraphernalia - Peeping Tom 24.6.07\n",
      "* * * * * * * * * \n",
      "139630\n",
      ", as we are the official biographers.\n",
      "\n",
      "Can you please restore the article?  An immediate deletion requires a two-way dialogue, one thinks.\n",
      "Or is it common to vandalise someone else’s work?\n",
      "\n",
      "A full permision was given via email.\n",
      "* * * * * * * * * \n",
      "142492\n",
      "trying to save articles\n",
      "Whilst you are quite entitled to try to rescue articles, I think your best chance of doing it, is actually finding some significant third party non trivial coverage instead of persistently arguing over process.\n",
      "* * * * * * * * * \n",
      "143039\n",
      "I don't think there's anything to do here.  —JIM\n",
      "* * * * * * * * * \n",
      "143082\n",
      "Surely what the problem is is that players had gotten used to compensating for the knuckling behaviour of old balls. The new ball knuckles in different ways, and so their old ways of compensating don't work as well any more. 86.138.29.96\n",
      "* * * * * * * * * \n"
     ]
    }
   ],
   "source": [
    "# false positives\n",
    "\n",
    "print(\"Examples of false positives:\")\n",
    "\n",
    "import random, time\n",
    "\n",
    "for i in range(0, len(ols_predictions)):\n",
    "    if (ols_predictions[i] == 1):\n",
    "        if (X_raw_train.iloc[i]['any_toxic'] == 0):\n",
    "            if (random.uniform(0, 1) < 0.05): # to print only 5% of the false positives\n",
    "                print(i)\n",
    "                print(X_raw_train.iloc[i]['comment_text'])\n",
    "                print('* * * * * * * * * ')\n"
   ]
  },
  {
   "cell_type": "markdown",
   "metadata": {},
   "source": [
    "---\n",
    "\n",
    "# <span style=\"color:red\">WARNING: Don't look at test set performance too much!</span>\n",
    "\n",
    "---\n",
    "\n",
    "The following cells show performance on your test set. Do not look at this too often! "
   ]
  },
  {
   "cell_type": "markdown",
   "metadata": {},
   "source": [
    "# Look at performance on the test set"
   ]
  },
  {
   "cell_type": "markdown",
   "metadata": {},
   "source": [
    "### MODEL: ordinary least squares"
   ]
  },
  {
   "cell_type": "code",
   "execution_count": 35,
   "metadata": {},
   "outputs": [
    {
     "name": "stdout",
     "output_type": "stream",
     "text": [
      "{'Pos': 1575, 'Neg': 14383, 'TP': 638, 'TN': 14039, 'FP': 344, 'FN': 937, 'Accuracy': 0.9197267828048628, 'Precision': 0.6496945010183299, 'Recall': 0.4050793650793651, 'desc': 'ols_test'}\n"
     ]
    }
   ],
   "source": [
    "ols_performance_test = BinaryClassificationPerformance(ols.predict(X_test), y_test, 'ols_test')\n",
    "ols_performance_test.compute_measures()\n",
    "print(ols_performance_test.performance_measures)"
   ]
  },
  {
   "cell_type": "markdown",
   "metadata": {},
   "source": [
    "### MODEL: SVM, linear"
   ]
  },
  {
   "cell_type": "code",
   "execution_count": 36,
   "metadata": {},
   "outputs": [
    {
     "name": "stdout",
     "output_type": "stream",
     "text": [
      "{'Pos': 1575, 'Neg': 14383, 'TP': 645, 'TN': 13983, 'FP': 400, 'FN': 930, 'Accuracy': 0.9166562225842837, 'Precision': 0.6172248803827751, 'Recall': 0.4095238095238095, 'desc': 'svm_test'}\n"
     ]
    }
   ],
   "source": [
    "svm_performance_test = BinaryClassificationPerformance(svm.predict(X_test), y_test, 'svm_test')\n",
    "svm_performance_test.compute_measures()\n",
    "print(svm_performance_test.performance_measures)"
   ]
  },
  {
   "cell_type": "markdown",
   "metadata": {},
   "source": [
    "### MODEL: logistic regression"
   ]
  },
  {
   "cell_type": "code",
   "execution_count": 37,
   "metadata": {},
   "outputs": [
    {
     "name": "stdout",
     "output_type": "stream",
     "text": [
      "{'Pos': 1575, 'Neg': 14383, 'TP': 625, 'TN': 14022, 'FP': 361, 'FN': 950, 'Accuracy': 0.9178468479759369, 'Precision': 0.6338742393509128, 'Recall': 0.3968253968253968, 'desc': 'lgs_test'}\n"
     ]
    }
   ],
   "source": [
    "lgs_performance_test = BinaryClassificationPerformance(lgs.predict(X_test), y_test, 'lgs_test')\n",
    "lgs_performance_test.compute_measures()\n",
    "print(lgs_performance_test.performance_measures)"
   ]
  },
  {
   "cell_type": "markdown",
   "metadata": {},
   "source": [
    "### MODEL: Naive Bayes"
   ]
  },
  {
   "cell_type": "code",
   "execution_count": 38,
   "metadata": {},
   "outputs": [
    {
     "name": "stdout",
     "output_type": "stream",
     "text": [
      "{'Pos': 1575, 'Neg': 14383, 'TP': 1118, 'TN': 12310, 'FP': 2073, 'FN': 457, 'Accuracy': 0.8414588294272465, 'Precision': 0.35036038859291757, 'Recall': 0.7098412698412698, 'desc': 'nbs_test'}\n"
     ]
    }
   ],
   "source": [
    "nbs_performance_test = BinaryClassificationPerformance(nbs.predict(X_test), y_test, 'nbs_test')\n",
    "nbs_performance_test.compute_measures()\n",
    "print(nbs_performance_test.performance_measures)"
   ]
  },
  {
   "cell_type": "markdown",
   "metadata": {},
   "source": [
    "### MODEL: Perceptron"
   ]
  },
  {
   "cell_type": "code",
   "execution_count": 39,
   "metadata": {},
   "outputs": [
    {
     "name": "stdout",
     "output_type": "stream",
     "text": [
      "{'Pos': 1575, 'Neg': 14383, 'TP': 655, 'TN': 13798, 'FP': 585, 'FN': 920, 'Accuracy': 0.9056899360822158, 'Precision': 0.5282258064516129, 'Recall': 0.4158730158730159, 'desc': 'prc_test'}\n"
     ]
    }
   ],
   "source": [
    "prc_performance_test = BinaryClassificationPerformance(prc.predict(X_test), y_test, 'prc_test')\n",
    "prc_performance_test.compute_measures()\n",
    "print(prc_performance_test.performance_measures)"
   ]
  },
  {
   "cell_type": "markdown",
   "metadata": {},
   "source": [
    "### MODEL: Ridge Regression Classifier"
   ]
  },
  {
   "cell_type": "code",
   "execution_count": 40,
   "metadata": {},
   "outputs": [
    {
     "name": "stdout",
     "output_type": "stream",
     "text": [
      "{'Pos': 1575, 'Neg': 14383, 'TP': 418, 'TN': 14317, 'FP': 66, 'FN': 1157, 'Accuracy': 0.9233613234741196, 'Precision': 0.8636363636363636, 'Recall': 0.2653968253968254, 'desc': 'rdg_test'}\n"
     ]
    }
   ],
   "source": [
    "rdg_performance_test = BinaryClassificationPerformance(rdg.predict(X_test), y_test, 'rdg_test')\n",
    "rdg_performance_test.compute_measures()\n",
    "print(rdg_performance_test.performance_measures)"
   ]
  },
  {
   "cell_type": "markdown",
   "metadata": {},
   "source": [
    "### MODEL: Random Forest Classifier"
   ]
  },
  {
   "cell_type": "code",
   "execution_count": 41,
   "metadata": {},
   "outputs": [
    {
     "name": "stdout",
     "output_type": "stream",
     "text": [
      "{'Pos': 1575, 'Neg': 14383, 'TP': 0, 'TN': 14383, 'FP': 0, 'FN': 1575, 'Accuracy': 0.9013034214813886, 'Precision': nan, 'Recall': 0.0, 'desc': 'rdf_test'}\n"
     ]
    }
   ],
   "source": [
    "rdf_performance_test = BinaryClassificationPerformance(rdf.predict(X_test), y_test, 'rdf_test')\n",
    "rdf_performance_test.compute_measures()\n",
    "print(rdf_performance_test.performance_measures)"
   ]
  },
  {
   "cell_type": "markdown",
   "metadata": {},
   "source": [
    "### ROC plot to compare performance of various models and fits"
   ]
  },
  {
   "cell_type": "code",
   "execution_count": 42,
   "metadata": {},
   "outputs": [
    {
     "data": {
      "image/png": "[encoded data removed]",
      "text/plain": [
       "<Figure size 432x288 with 1 Axes>"
      ]
     },
     "metadata": {
      "needs_background": "light"
     },
     "output_type": "display_data"
    }
   ],
   "source": [
    "fits = [ols_performance_test, svm_performance_test, lgs_performance_test, nbs_performance_test, prc_performance_test, rdg_performance_test, rdf_performance_test]\n",
    "\n",
    "for fit in fits:\n",
    "    plt.plot(fit.performance_measures['FP'] / fit.performance_measures['Neg'], \n",
    "             fit.performance_measures['TP'] / fit.performance_measures['Pos'], 'bo')\n",
    "    plt.text(fit.performance_measures['FP'] / fit.performance_measures['Neg'], \n",
    "             fit.performance_measures['TP'] / fit.performance_measures['Pos'], fit.desc)\n",
    "plt.axis([0, 1, 0, 1])\n",
    "plt.title('ROC plot: test set')\n",
    "plt.xlabel('False positive rate')\n",
    "plt.ylabel('True positive rate')\n",
    "plt.show()"
   ]
  },
  {
   "cell_type": "markdown",
   "metadata": {},
   "source": [
    "---\n",
    "\n",
    "# <span style=\"color:red\">SUBMISSION</span>\n",
    "\n",
    "---"
   ]
  },
  {
   "cell_type": "code",
   "execution_count": 43,
   "metadata": {},
   "outputs": [
    {
     "name": "stdout",
     "output_type": "stream",
     "text": [
      "toxic_data is: <class 'pandas.core.frame.DataFrame'>\n",
      "toxic_data has 153164 rows and 2 columns \n",
      "\n",
      "the data types for each of the columns in toxic_data:\n",
      "id              object\n",
      "comment_text    object\n",
      "dtype: object \n",
      "\n",
      "the first 10 rows in toxic_data:\n",
      "                 id                                       comment_text\n",
      "0  00001cee341fdb12  Yo bitch Ja Rule is more succesful then you'll...\n",
      "1  0000247867823ef7  == From RfC == \\n\\n The title is fine as it is...\n",
      "2  00013b17ad220c46  \" \\n\\n == Sources == \\n\\n * Zawe Ashton on Lap...\n",
      "3  00017563c3f7919a  :If you have a look back at the source, the in...\n",
      "4  00017695ad8997eb          I don't anonymously edit articles at all.\n",
      "Shape of HashingVectorizer X:\n",
      "(153164, 1024)\n",
      "Look at a few rows of the new quantitative features: \n",
      "   word_count  punc_count\n",
      "0          72          10\n",
      "1          13           1\n",
      "2          16           0\n",
      "3          38           3\n",
      "4           7           1\n",
      "5          16           2\n",
      "6          31           4\n",
      "7           6           1\n",
      "8         109           9\n",
      "9          41           0\n",
      "Size of combined bag of words and new quantitative variables matrix:\n",
      "(153164, 1026)\n",
      "(153164, 1026)\n",
      "Shape of X_test for submission:\n",
      "(153164, 1026)\n",
      "SUCCESS!\n",
      "Number of rows in the submission test set (should be 153,164): \n"
     ]
    }
   ],
   "source": [
    "# read in test data for submission\n",
    "# CHANGE FILE PATH and my_random_seed number (any integer other than 74 will do): \n",
    "raw_data, X_test_submission = process_raw_data(fn='toxiccomments_test.csv', my_random_seed=48, test=True)\n",
    "print(\"Number of rows in the submission test set (should be 153,164): \")"
   ]
  },
  {
   "cell_type": "markdown",
   "metadata": {},
   "source": [
    "---\n",
    "\n",
    "Choose a <span style=\"color:red\">*single*</span> model for your submission. In this code, I am choosing the Ordinary Least Squares model fit, which is in the `ols` object. But you should choose the model that is performing the best for you! "
   ]
  },
  {
   "cell_type": "code",
   "execution_count": 45,
   "metadata": {},
   "outputs": [
    {
     "name": "stdout",
     "output_type": "stream",
     "text": [
      "0.2512078556318717\n"
     ]
    }
   ],
   "source": [
    "# store the id from the raw data\n",
    "my_submission = pd.DataFrame(raw_data[\"id\"])\n",
    "# concatenate predictions to the id\n",
    "my_submission[\"prediction\"] = nbs.predict(X_test_submission)\n",
    "# look at the proportion of positive predictions\n",
    "print(my_submission['prediction'].mean())"
   ]
  },
  {
   "cell_type": "code",
   "execution_count": 46,
   "metadata": {},
   "outputs": [
    {
     "data": {
      "text/html": [
       "<div>\n",
       "<style scoped>\n",
       "    .dataframe tbody tr th:only-of-type {\n",
       "        vertical-align: middle;\n",
       "    }\n",
       "\n",
       "    .dataframe tbody tr th {\n",
       "        vertical-align: top;\n",
       "    }\n",
       "\n",
       "    .dataframe thead th {\n",
       "        text-align: right;\n",
       "    }\n",
       "</style>\n",
       "<table border=\"1\" class=\"dataframe\">\n",
       "  <thead>\n",
       "    <tr style=\"text-align: right;\">\n",
       "      <th></th>\n",
       "      <th>id</th>\n",
       "      <th>comment_text</th>\n",
       "      <th>word_count</th>\n",
       "      <th>punc_count</th>\n",
       "    </tr>\n",
       "  </thead>\n",
       "  <tbody>\n",
       "    <tr>\n",
       "      <td>0</td>\n",
       "      <td>00001cee341fdb12</td>\n",
       "      <td>Yo bitch Ja Rule is more succesful then you'll...</td>\n",
       "      <td>72</td>\n",
       "      <td>10</td>\n",
       "    </tr>\n",
       "    <tr>\n",
       "      <td>1</td>\n",
       "      <td>0000247867823ef7</td>\n",
       "      <td>== From RfC == \\n\\n The title is fine as it is...</td>\n",
       "      <td>13</td>\n",
       "      <td>1</td>\n",
       "    </tr>\n",
       "    <tr>\n",
       "      <td>2</td>\n",
       "      <td>00013b17ad220c46</td>\n",
       "      <td>\" \\n\\n == Sources == \\n\\n * Zawe Ashton on Lap...</td>\n",
       "      <td>16</td>\n",
       "      <td>0</td>\n",
       "    </tr>\n",
       "    <tr>\n",
       "      <td>3</td>\n",
       "      <td>00017563c3f7919a</td>\n",
       "      <td>:If you have a look back at the source, the in...</td>\n",
       "      <td>38</td>\n",
       "      <td>3</td>\n",
       "    </tr>\n",
       "    <tr>\n",
       "      <td>4</td>\n",
       "      <td>00017695ad8997eb</td>\n",
       "      <td>I don't anonymously edit articles at all.</td>\n",
       "      <td>7</td>\n",
       "      <td>1</td>\n",
       "    </tr>\n",
       "  </tbody>\n",
       "</table>\n",
       "</div>"
      ],
      "text/plain": [
       "                 id                                       comment_text  \\\n",
       "0  00001cee341fdb12  Yo bitch Ja Rule is more succesful then you'll...   \n",
       "1  0000247867823ef7  == From RfC == \\n\\n The title is fine as it is...   \n",
       "2  00013b17ad220c46  \" \\n\\n == Sources == \\n\\n * Zawe Ashton on Lap...   \n",
       "3  00017563c3f7919a  :If you have a look back at the source, the in...   \n",
       "4  00017695ad8997eb          I don't anonymously edit articles at all.   \n",
       "\n",
       "   word_count  punc_count  \n",
       "0          72          10  \n",
       "1          13           1  \n",
       "2          16           0  \n",
       "3          38           3  \n",
       "4           7           1  "
      ]
     },
     "execution_count": 46,
     "metadata": {},
     "output_type": "execute_result"
    }
   ],
   "source": [
    "raw_data.head()"
   ]
  },
  {
   "cell_type": "code",
   "execution_count": 47,
   "metadata": {},
   "outputs": [
    {
     "data": {
      "text/html": [
       "<div>\n",
       "<style scoped>\n",
       "    .dataframe tbody tr th:only-of-type {\n",
       "        vertical-align: middle;\n",
       "    }\n",
       "\n",
       "    .dataframe tbody tr th {\n",
       "        vertical-align: top;\n",
       "    }\n",
       "\n",
       "    .dataframe thead th {\n",
       "        text-align: right;\n",
       "    }\n",
       "</style>\n",
       "<table border=\"1\" class=\"dataframe\">\n",
       "  <thead>\n",
       "    <tr style=\"text-align: right;\">\n",
       "      <th></th>\n",
       "      <th>id</th>\n",
       "      <th>prediction</th>\n",
       "    </tr>\n",
       "  </thead>\n",
       "  <tbody>\n",
       "    <tr>\n",
       "      <td>0</td>\n",
       "      <td>00001cee341fdb12</td>\n",
       "      <td>True</td>\n",
       "    </tr>\n",
       "    <tr>\n",
       "      <td>1</td>\n",
       "      <td>0000247867823ef7</td>\n",
       "      <td>False</td>\n",
       "    </tr>\n",
       "    <tr>\n",
       "      <td>2</td>\n",
       "      <td>00013b17ad220c46</td>\n",
       "      <td>False</td>\n",
       "    </tr>\n",
       "    <tr>\n",
       "      <td>3</td>\n",
       "      <td>00017563c3f7919a</td>\n",
       "      <td>False</td>\n",
       "    </tr>\n",
       "    <tr>\n",
       "      <td>4</td>\n",
       "      <td>00017695ad8997eb</td>\n",
       "      <td>False</td>\n",
       "    </tr>\n",
       "  </tbody>\n",
       "</table>\n",
       "</div>"
      ],
      "text/plain": [
       "                 id  prediction\n",
       "0  00001cee341fdb12        True\n",
       "1  0000247867823ef7       False\n",
       "2  00013b17ad220c46       False\n",
       "3  00017563c3f7919a       False\n",
       "4  00017695ad8997eb       False"
      ]
     },
     "execution_count": 47,
     "metadata": {},
     "output_type": "execute_result"
    }
   ],
   "source": [
    "my_submission.head()"
   ]
  },
  {
   "cell_type": "code",
   "execution_count": 48,
   "metadata": {},
   "outputs": [
    {
     "data": {
      "text/plain": [
       "(153164, 2)"
      ]
     },
     "execution_count": 48,
     "metadata": {},
     "output_type": "execute_result"
    }
   ],
   "source": [
    "my_submission.shape"
   ]
  },
  {
   "cell_type": "code",
   "execution_count": 49,
   "metadata": {},
   "outputs": [],
   "source": [
    "# export submission file as pdf\n",
    "# CHANGE FILE PATH: \n",
    "my_submission.to_csv('toxiccomments_submission.csv', index=False)"
   ]
  },
  {
   "cell_type": "markdown",
   "metadata": {},
   "source": [
    "# Submit to Canvas: 1) the CSV file that was written in the previous cell and 2) the url to the repository (GitHub or other) that contains your code and documentation"
   ]
  },
  {
   "cell_type": "code",
   "execution_count": 53,
   "metadata": {},
   "outputs": [],
   "source": [
    "my_submission.to_csv('toxiccomments_submission.csv', index=False)"
   ]
  },
  {
   "cell_type": "code",
   "execution_count": null,
   "metadata": {},
   "outputs": [],
   "source": [
    "my_submission.to_csv('toxiccomments_submission.csv', index=False)"
   ]
  },
  {
   "cell_type": "code",
   "execution_count": null,
   "metadata": {},
   "outputs": [],
   "source": []
  },
  {
   "cell_type": "code",
   "execution_count": null,
   "metadata": {},
   "outputs": [],
   "source": []
  },
  {
   "cell_type": "code",
   "execution_count": null,
   "metadata": {},
   "outputs": [],
   "source": []
  },
  {
   "cell_type": "code",
   "execution_count": null,
   "metadata": {},
   "outputs": [],
   "source": []
  },
  {
   "cell_type": "code",
   "execution_count": null,
   "metadata": {},
   "outputs": [],
   "source": []
  }
 ],
 "metadata": {
  "kernelspec": {
   "display_name": "Python 3",
   "language": "python",
   "name": "python3"
  },
  "language_info": {
   "codemirror_mode": {
    "name": "ipython",
    "version": 3
   },
   "file_extension": ".py",
   "mimetype": "text/x-python",
   "name": "python",
   "nbconvert_exporter": "python",
   "pygments_lexer": "ipython3",
   "version": "3.7.4"
  }
 },
 "nbformat": 4,
 "nbformat_minor": 2
}
